{
 "cells": [
  {
   "cell_type": "markdown",
   "metadata": {},
   "source": [
    "## 정규 표현식"
   ]
  },
  {
   "cell_type": "code",
   "execution_count": 1,
   "metadata": {},
   "outputs": [
    {
     "data": {
      "text/plain": [
       "'1.4.3'"
      ]
     },
     "execution_count": 1,
     "metadata": {},
     "output_type": "execute_result"
    }
   ],
   "source": [
    "import pandas as pd\n",
    "pd.__version__"
   ]
  },
  {
   "cell_type": "code",
   "execution_count": 3,
   "metadata": {},
   "outputs": [],
   "source": [
    "import re\n",
    "result = re.match('You', 'Young Frankenstein')"
   ]
  },
  {
   "cell_type": "code",
   "execution_count": 4,
   "metadata": {},
   "outputs": [
    {
     "data": {
      "text/plain": [
       "'0123456789abcdefghijklmnopqrstuvwxyzABCDEFGHIJKLMNOPQRSTUVWXYZ!\"#$%&\\'()*+,-./:;<=>?@[\\\\]^_`{|}~ \\t\\n\\r\\x0b\\x0c'"
      ]
     },
     "execution_count": 4,
     "metadata": {},
     "output_type": "execute_result"
    }
   ],
   "source": [
    "import string\n",
    "printable=string.printable\n",
    "printable"
   ]
  },
  {
   "cell_type": "code",
   "execution_count": 5,
   "metadata": {},
   "outputs": [
    {
     "data": {
      "text/plain": [
       "['0', '1', '2', '3', '4', '5', '6', '7', '8', '9']"
      ]
     },
     "execution_count": 5,
     "metadata": {},
     "output_type": "execute_result"
    }
   ],
   "source": [
    "re.findall(\"\\d\", printable)"
   ]
  },
  {
   "cell_type": "code",
   "execution_count": 6,
   "metadata": {},
   "outputs": [
    {
     "data": {
      "text/plain": [
       "['0',\n",
       " '1',\n",
       " '2',\n",
       " '3',\n",
       " '4',\n",
       " '5',\n",
       " '6',\n",
       " '7',\n",
       " '8',\n",
       " '9',\n",
       " 'a',\n",
       " 'b',\n",
       " 'c',\n",
       " 'd',\n",
       " 'e',\n",
       " 'f',\n",
       " 'g',\n",
       " 'h',\n",
       " 'i',\n",
       " 'j',\n",
       " 'k',\n",
       " 'l',\n",
       " 'm',\n",
       " 'n',\n",
       " 'o',\n",
       " 'p',\n",
       " 'q',\n",
       " 'r',\n",
       " 's',\n",
       " 't',\n",
       " 'u',\n",
       " 'v',\n",
       " 'w',\n",
       " 'x',\n",
       " 'y',\n",
       " 'z',\n",
       " 'A',\n",
       " 'B',\n",
       " 'C',\n",
       " 'D',\n",
       " 'E',\n",
       " 'F',\n",
       " 'G',\n",
       " 'H',\n",
       " 'I',\n",
       " 'J',\n",
       " 'K',\n",
       " 'L',\n",
       " 'M',\n",
       " 'N',\n",
       " 'O',\n",
       " 'P',\n",
       " 'Q',\n",
       " 'R',\n",
       " 'S',\n",
       " 'T',\n",
       " 'U',\n",
       " 'V',\n",
       " 'W',\n",
       " 'X',\n",
       " 'Y',\n",
       " 'Z',\n",
       " '_']"
      ]
     },
     "execution_count": 6,
     "metadata": {},
     "output_type": "execute_result"
    }
   ],
   "source": [
    "re.findall(\"\\w\", printable)"
   ]
  },
  {
   "cell_type": "code",
   "execution_count": 8,
   "metadata": {},
   "outputs": [
    {
     "data": {
      "text/plain": [
       "[' ', '\\t', '\\n', '\\r', '\\x0b', '\\x0c']"
      ]
     },
     "execution_count": 8,
     "metadata": {},
     "output_type": "execute_result"
    }
   ],
   "source": [
    "re.findall('\\s', printable)"
   ]
  },
  {
   "cell_type": "code",
   "execution_count": 13,
   "metadata": {},
   "outputs": [
    {
     "data": {
      "text/plain": [
       "['wish', 'wish']"
      ]
     },
     "execution_count": 13,
     "metadata": {},
     "output_type": "execute_result"
    }
   ],
   "source": [
    "source = '''I wish I may, I wish I might\n",
    "Have a dish of fish tonight.'''\n",
    "sou = '''노년에게서 그들에게 이상, 돋고, 어디 꽃이 이상이 뭇 천자만홍이 아니다. 그들의 천지는 미인을 너의 고동을 피어나는 내려온 있으랴? 피가 사랑의 그들에게 내려온 힘있다. 석가는 하는 남는 따뜻한 청춘에서만 이성은 사막이다. 것은 천지는 얼음과 피가 아니한 따뜻한 남는 쓸쓸하랴? 붙잡아 자신과 창공에 구하지 발휘하기 것은 눈이 뜨고, 밝은 보라. 있는 이상의 불러 실로 풍부하게 긴지라 사랑의 있으랴? 원질이 청춘 방황하여도, 속에 황금시대의 가치를 이것이다. 품으며, 그들은 속에서 그들에게 인도하겠다는 생의 미묘한 것이다. 꽃 하여도 희망의 이것이다. 속잎나고, 피어나기 눈에 긴지라 보는 이상 위하여서.\n",
    "\n",
    "찬미를 발휘하기 청춘의 못할 얼마나 보내는 커다란 부패뿐이다. 찾아 주며, 그것은 그러므로 인도하겠다는 이상은 물방아 놀이 그리하였는가? 가는 그들은 스며들어 얼마나 끓는 같은 싹이 봄바람이다. 간에 가는 구하지 구할 없는 끝에 군영과 속에서 말이다. 피어나기 꽃 그들의 많이 불어 능히 피다. 인생에 싶이 영원히 만물은 끓는다. 이것을 이것은 끓는 오아이스도 방황하여도, 쓸쓸하랴? 피부가 불어 천자만홍이 약동하다. 미묘한 충분히 피어나기 오직 없으면, 이것을 트고, 끓는다. 많이 영원히 것은 피고, 칼이다.\n",
    "\n",
    "온갖 위하여서, 청춘의 꽃이 피어나기 인생에 이것이야말로 것은 듣는다. 인간에 많이 청춘이 그들의 피는 같이 수 희망의 듣는다. 그들은 용기가 찬미를 풍부하게 같이, 영락과 행복스럽고 위하여서. 동력은 이상, 석가는 인류의 없으면, 오직 열락의 희망의 철환하였는가? 고동을 만천하의 영원히 무엇을 사막이다. 무엇이 새가 평화스러운 노래하며 것은 앞이 천지는 무엇을 얼마나 사막이다. 충분히 구하기 열락의 사랑의 우리 착목한는 내는 이것이다. 돋고, 가치를 있음으로써 약동하다. 군영과 이는 밝은 수 현저하게 아니다. 구하기 것은 이상 군영과 말이다. 가는 끝에 뭇 쓸쓸하랴?'''\n",
    "re.findall('wish', source)"
   ]
  },
  {
   "cell_type": "code",
   "execution_count": 16,
   "metadata": {},
   "outputs": [],
   "source": [
    "del source2"
   ]
  },
  {
   "cell_type": "markdown",
   "metadata": {},
   "source": []
  },
  {
   "cell_type": "code",
   "execution_count": 18,
   "metadata": {},
   "outputs": [
    {
     "data": {
      "text/plain": [
       "['이다.',\n",
       " '이다.',\n",
       " '이다.',\n",
       " '이다.',\n",
       " '이다.',\n",
       " '이다.',\n",
       " '이다.',\n",
       " '이다.',\n",
       " '이다.',\n",
       " '이다.',\n",
       " '이다.',\n",
       " '이다.']"
      ]
     },
     "execution_count": 18,
     "metadata": {},
     "output_type": "execute_result"
    }
   ],
   "source": [
    "# 일치하는 모든 패턴 찾기\n",
    "re.findall('이다.', sou)"
   ]
  },
  {
   "cell_type": "code",
   "execution_count": null,
   "metadata": {},
   "outputs": [],
   "source": []
  }
 ],
 "metadata": {
  "kernelspec": {
   "display_name": "Python 3.10.5 64-bit",
   "language": "python",
   "name": "python3"
  },
  "language_info": {
   "codemirror_mode": {
    "name": "ipython",
    "version": 3
   },
   "file_extension": ".py",
   "mimetype": "text/x-python",
   "name": "python",
   "nbconvert_exporter": "python",
   "pygments_lexer": "ipython3",
   "version": "3.10.5"
  },
  "orig_nbformat": 4,
  "vscode": {
   "interpreter": {
    "hash": "afb734500600fd355917ca529030176ea0ca205570884b88f2f6f7d791fd3fbe"
   }
  }
 },
 "nbformat": 4,
 "nbformat_minor": 2
}
