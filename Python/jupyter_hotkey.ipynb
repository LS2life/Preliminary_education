{
 "cells": [
  {
   "cell_type": "markdown",
   "metadata": {},
   "source": [
    "- a : 위에 새로운 셀 추가\n",
    "- b : 아래에 새로운 셀 추가\n",
    "\n",
    "<br/>\n",
    "\n",
    "- c : 셀 복사하기\n",
    "- x : 셀 잘라내기\n",
    "- v : 셀 붙여넣기\n",
    "\n",
    "<br/>\n",
    "\n",
    "- dd : 셀 삭제하기\n",
    "- p : 셀 아래에 붙여넣기\n",
    " \n",
    "<br/>\n",
    "\n",
    "- o : 실행결과 열기/닫기\n",
    "- m : Markdown으로 변경\n",
    "- y : Code로 변경\n",
    "\n",
    "<br/>\n",
    "\n",
    "- Shift + m : 선택 셀과 아래 셀과 합치기\n",
    "- Ctrl + s 또는 s  : 파일 저장\n",
    "- Enter  : 선택 셀의 코드 입력 모드로 돌아가기"
   ]
  },
  {
   "cell_type": "markdown",
   "metadata": {},
   "source": [
    "- Ctrl + Enter : 입력 셀 실행 \n",
    "- Alt + Enter : 입력영역 실행 후 아래 새로운 영역 추가\n",
    "- Shift + Enter : 입력 셀 실행 후 아래 셀로 이동 (없으면 새로운 셀 추가)\n",
    "\n",
    "\n",
    "- Ctrl + a : 선택 셀의 코드 전체 선택\n",
    "- Ctrl + z : 선택 셀 내 실행 취소\n",
    "- Ctrl + y : 선택 셀 내 다시 실행\n",
    "- Ctrl + / : 커서 위치 라인 주석처리\n",
    " \n",
    "- Shitf + Ctrl + - : 커서 위치에서 셀 둘로 나누기"
   ]
  }
 ],
 "metadata": {
  "kernelspec": {
   "display_name": "Python 3.10.5 64-bit",
   "language": "python",
   "name": "python3"
  },
  "language_info": {
   "name": "python",
   "version": "3.10.5"
  },
  "orig_nbformat": 4,
  "vscode": {
   "interpreter": {
    "hash": "afb734500600fd355917ca529030176ea0ca205570884b88f2f6f7d791fd3fbe"
   }
  }
 },
 "nbformat": 4,
 "nbformat_minor": 2
}
