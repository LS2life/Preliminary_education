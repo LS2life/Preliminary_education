{
 "cells": [
  {
   "cell_type": "markdown",
   "metadata": {},
   "source": [
    "### 점 위치 구하기"
   ]
  },
  {
   "cell_type": "code",
   "execution_count": 6,
   "metadata": {},
   "outputs": [
    {
     "data": {
      "text/plain": [
       "1"
      ]
     },
     "execution_count": 6,
     "metadata": {},
     "output_type": "execute_result"
    }
   ],
   "source": [
    "dot=[2, 4]\n",
    "dot1=[-7, 9]\n",
    "\n",
    "def sol(dot):\n",
    "    if dot[0] > 0 and dot[1] > 0:\n",
    "        return 1\n",
    "    elif dot[0] < 0 and dot[2] > 0:\n",
    "        return 2\n",
    "    elif dot[0] < 0 and dot[2] < 0:\n",
    "        return 3\n",
    "    elif dot[0] > 0 and dot[2] < 0:\n",
    "        return 4\n",
    "\n",
    "sol(dot)"
   ]
  },
  {
   "cell_type": "markdown",
   "metadata": {},
   "source": [
    "### 배열 유사도"
   ]
  },
  {
   "cell_type": "code",
   "execution_count": 56,
   "metadata": {},
   "outputs": [
    {
     "data": {
      "text/plain": [
       "0"
      ]
     },
     "execution_count": 56,
     "metadata": {},
     "output_type": "execute_result"
    }
   ],
   "source": [
    "s1=[\"a\", \"b\", \"c\"]\n",
    "s2=[\"com\", \"b\", \"d\", \"p\", \"c\"]\n",
    "s3=[\"n\", \"omg\"]\n",
    "s4=[\"m\", \"dot\"]\n",
    "\n",
    "def f(x,y):\n",
    "    answer = 0\n",
    "    # for y in x:\n",
    "    #     answer += 0\n",
    "    # return answer\n",
    "\n",
    "f(s1,s2)"
   ]
  }
 ],
 "metadata": {
  "kernelspec": {
   "display_name": "Python 3.10.6 64-bit",
   "language": "python",
   "name": "python3"
  },
  "language_info": {
   "codemirror_mode": {
    "name": "ipython",
    "version": 3
   },
   "file_extension": ".py",
   "mimetype": "text/x-python",
   "name": "python",
   "nbconvert_exporter": "python",
   "pygments_lexer": "ipython3",
   "version": "3.10.6"
  },
  "orig_nbformat": 4,
  "vscode": {
   "interpreter": {
    "hash": "916dbcbb3f70747c44a77c7bcd40155683ae19c65e1c03b4aa3499c5328201f1"
   }
  }
 },
 "nbformat": 4,
 "nbformat_minor": 2
}
