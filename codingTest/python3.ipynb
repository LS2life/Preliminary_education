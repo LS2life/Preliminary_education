{
 "cells": [
  {
   "cell_type": "markdown",
   "metadata": {},
   "source": [
    "### 코드 실행시간 측정해볼것.\n",
    "\n",
    "- 단순할 수록 빠를 수록 좋은거 아닐까"
   ]
  },
  {
   "cell_type": "code",
   "execution_count": null,
   "metadata": {},
   "outputs": [
    {
     "name": "stdout",
     "output_type": "stream",
     "text": [
      "Time elapsed:  5.8411009376868606e-05\n",
      "Time elapsed:  0:00:00.000058\n"
     ]
    }
   ],
   "source": [
    "from timeit import default_timer as ti\n",
    "from datetime import timedelta\n",
    "\n",
    "start = ti()\n",
    "\n",
    "end = ti()\n",
    "\n",
    "print ('Time elapsed: ', end - start)\n",
    "print ('Time elapsed: ', timedelta(seconds=end-start))\n"
   ]
  },
  {
   "cell_type": "markdown",
   "metadata": {},
   "source": [
    "### 각도별 대응값 return"
   ]
  },
  {
   "cell_type": "code",
   "execution_count": 7,
   "metadata": {
    "collapsed": false
   },
   "outputs": [
    {
     "data": {
      "text/plain": [
       "4"
      ]
     },
     "execution_count": 7,
     "metadata": {},
     "output_type": "execute_result"
    }
   ],
   "source": [
    "# 360도는 필요 없는 갠가?\n",
    "def solution(ang):\n",
    "    if 0<ang<90: return 1\n",
    "    elif ang==90: return 2\n",
    "    elif 90<ang<180: return 3\n",
    "    elif ang==180: return 4\n",
    "    \n",
    "    \n",
    "\n",
    "solution(180)"
   ]
  },
  {
   "cell_type": "markdown",
   "metadata": {},
   "source": [
    "### 입력값 보다 작은 짝수 모두 더하기"
   ]
  },
  {
   "cell_type": "code",
   "execution_count": 8,
   "metadata": {},
   "outputs": [
    {
     "data": {
      "text/plain": [
       "30"
      ]
     },
     "execution_count": 8,
     "metadata": {},
     "output_type": "execute_result"
    }
   ],
   "source": [
    "# 장부가 반토막\n",
    "def solution(i):\n",
    "\tanswer=0\n",
    "\tfor i in range(1,i+1):\n",
    "\t\tif i%2==1:\n",
    "\t\t\tcontinue\n",
    "\t\tanswer += i\n",
    "\treturn answer\n",
    "\n",
    "solution(10)"
   ]
  },
  {
   "cell_type": "markdown",
   "metadata": {},
   "source": [
    "### 배열 평균값"
   ]
  },
  {
   "cell_type": "code",
   "execution_count": 19,
   "metadata": {},
   "outputs": [
    {
     "data": {
      "text/plain": [
       "3.5"
      ]
     },
     "execution_count": 19,
     "metadata": {},
     "output_type": "execute_result"
    }
   ],
   "source": [
    "# 사사오입?\n",
    "def solution(ns):\n",
    "\treturn  sum(ns)/len(ns)\n",
    "\n",
    "a=[1,2,3,4,5,6]\n",
    "b=[5,6,7,8,9,10]\n",
    "solution(a)"
   ]
  },
  {
   "cell_type": "markdown",
   "metadata": {},
   "source": [
    "### b보다 키큰 사람 몇명?"
   ]
  },
  {
   "cell_type": "code",
   "execution_count": 15,
   "metadata": {},
   "outputs": [
    {
     "data": {
      "text/plain": [
       "5"
      ]
     },
     "execution_count": 15,
     "metadata": {},
     "output_type": "execute_result"
    }
   ],
   "source": [
    "# 이정도면 작은 사람을 아는게 기부니가 더 좋을 듯\n",
    "def sol(a,b):\n",
    "\tanswer=0\n",
    "\tfor i in a:\n",
    "\t\tif i>b:\n",
    "\t\t\tanswer+=1\n",
    "\treturn answer\n",
    "\n",
    "a=[149, 180, 192, 170, 168, 172]\n",
    "b=167\n",
    "sol(a,b)\n"
   ]
  },
  {
   "cell_type": "markdown",
   "metadata": {},
   "source": [
    "### 중복숫자 갯수"
   ]
  },
  {
   "cell_type": "code",
   "execution_count": 24,
   "metadata": {},
   "outputs": [
    {
     "data": {
      "text/plain": [
       "4"
      ]
     },
     "execution_count": 24,
     "metadata": {},
     "output_type": "execute_result"
    }
   ],
   "source": [
    "# 확률대비 unique 아이템 지정. 그래서 몇퍼라고?\n",
    "def solution (array,n):\n",
    "\tanswer=0\n",
    "\tfor i in array: \n",
    "\t\tif i==n:\n",
    "\t\t\tanswer+=1\n",
    "\treturn answer \n",
    "\n",
    "array=[1, 1, 1, 1, 2, 3, 4, 5]\n",
    "n=1\n",
    "solution(array,n)"
   ]
  },
  {
   "cell_type": "markdown",
   "metadata": {},
   "source": [
    "### 양꼬치"
   ]
  },
  {
   "cell_type": "code",
   "execution_count": 9,
   "metadata": {},
   "outputs": [
    {
     "data": {
      "text/plain": [
       "124000"
      ]
     },
     "execution_count": 9,
     "metadata": {},
     "output_type": "execute_result"
    }
   ],
   "source": [
    "# 5인분에 서비스 하나는 줘야지 좀 짜다.\n",
    "def solution(n,k):\n",
    "    return (n*12000)+((k-(n//10)) * 2000)\n",
    "\n",
    "solution(10,3)"
   ]
  },
  {
   "cell_type": "markdown",
   "metadata": {},
   "source": [
    "### 편지"
   ]
  },
  {
   "cell_type": "code",
   "execution_count": 21,
   "metadata": {},
   "outputs": [
    {
     "data": {
      "text/plain": [
       "34"
      ]
     },
     "execution_count": 21,
     "metadata": {},
     "output_type": "execute_result"
    }
   ],
   "source": [
    "# 요즘은 위문편지가 없다지? 받아봤는데 좋던데\n",
    "def solution(message):\n",
    "    return len(message)*2\n",
    "\n",
    "a='군인아저씨께로 시작하는 편지였지'\n",
    "solution(a)"
   ]
  },
  {
   "cell_type": "markdown",
   "metadata": {},
   "source": [
    "### 아이스 아메리카노"
   ]
  },
  {
   "cell_type": "code",
   "execution_count": 41,
   "metadata": {},
   "outputs": [
    {
     "data": {
      "text/plain": [
       "[2, 4000]"
      ]
     },
     "execution_count": 41,
     "metadata": {},
     "output_type": "execute_result"
    }
   ],
   "source": [
    "# 겨울 멋쟁이 얼어 쥬금  - 신의한수\n",
    "def solution(money):\n",
    "\tcaffeine=[]\n",
    "\tcaffeine.extend([money//5500,money%5500])\n",
    "\treturn caffeine\n",
    "\n",
    "solution(15000)"
   ]
  },
  {
   "cell_type": "markdown",
   "metadata": {},
   "source": [
    "### 배열뒤집기"
   ]
  },
  {
   "cell_type": "code",
   "execution_count": 67,
   "metadata": {},
   "outputs": [
    {
     "data": {
      "text/plain": [
       "[1, 2, 3, 4, 5]"
      ]
     },
     "execution_count": 67,
     "metadata": {},
     "output_type": "execute_result"
    }
   ],
   "source": [
    "# 변경요청을 여반장하듯..\n",
    "def solution(num_list):\n",
    "\treturn num_list[::-1] \n",
    "\t# return num_list.reverse()\n",
    "\t# return list(reversed(num_list))\n",
    "\n",
    "a=[1, 2, 3, 4, 5]\n",
    "b=[1, 1, 1, 1, 1, 2]\n",
    "c=[1, 0, 1, 1, 1, 3, 5]\n",
    "solution(a)\n",
    "# solution(b)\n",
    "# solution(c)"
   ]
  },
  {
   "cell_type": "markdown",
   "metadata": {},
   "source": [
    "### 가장 큰 수 찾기"
   ]
  },
  {
   "cell_type": "code",
   "execution_count": 100,
   "metadata": {},
   "outputs": [
    {
     "data": {
      "text/plain": [
       "[8, 1]"
      ]
     },
     "execution_count": 100,
     "metadata": {},
     "output_type": "execute_result"
    }
   ],
   "source": [
    "\n",
    "def solution(array):\n",
    "\tanswer=[]\n",
    "\ta=max(array)\n",
    "\t# array.index(a)\n",
    "\tanswer.extend([a,array.index(a)])\n",
    "\treturn answer\n",
    "\n",
    "a=[1, 8, 3]\n",
    "b=[9, 10, 11, 8]\n",
    "solution(a)"
   ]
  },
  {
   "cell_type": "markdown",
   "metadata": {},
   "source": [
    "### 배열 원소의 길이"
   ]
  },
  {
   "cell_type": "code",
   "execution_count": null,
   "metadata": {},
   "outputs": [],
   "source": []
  },
  {
   "cell_type": "code",
   "execution_count": null,
   "metadata": {},
   "outputs": [],
   "source": []
  }
 ],
 "metadata": {
  "kernelspec": {
   "display_name": "Python 3.10.6 64-bit",
   "language": "python",
   "name": "python3"
  },
  "language_info": {
   "codemirror_mode": {
    "name": "ipython",
    "version": 3
   },
   "file_extension": ".py",
   "mimetype": "text/x-python",
   "name": "python",
   "nbconvert_exporter": "python",
   "pygments_lexer": "ipython3",
   "version": "3.10.6"
  },
  "orig_nbformat": 4,
  "vscode": {
   "interpreter": {
    "hash": "916dbcbb3f70747c44a77c7bcd40155683ae19c65e1c03b4aa3499c5328201f1"
   }
  }
 },
 "nbformat": 4,
 "nbformat_minor": 2
}
