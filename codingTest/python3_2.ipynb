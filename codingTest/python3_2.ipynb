{
 "cells": [
  {
   "cell_type": "markdown",
   "metadata": {},
   "source": [
    "### 문자열 있으면 1 없으면 2 반환"
   ]
  },
  {
   "cell_type": "code",
   "execution_count": 1,
   "metadata": {},
   "outputs": [
    {
     "data": {
      "text/plain": [
       "1"
      ]
     },
     "execution_count": 1,
     "metadata": {},
     "output_type": "execute_result"
    }
   ],
   "source": [
    "def solution (str1,str2):\n",
    "    if str2 in str1:\n",
    "        return 1\n",
    "    else:\n",
    "        return 2\n",
    "\n",
    "a=\"ab6CDE443fgh22iJKlmn1o\"\n",
    "b=\"6CD\"\n",
    "a1=\"ppprrrogrammers\"\n",
    "b1=\"pppp\"\n",
    "\n",
    "solution (a,b)"
   ]
  },
  {
   "cell_type": "markdown",
   "metadata": {},
   "source": [
    "### 피자 "
   ]
  },
  {
   "cell_type": "code",
   "execution_count": 4,
   "metadata": {},
   "outputs": [
    {
     "data": {
      "text/plain": [
       "2"
      ]
     },
     "execution_count": 4,
     "metadata": {},
     "output_type": "execute_result"
    }
   ],
   "source": [
    "import math\n",
    "def solution(slice,n):\n",
    "\treturn math.ceil(n/slice)\n",
    "    \n",
    "    \n",
    "slice=7\n",
    "n=10\n",
    "# s1=4\n",
    "# n2=12\n",
    "solution(slice,n)"
   ]
  },
  {
   "cell_type": "markdown",
   "metadata": {},
   "source": [
    "### 문자열 뒤집기"
   ]
  },
  {
   "cell_type": "code",
   "execution_count": 6,
   "metadata": {},
   "outputs": [
    {
     "data": {
      "text/plain": [
       "'noraj'"
      ]
     },
     "execution_count": 6,
     "metadata": {},
     "output_type": "execute_result"
    }
   ],
   "source": [
    "def solution(my_string):\n",
    "    return my_string[::-1]\n",
    "\n",
    "my_string='jaron'\n",
    "solution(my_string)\n",
    "\t"
   ]
  },
  {
   "cell_type": "markdown",
   "metadata": {},
   "source": [
    "### 배열원소 길이"
   ]
  },
  {
   "cell_type": "code",
   "execution_count": 79,
   "metadata": {},
   "outputs": [],
   "source": [
    "strlist=[\"We\", \"are\", \"the\", \"world!\"]\n",
    "# strlist2=[\"I\", \"Love\", \"Programmers.\"]\n",
    "\n",
    "def solution(strlist):\n",
    "\tanswer = []\n",
    "\tfor i in strlist:\n",
    "\t\tanswer.extend([len(i)])\n",
    "\treturn answer\n",
    "\n",
    "\n",
    "solution(strlist)"
   ]
  },
  {
   "cell_type": "markdown",
   "metadata": {},
   "source": [
    "### 배열 두배"
   ]
  },
  {
   "cell_type": "code",
   "execution_count": 19,
   "metadata": {},
   "outputs": [
    {
     "ename": "IndexError",
     "evalue": "list index out of range",
     "output_type": "error",
     "traceback": [
      "\u001b[0;31m---------------------------------------------------------------------------\u001b[0m",
      "\u001b[0;31mIndexError\u001b[0m                                Traceback (most recent call last)",
      "Cell \u001b[0;32mIn [19], line 10\u001b[0m\n\u001b[1;32m      7\u001b[0m \t\tanswer\u001b[39m=\u001b[39ma[i]\u001b[39m*\u001b[39m\u001b[39m2\u001b[39m\n\u001b[1;32m      8\u001b[0m \t\u001b[39mreturn\u001b[39;00m answer\n\u001b[0;32m---> 10\u001b[0m sol(a)\n",
      "Cell \u001b[0;32mIn [19], line 7\u001b[0m, in \u001b[0;36msol\u001b[0;34m(a)\u001b[0m\n\u001b[1;32m      5\u001b[0m \u001b[39mfor\u001b[39;00m i \u001b[39min\u001b[39;00m a:\n\u001b[1;32m      6\u001b[0m \ti\u001b[39m+\u001b[39m\u001b[39m=\u001b[39m\u001b[39m0\u001b[39m\n\u001b[0;32m----> 7\u001b[0m \tanswer\u001b[39m=\u001b[39ma[i]\u001b[39m*\u001b[39m\u001b[39m2\u001b[39m\n\u001b[1;32m      8\u001b[0m \u001b[39mreturn\u001b[39;00m answer\n",
      "\u001b[0;31mIndexError\u001b[0m: list index out of range"
     ]
    }
   ],
   "source": [
    "a=[1,2,100,-99,1,2,3,]\n",
    "\n",
    "def sol(a):\n",
    "\tanswer=[]\n",
    "\tfor i in a:\n",
    "\t\ti+=0\n",
    "\t\tanswer=a[i]*2\n",
    "\treturn answer\n",
    "\n",
    "sol(a)"
   ]
  },
  {
   "cell_type": "markdown",
   "metadata": {},
   "source": [
    "### 홀 수 출 력"
   ]
  },
  {
   "cell_type": "code",
   "execution_count": 13,
   "metadata": {},
   "outputs": [
    {
     "data": {
      "text/plain": [
       "[1, 3, 5, 7, 9, 11, 13, 15]"
      ]
     },
     "execution_count": 13,
     "metadata": {},
     "output_type": "execute_result"
    }
   ],
   "source": [
    "n=15\n",
    "def solution(n):\n",
    "\tanswer = []\n",
    "\tfor i in range(n+1):\n",
    "\t\tif i%2 != 0:\n",
    "\t\t\tanswer.extend([i])\n",
    "\treturn answer\n",
    "solution(n)"
   ]
  },
  {
   "cell_type": "markdown",
   "metadata": {},
   "source": [
    "### 최댓값 만들기"
   ]
  },
  {
   "cell_type": "code",
   "execution_count": 50,
   "metadata": {},
   "outputs": [
    {
     "data": {
      "text/plain": [
       "744"
      ]
     },
     "execution_count": 50,
     "metadata": {},
     "output_type": "execute_result"
    }
   ],
   "source": [
    "a=[1,2,3,4,5]\n",
    "b=[0,31,24,10,1,9]\n",
    "\n",
    "def solution(b):\n",
    "\tconv=sorted(b)\n",
    "\tsor=conv[::-1]\n",
    "\treturn sor[0]*sor[1]\n",
    "\n",
    "solution(b)\n"
   ]
  },
  {
   "cell_type": "markdown",
   "metadata": {},
   "source": [
    "### n의 배수 고르기"
   ]
  },
  {
   "cell_type": "code",
   "execution_count": 80,
   "metadata": {},
   "outputs": [
    {
     "data": {
      "text/plain": [
       "[120, 600, 12, 12]"
      ]
     },
     "execution_count": 80,
     "metadata": {},
     "output_type": "execute_result"
    }
   ],
   "source": [
    "# n=3\n",
    "# n=5\n",
    "n=12\n",
    "# nl=[4, 5, 6, 7, 8, 9, 10, 11, 12]\n",
    "# nl=[1, 9, 3, 10, 13, 5]\n",
    "nl=[2, 100, 120, 600, 12, 12]\n",
    "def solution(n, nl):\n",
    "\tanswer = []\n",
    "\tfor i in nl:\n",
    "\t\tif i%n==0:\n",
    "\t\t\tanswer.extend([i])\n",
    "\treturn answer\n",
    "\n",
    "solution(n,nl)"
   ]
  },
  {
   "cell_type": "markdown",
   "metadata": {},
   "source": [
    "### for문에 i는 무슨값인가?"
   ]
  },
  {
   "cell_type": "code",
   "execution_count": 68,
   "metadata": {},
   "outputs": [
    {
     "name": "stdout",
     "output_type": "stream",
     "text": [
      "4\n",
      "5\n",
      "6\n",
      "7\n",
      "8\n",
      "9\n",
      "10\n",
      "11\n",
      "12\n"
     ]
    },
    {
     "data": {
      "text/plain": [
       "[12, [4, 5, 6, 7, 8, 9, 10, 11, 12]]"
      ]
     },
     "execution_count": 68,
     "metadata": {},
     "output_type": "execute_result"
    }
   ],
   "source": [
    "nl=[4, 5, 6, 7, 8, 9, 10, 11, 12]\n",
    "def sol(n):\n",
    "\tfor i in nl:\n",
    "\t\tprint(i)\n",
    "\treturn [i, nl]\n",
    "sol(n)"
   ]
  },
  {
   "cell_type": "markdown",
   "metadata": {},
   "source": [
    "### 제곱수 판별하기"
   ]
  },
  {
   "cell_type": "code",
   "execution_count": 106,
   "metadata": {},
   "outputs": [
    {
     "data": {
      "text/plain": [
       "1"
      ]
     },
     "execution_count": 106,
     "metadata": {},
     "output_type": "execute_result"
    }
   ],
   "source": [
    "n=976\n",
    "def solution(n):\n",
    "\tif n**(1/2):\n",
    "\t\treturn 1\n",
    "\telif n == 1|n:\n",
    "\t\treturn 2\n",
    "\n",
    "# solution(n)\n"
   ]
  },
  {
   "cell_type": "code",
   "execution_count": 135,
   "metadata": {},
   "outputs": [
    {
     "data": {
      "text/plain": [
       "[5, 6, 3]"
      ]
     },
     "execution_count": 135,
     "metadata": {},
     "output_type": "execute_result"
    }
   ],
   "source": [
    "array=[1, 5, 2, 6, 3, 7, 4]\n",
    "commands = [[2, 5, 3], [4, 4, 1], [1, 7, 3]]\n",
    "\n",
    "def solution(array, commands):\n",
    "\tanswer = []\n",
    "\tfor i in commands:\n",
    "\t\tsor=sorted(array[i[0]-1:i[1]])\n",
    "\t\tanswer.extend([sor[i[2]-1]])\n",
    "\treturn answer\n",
    "\n",
    "solution(array, commands)\n",
    "\n",
    "\n"
   ]
  },
  {
   "cell_type": "markdown",
   "metadata": {},
   "source": [
    "### 징검다리"
   ]
  },
  {
   "cell_type": "code",
   "execution_count": 194,
   "metadata": {},
   "outputs": [
    {
     "name": "stdout",
     "output_type": "stream",
     "text": [
      "2 11 -2 [2, 11, 14, 17, 21, 25]\n",
      "11 11 -2 [2, 11, 14, 17, 21, 25]\n",
      "14 11 -2 [2, 11, 14, 17, 21, 25]\n",
      "17 11 -2 [2, 11, 14, 17, 21, 25]\n",
      "21 11 -2 [2, 11, 14, 17, 21, 25]\n",
      "25 11 -2 [2, 11, 14, 17, 21, 25]\n"
     ]
    }
   ],
   "source": [
    "distance=25\n",
    "rocks=[ 2, 14, 11, 21, 17 ]\n",
    "n=2\n",
    "\n",
    "def solution(distance, rocks, n):\n",
    "\tanswer = 0\n",
    "\tdist_min = []\n",
    "\tstend=sorted(rocks)\n",
    "\tstend.extend([distance])\n",
    "\tfor i in stend:\n",
    "\t\tn=stend[1]\n",
    "\t\tprint(i, n, 0-stend[0],stend)\n",
    "\n",
    "\n",
    "\t\t# dist_min.extend([abs(0-i)])\n",
    "\t\t\t\n",
    "\t\t# print (dist_min)\n",
    "\n",
    "\n",
    "solution(distance, rocks, n)"
   ]
  }
 ],
 "metadata": {
  "kernelspec": {
   "display_name": "Python 3.10.6 64-bit",
   "language": "python",
   "name": "python3"
  },
  "language_info": {
   "codemirror_mode": {
    "name": "ipython",
    "version": 3
   },
   "file_extension": ".py",
   "mimetype": "text/x-python",
   "name": "python",
   "nbconvert_exporter": "python",
   "pygments_lexer": "ipython3",
   "version": "3.10.6"
  },
  "orig_nbformat": 4,
  "vscode": {
   "interpreter": {
    "hash": "916dbcbb3f70747c44a77c7bcd40155683ae19c65e1c03b4aa3499c5328201f1"
   }
  }
 },
 "nbformat": 4,
 "nbformat_minor": 2
}
