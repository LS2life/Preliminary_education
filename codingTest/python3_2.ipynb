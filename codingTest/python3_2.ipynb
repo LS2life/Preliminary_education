{
 "cells": [
  {
   "cell_type": "markdown",
   "metadata": {},
   "source": [
    "### 문자열 있으면 1 없으면 2 반환"
   ]
  },
  {
   "cell_type": "code",
   "execution_count": 1,
   "metadata": {},
   "outputs": [
    {
     "data": {
      "text/plain": [
       "1"
      ]
     },
     "execution_count": 1,
     "metadata": {},
     "output_type": "execute_result"
    }
   ],
   "source": [
    "def solution (str1,str2):\n",
    "    if str2 in str1:\n",
    "        return 1\n",
    "    else:\n",
    "        return 2\n",
    "\n",
    "a=\"ab6CDE443fgh22iJKlmn1o\"\n",
    "b=\"6CD\"\n",
    "a1=\"ppprrrogrammers\"\n",
    "b1=\"pppp\"\n",
    "\n",
    "solution (a,b)"
   ]
  },
  {
   "cell_type": "markdown",
   "metadata": {},
   "source": [
    "### 피자 "
   ]
  },
  {
   "cell_type": "code",
   "execution_count": 4,
   "metadata": {},
   "outputs": [
    {
     "data": {
      "text/plain": [
       "2"
      ]
     },
     "execution_count": 4,
     "metadata": {},
     "output_type": "execute_result"
    }
   ],
   "source": [
    "import math\n",
    "def solution(slice,n):\n",
    "\treturn math.ceil(n/slice)\n",
    "    \n",
    "    \n",
    "slice=7\n",
    "n=10\n",
    "# s1=4\n",
    "# n2=12\n",
    "solution(slice,n)"
   ]
  },
  {
   "cell_type": "markdown",
   "metadata": {},
   "source": [
    "### 문자열 뒤집기"
   ]
  },
  {
   "cell_type": "code",
   "execution_count": 6,
   "metadata": {},
   "outputs": [
    {
     "data": {
      "text/plain": [
       "'noraj'"
      ]
     },
     "execution_count": 6,
     "metadata": {},
     "output_type": "execute_result"
    }
   ],
   "source": [
    "def solution(my_string):\n",
    "    return my_string[::-1]\n",
    "\n",
    "my_string='jaron'\n",
    "solution(my_string)\n",
    "\t"
   ]
  },
  {
   "cell_type": "markdown",
   "metadata": {},
   "source": [
    "### 배열원소 길이"
   ]
  },
  {
   "cell_type": "code",
   "execution_count": 79,
   "metadata": {},
   "outputs": [],
   "source": [
    "strlist=[\"We\", \"are\", \"the\", \"world!\"]\n",
    "# strlist2=[\"I\", \"Love\", \"Programmers.\"]\n",
    "\n",
    "def solution(strlist):\n",
    "\tanswer = []\n",
    "\tfor i in strlist:\n",
    "\t\tanswer.extend([len(i)])\n",
    "\treturn answer\n",
    "\n",
    "\n",
    "solution(strlist)"
   ]
  },
  {
   "cell_type": "markdown",
   "metadata": {},
   "source": [
    "### 배열 두배"
   ]
  },
  {
   "cell_type": "code",
   "execution_count": 19,
   "metadata": {},
   "outputs": [
    {
     "ename": "IndexError",
     "evalue": "list index out of range",
     "output_type": "error",
     "traceback": [
      "\u001b[0;31m---------------------------------------------------------------------------\u001b[0m",
      "\u001b[0;31mIndexError\u001b[0m                                Traceback (most recent call last)",
      "Cell \u001b[0;32mIn [19], line 10\u001b[0m\n\u001b[1;32m      7\u001b[0m \t\tanswer\u001b[39m=\u001b[39ma[i]\u001b[39m*\u001b[39m\u001b[39m2\u001b[39m\n\u001b[1;32m      8\u001b[0m \t\u001b[39mreturn\u001b[39;00m answer\n\u001b[0;32m---> 10\u001b[0m sol(a)\n",
      "Cell \u001b[0;32mIn [19], line 7\u001b[0m, in \u001b[0;36msol\u001b[0;34m(a)\u001b[0m\n\u001b[1;32m      5\u001b[0m \u001b[39mfor\u001b[39;00m i \u001b[39min\u001b[39;00m a:\n\u001b[1;32m      6\u001b[0m \ti\u001b[39m+\u001b[39m\u001b[39m=\u001b[39m\u001b[39m0\u001b[39m\n\u001b[0;32m----> 7\u001b[0m \tanswer\u001b[39m=\u001b[39ma[i]\u001b[39m*\u001b[39m\u001b[39m2\u001b[39m\n\u001b[1;32m      8\u001b[0m \u001b[39mreturn\u001b[39;00m answer\n",
      "\u001b[0;31mIndexError\u001b[0m: list index out of range"
     ]
    }
   ],
   "source": [
    "a=[1,2,100,-99,1,2,3,]\n",
    "\n",
    "def sol(a):\n",
    "\tanswer=[]\n",
    "\tfor i in a:\n",
    "\t\ti+=0\n",
    "\t\tanswer=a[i]*2\n",
    "\treturn answer\n",
    "\n",
    "sol(a)"
   ]
  },
  {
   "cell_type": "code",
   "execution_count": null,
   "metadata": {},
   "outputs": [],
   "source": []
  }
 ],
 "metadata": {
  "kernelspec": {
   "display_name": "Python 3.10.6 64-bit",
   "language": "python",
   "name": "python3"
  },
  "language_info": {
   "codemirror_mode": {
    "name": "ipython",
    "version": 3
   },
   "file_extension": ".py",
   "mimetype": "text/x-python",
   "name": "python",
   "nbconvert_exporter": "python",
   "pygments_lexer": "ipython3",
   "version": "3.10.6"
  },
  "orig_nbformat": 4,
  "vscode": {
   "interpreter": {
    "hash": "916dbcbb3f70747c44a77c7bcd40155683ae19c65e1c03b4aa3499c5328201f1"
   }
  }
 },
 "nbformat": 4,
 "nbformat_minor": 2
}
