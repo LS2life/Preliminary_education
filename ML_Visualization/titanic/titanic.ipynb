{
 "cells": [
  {
   "cell_type": "code",
   "execution_count": 1,
   "id": "8c766974",
   "metadata": {},
   "outputs": [
    {
     "name": "stdout",
     "output_type": "stream",
     "text": [
      "1.5.2\n",
      "0.12.1\n",
      "1.23.5\n"
     ]
    }
   ],
   "source": [
    "import pandas as pd\n",
    "import seaborn as sns\n",
    "import numpy as np\n",
    "import matplotlib.pyplot as plt\n",
    "%matplotlib inline\n",
    "print(pd.__version__)    \n",
    "print(sns.__version__)    \n",
    "print(np.__version__)    "
   ]
  },
  {
   "cell_type": "code",
   "execution_count": null,
   "id": "96e8497f-63c7-4194-84e8-7723a4fe31be",
   "metadata": {
    "pycharm": {
     "name": "#%%\n"
    }
   },
<<<<<<< HEAD
   "outputs": [
    {
     "name": "stdout",
     "output_type": "stream",
     "text": [
      "(891, 12) (418, 11)\n"
     ]
    }
   ],
=======
   "outputs": [],
>>>>>>> 57c8ded57e4ea706d66436995c194f7d8a56952d
   "source": [
    "train_df=pd.read_csv(\"./dataframes/train.csv\")\n",
    "test_df=pd.read_csv(\"./dataframes/test.csv\")\n",
    "print(train_df.shape,test_df.shape)"
   ]
  },
  {
   "cell_type": "code",
   "execution_count": 3,
   "id": "a9986948-7859-400e-9eb4-5e7394f5502d",
   "metadata": {
    "pycharm": {
     "name": "#%%\n"
    }
   },
   "outputs": [
    {
     "data": {
      "text/html": [
       "<div>\n",
       "<style scoped>\n",
       "    .dataframe tbody tr th:only-of-type {\n",
       "        vertical-align: middle;\n",
       "    }\n",
       "\n",
       "    .dataframe tbody tr th {\n",
       "        vertical-align: top;\n",
       "    }\n",
       "\n",
       "    .dataframe thead th {\n",
       "        text-align: right;\n",
       "    }\n",
       "</style>\n",
       "<table border=\"1\" class=\"dataframe\">\n",
       "  <thead>\n",
       "    <tr style=\"text-align: right;\">\n",
       "      <th></th>\n",
       "      <th>PassengerId</th>\n",
       "      <th>Survived</th>\n",
       "      <th>Pclass</th>\n",
       "      <th>Name</th>\n",
       "      <th>Sex</th>\n",
       "      <th>Age</th>\n",
       "      <th>SibSp</th>\n",
       "      <th>Parch</th>\n",
       "      <th>Ticket</th>\n",
       "      <th>Fare</th>\n",
       "      <th>Cabin</th>\n",
       "      <th>Embarked</th>\n",
       "    </tr>\n",
       "  </thead>\n",
       "  <tbody>\n",
       "    <tr>\n",
       "      <th>3</th>\n",
       "      <td>4</td>\n",
       "      <td>1</td>\n",
       "      <td>1</td>\n",
       "      <td>Futrelle, Mrs. Jacques Heath (Lily May Peel)</td>\n",
       "      <td>female</td>\n",
       "      <td>35.0</td>\n",
       "      <td>1</td>\n",
       "      <td>0</td>\n",
       "      <td>113803</td>\n",
       "      <td>53.1000</td>\n",
       "      <td>C123</td>\n",
       "      <td>S</td>\n",
       "    </tr>\n",
       "    <tr>\n",
       "      <th>481</th>\n",
       "      <td>482</td>\n",
       "      <td>0</td>\n",
       "      <td>2</td>\n",
       "      <td>Frost, Mr. Anthony Wood \"Archie\"</td>\n",
       "      <td>male</td>\n",
       "      <td>NaN</td>\n",
       "      <td>0</td>\n",
       "      <td>0</td>\n",
       "      <td>239854</td>\n",
       "      <td>0.0000</td>\n",
       "      <td>NaN</td>\n",
       "      <td>S</td>\n",
       "    </tr>\n",
       "    <tr>\n",
       "      <th>826</th>\n",
       "      <td>827</td>\n",
       "      <td>0</td>\n",
       "      <td>3</td>\n",
       "      <td>Lam, Mr. Len</td>\n",
       "      <td>male</td>\n",
       "      <td>NaN</td>\n",
       "      <td>0</td>\n",
       "      <td>0</td>\n",
       "      <td>1601</td>\n",
       "      <td>56.4958</td>\n",
       "      <td>NaN</td>\n",
       "      <td>S</td>\n",
       "    </tr>\n",
       "    <tr>\n",
       "      <th>40</th>\n",
       "      <td>41</td>\n",
       "      <td>0</td>\n",
       "      <td>3</td>\n",
       "      <td>Ahlin, Mrs. Johan (Johanna Persdotter Larsson)</td>\n",
       "      <td>female</td>\n",
       "      <td>40.0</td>\n",
       "      <td>1</td>\n",
       "      <td>0</td>\n",
       "      <td>7546</td>\n",
       "      <td>9.4750</td>\n",
       "      <td>NaN</td>\n",
       "      <td>S</td>\n",
       "    </tr>\n",
       "    <tr>\n",
       "      <th>209</th>\n",
       "      <td>210</td>\n",
       "      <td>1</td>\n",
       "      <td>1</td>\n",
       "      <td>Blank, Mr. Henry</td>\n",
       "      <td>male</td>\n",
       "      <td>40.0</td>\n",
       "      <td>0</td>\n",
       "      <td>0</td>\n",
       "      <td>112277</td>\n",
       "      <td>31.0000</td>\n",
       "      <td>A31</td>\n",
       "      <td>C</td>\n",
       "    </tr>\n",
       "    <tr>\n",
       "      <th>541</th>\n",
       "      <td>542</td>\n",
       "      <td>0</td>\n",
       "      <td>3</td>\n",
       "      <td>Andersson, Miss. Ingeborg Constanzia</td>\n",
       "      <td>female</td>\n",
       "      <td>9.0</td>\n",
       "      <td>4</td>\n",
       "      <td>2</td>\n",
       "      <td>347082</td>\n",
       "      <td>31.2750</td>\n",
       "      <td>NaN</td>\n",
       "      <td>S</td>\n",
       "    </tr>\n",
       "    <tr>\n",
       "      <th>586</th>\n",
       "      <td>587</td>\n",
       "      <td>0</td>\n",
       "      <td>2</td>\n",
       "      <td>Jarvis, Mr. John Denzil</td>\n",
       "      <td>male</td>\n",
       "      <td>47.0</td>\n",
       "      <td>0</td>\n",
       "      <td>0</td>\n",
       "      <td>237565</td>\n",
       "      <td>15.0000</td>\n",
       "      <td>NaN</td>\n",
       "      <td>S</td>\n",
       "    </tr>\n",
       "    <tr>\n",
       "      <th>398</th>\n",
       "      <td>399</td>\n",
       "      <td>0</td>\n",
       "      <td>2</td>\n",
       "      <td>Pain, Dr. Alfred</td>\n",
       "      <td>male</td>\n",
       "      <td>23.0</td>\n",
       "      <td>0</td>\n",
       "      <td>0</td>\n",
       "      <td>244278</td>\n",
       "      <td>10.5000</td>\n",
       "      <td>NaN</td>\n",
       "      <td>S</td>\n",
       "    </tr>\n",
       "    <tr>\n",
       "      <th>622</th>\n",
       "      <td>623</td>\n",
       "      <td>1</td>\n",
       "      <td>3</td>\n",
       "      <td>Nakid, Mr. Sahid</td>\n",
       "      <td>male</td>\n",
       "      <td>20.0</td>\n",
       "      <td>1</td>\n",
       "      <td>1</td>\n",
       "      <td>2653</td>\n",
       "      <td>15.7417</td>\n",
       "      <td>NaN</td>\n",
       "      <td>C</td>\n",
       "    </tr>\n",
       "    <tr>\n",
       "      <th>778</th>\n",
       "      <td>779</td>\n",
       "      <td>0</td>\n",
       "      <td>3</td>\n",
       "      <td>Kilgannon, Mr. Thomas J</td>\n",
       "      <td>male</td>\n",
       "      <td>NaN</td>\n",
       "      <td>0</td>\n",
       "      <td>0</td>\n",
       "      <td>36865</td>\n",
       "      <td>7.7375</td>\n",
       "      <td>NaN</td>\n",
       "      <td>Q</td>\n",
       "    </tr>\n",
       "  </tbody>\n",
       "</table>\n",
       "</div>"
      ],
      "text/plain": [
       "     PassengerId  Survived  Pclass  \\\n",
       "3              4         1       1   \n",
       "481          482         0       2   \n",
       "826          827         0       3   \n",
       "40            41         0       3   \n",
       "209          210         1       1   \n",
       "541          542         0       3   \n",
       "586          587         0       2   \n",
       "398          399         0       2   \n",
       "622          623         1       3   \n",
       "778          779         0       3   \n",
       "\n",
       "                                               Name     Sex   Age  SibSp  \\\n",
       "3      Futrelle, Mrs. Jacques Heath (Lily May Peel)  female  35.0      1   \n",
       "481                Frost, Mr. Anthony Wood \"Archie\"    male   NaN      0   \n",
       "826                                    Lam, Mr. Len    male   NaN      0   \n",
       "40   Ahlin, Mrs. Johan (Johanna Persdotter Larsson)  female  40.0      1   \n",
       "209                                Blank, Mr. Henry    male  40.0      0   \n",
       "541            Andersson, Miss. Ingeborg Constanzia  female   9.0      4   \n",
       "586                         Jarvis, Mr. John Denzil    male  47.0      0   \n",
       "398                                Pain, Dr. Alfred    male  23.0      0   \n",
       "622                                Nakid, Mr. Sahid    male  20.0      1   \n",
       "778                         Kilgannon, Mr. Thomas J    male   NaN      0   \n",
       "\n",
       "     Parch  Ticket     Fare Cabin Embarked  \n",
       "3        0  113803  53.1000  C123        S  \n",
       "481      0  239854   0.0000   NaN        S  \n",
       "826      0    1601  56.4958   NaN        S  \n",
       "40       0    7546   9.4750   NaN        S  \n",
       "209      0  112277  31.0000   A31        C  \n",
       "541      2  347082  31.2750   NaN        S  \n",
       "586      0  237565  15.0000   NaN        S  \n",
       "398      0  244278  10.5000   NaN        S  \n",
       "622      1    2653  15.7417   NaN        C  \n",
       "778      0   36865   7.7375   NaN        Q  "
      ]
     },
     "execution_count": 3,
     "metadata": {},
     "output_type": "execute_result"
    }
   ],
   "source": [
    "train_df.sample(10)"
   ]
  },
  {
   "cell_type": "code",
   "execution_count": 4,
   "id": "94bf0d48-1073-4be0-b159-e4668a6107bb",
   "metadata": {
    "pycharm": {
     "name": "#%%\n"
    }
   },
   "outputs": [
    {
     "data": {
      "text/html": [
       "<div>\n",
       "<style scoped>\n",
       "    .dataframe tbody tr th:only-of-type {\n",
       "        vertical-align: middle;\n",
       "    }\n",
       "\n",
       "    .dataframe tbody tr th {\n",
       "        vertical-align: top;\n",
       "    }\n",
       "\n",
       "    .dataframe thead th {\n",
       "        text-align: right;\n",
       "    }\n",
       "</style>\n",
       "<table border=\"1\" class=\"dataframe\">\n",
       "  <thead>\n",
       "    <tr style=\"text-align: right;\">\n",
       "      <th></th>\n",
       "      <th>PassengerId</th>\n",
       "      <th>Survived</th>\n",
       "      <th>Pclass</th>\n",
       "      <th>Name</th>\n",
       "      <th>Sex</th>\n",
       "      <th>Age</th>\n",
       "      <th>SibSp</th>\n",
       "      <th>Parch</th>\n",
       "      <th>Ticket</th>\n",
       "      <th>Fare</th>\n",
       "      <th>Cabin</th>\n",
       "      <th>Embarked</th>\n",
       "    </tr>\n",
       "  </thead>\n",
       "  <tbody>\n",
       "    <tr>\n",
       "      <th>0</th>\n",
       "      <td>1</td>\n",
       "      <td>0</td>\n",
       "      <td>3</td>\n",
       "      <td>Braund, Mr. Owen Harris</td>\n",
       "      <td>male</td>\n",
       "      <td>22.0</td>\n",
       "      <td>1</td>\n",
       "      <td>0</td>\n",
       "      <td>A/5 21171</td>\n",
       "      <td>7.2500</td>\n",
       "      <td>NaN</td>\n",
       "      <td>S</td>\n",
       "    </tr>\n",
       "    <tr>\n",
       "      <th>1</th>\n",
       "      <td>2</td>\n",
       "      <td>1</td>\n",
       "      <td>1</td>\n",
       "      <td>Cumings, Mrs. John Bradley (Florence Briggs Th...</td>\n",
       "      <td>female</td>\n",
       "      <td>38.0</td>\n",
       "      <td>1</td>\n",
       "      <td>0</td>\n",
       "      <td>PC 17599</td>\n",
       "      <td>71.2833</td>\n",
       "      <td>C85</td>\n",
       "      <td>C</td>\n",
       "    </tr>\n",
       "    <tr>\n",
       "      <th>2</th>\n",
       "      <td>3</td>\n",
       "      <td>1</td>\n",
       "      <td>3</td>\n",
       "      <td>Heikkinen, Miss. Laina</td>\n",
       "      <td>female</td>\n",
       "      <td>26.0</td>\n",
       "      <td>0</td>\n",
       "      <td>0</td>\n",
       "      <td>STON/O2. 3101282</td>\n",
       "      <td>7.9250</td>\n",
       "      <td>NaN</td>\n",
       "      <td>S</td>\n",
       "    </tr>\n",
       "    <tr>\n",
       "      <th>3</th>\n",
       "      <td>4</td>\n",
       "      <td>1</td>\n",
       "      <td>1</td>\n",
       "      <td>Futrelle, Mrs. Jacques Heath (Lily May Peel)</td>\n",
       "      <td>female</td>\n",
       "      <td>35.0</td>\n",
       "      <td>1</td>\n",
       "      <td>0</td>\n",
       "      <td>113803</td>\n",
       "      <td>53.1000</td>\n",
       "      <td>C123</td>\n",
       "      <td>S</td>\n",
       "    </tr>\n",
       "    <tr>\n",
       "      <th>4</th>\n",
       "      <td>5</td>\n",
       "      <td>0</td>\n",
       "      <td>3</td>\n",
       "      <td>Allen, Mr. William Henry</td>\n",
       "      <td>male</td>\n",
       "      <td>35.0</td>\n",
       "      <td>0</td>\n",
       "      <td>0</td>\n",
       "      <td>373450</td>\n",
       "      <td>8.0500</td>\n",
       "      <td>NaN</td>\n",
       "      <td>S</td>\n",
       "    </tr>\n",
       "  </tbody>\n",
       "</table>\n",
       "</div>"
      ],
      "text/plain": [
       "   PassengerId  Survived  Pclass  \\\n",
       "0            1         0       3   \n",
       "1            2         1       1   \n",
       "2            3         1       3   \n",
       "3            4         1       1   \n",
       "4            5         0       3   \n",
       "\n",
       "                                                Name     Sex   Age  SibSp  \\\n",
       "0                            Braund, Mr. Owen Harris    male  22.0      1   \n",
       "1  Cumings, Mrs. John Bradley (Florence Briggs Th...  female  38.0      1   \n",
       "2                             Heikkinen, Miss. Laina  female  26.0      0   \n",
       "3       Futrelle, Mrs. Jacques Heath (Lily May Peel)  female  35.0      1   \n",
       "4                           Allen, Mr. William Henry    male  35.0      0   \n",
       "\n",
       "   Parch            Ticket     Fare Cabin Embarked  \n",
       "0      0         A/5 21171   7.2500   NaN        S  \n",
       "1      0          PC 17599  71.2833   C85        C  \n",
       "2      0  STON/O2. 3101282   7.9250   NaN        S  \n",
       "3      0            113803  53.1000  C123        S  \n",
       "4      0            373450   8.0500   NaN        S  "
      ]
     },
     "execution_count": 4,
     "metadata": {},
     "output_type": "execute_result"
    }
   ],
   "source": [
    "train_df.head()"
   ]
  },
  {
   "cell_type": "markdown",
   "id": "bf68e069-8edf-45be-a756-d105a0eabd60",
   "metadata": {
    "pycharm": {
     "name": "#%% md\n"
    }
   },
   "source": [
    "### 칼럼(피쳐스, features)\n",
    "- Survial 생존여부 0=No, 1=Yes\n",
    "- Pclass 티켓 클래스 1=1st, 2=2nd, 3=3rd\n",
    "- Sex 성별\n",
    "- Age 나이\n",
    "- SibSp 형제, 자매, 배우자가 배에 탄수\n",
    "- Parch 부모, 자식이 배에 탄수\n",
    "- ticket 티켓 번호\n",
    "- fare 지불 금액\n",
    "- cabin 객실 번호\n",
    "- embarked 승선항 C=Cherbourg, Q= Queenstown, S=Southampton"
   ]
  },
  {
   "cell_type": "markdown",
   "id": "b03d21ff-c833-444e-bfdb-04707d58f9c2",
   "metadata": {
    "pycharm": {
     "name": "#%% md\n"
    }
   },
   "source": [
    "### 범주형\n",
    "- 명목형: Survived, Sex, Embarked\n",
    "- 순서형: Pcalss\n",
    "### 숫자형\n",
    "- 연속형: Age, Fare\n",
    "- 이산형: SipSp, Parch"
   ]
  },
  {
   "cell_type": "markdown",
   "id": "f4ca9311-4bcf-4516-b097-6cb1e406208e",
   "metadata": {
    "pycharm": {
     "name": "#%% md\n"
    }
   },
   "source": [
    "### 혼합 데이터 유형\n",
    "- Ticket\n",
    "- Cabin\n",
    "### 오류 또는 오타 있을 수 있는 데이터\n",
    "- Name\n",
    "### 빈값\n",
    "- Cabin>Age>Embarked\n",
    "### Object\n",
    "- 5개의 칼럼\n",
    "- 숫자형은 7개"
   ]
  },
  {
   "cell_type": "code",
   "execution_count": 5,
   "id": "a98b52ce-34a3-4cb6-a36c-b51d46224673",
   "metadata": {
    "pycharm": {
     "name": "#%%\n"
    }
   },
   "outputs": [
    {
     "name": "stdout",
     "output_type": "stream",
     "text": [
      "<class 'pandas.core.frame.DataFrame'>\n",
      "RangeIndex: 891 entries, 0 to 890\n",
      "Data columns (total 12 columns):\n",
      " #   Column       Non-Null Count  Dtype  \n",
      "---  ------       --------------  -----  \n",
      " 0   PassengerId  891 non-null    int64  \n",
      " 1   Survived     891 non-null    int64  \n",
      " 2   Pclass       891 non-null    int64  \n",
      " 3   Name         891 non-null    object \n",
      " 4   Sex          891 non-null    object \n",
      " 5   Age          714 non-null    float64\n",
      " 6   SibSp        891 non-null    int64  \n",
      " 7   Parch        891 non-null    int64  \n",
      " 8   Ticket       891 non-null    object \n",
      " 9   Fare         891 non-null    float64\n",
      " 10  Cabin        204 non-null    object \n",
      " 11  Embarked     889 non-null    object \n",
      "dtypes: float64(2), int64(5), object(5)\n",
      "memory usage: 83.7+ KB\n"
     ]
    }
   ],
   "source": [
    "train_df.info()"
   ]
  },
  {
   "cell_type": "markdown",
   "id": "b2804d70-73f9-4af0-8abe-94c1ab8cc948",
   "metadata": {
    "pycharm": {
     "name": "#%% md\n"
    }
   },
   "source": [
    "### 수치 값의 분포\n",
    "- 실제 탑승자(2,224명)의 40% 891명\n",
    "- 35%정도 생존, 실제 생존율 38%\n",
    "- 대부분 승객(75%)은 부모나 자녀와 함께 여행하지 않았다\n",
    "- 승객의 30% 가까이가 형제,자매, 배우자 한명과 탑승했다\n",
    "- 요금은 다양하게 지불\n",
    "- 20~38세가 가장 많고 최고령은 80세"
   ]
  },
  {
   "cell_type": "code",
   "execution_count": 6,
   "id": "c9230f18-06e5-45c6-9e04-ccc42fe61637",
   "metadata": {
    "pycharm": {
     "name": "#%%\n"
    }
   },
   "outputs": [
    {
     "data": {
      "text/html": [
       "<div>\n",
       "<style scoped>\n",
       "    .dataframe tbody tr th:only-of-type {\n",
       "        vertical-align: middle;\n",
       "    }\n",
       "\n",
       "    .dataframe tbody tr th {\n",
       "        vertical-align: top;\n",
       "    }\n",
       "\n",
       "    .dataframe thead th {\n",
       "        text-align: right;\n",
       "    }\n",
       "</style>\n",
       "<table border=\"1\" class=\"dataframe\">\n",
       "  <thead>\n",
       "    <tr style=\"text-align: right;\">\n",
       "      <th></th>\n",
       "      <th>PassengerId</th>\n",
       "      <th>Survived</th>\n",
       "      <th>Pclass</th>\n",
       "      <th>Age</th>\n",
       "      <th>SibSp</th>\n",
       "      <th>Parch</th>\n",
       "      <th>Fare</th>\n",
       "    </tr>\n",
       "  </thead>\n",
       "  <tbody>\n",
       "    <tr>\n",
       "      <th>count</th>\n",
       "      <td>891.000000</td>\n",
       "      <td>891.000000</td>\n",
       "      <td>891.000000</td>\n",
       "      <td>714.000000</td>\n",
       "      <td>891.000000</td>\n",
       "      <td>891.000000</td>\n",
       "      <td>891.000000</td>\n",
       "    </tr>\n",
       "    <tr>\n",
       "      <th>mean</th>\n",
       "      <td>446.000000</td>\n",
       "      <td>0.383838</td>\n",
       "      <td>2.308642</td>\n",
       "      <td>29.699118</td>\n",
       "      <td>0.523008</td>\n",
       "      <td>0.381594</td>\n",
       "      <td>32.204208</td>\n",
       "    </tr>\n",
       "    <tr>\n",
       "      <th>std</th>\n",
       "      <td>257.353842</td>\n",
       "      <td>0.486592</td>\n",
       "      <td>0.836071</td>\n",
       "      <td>14.526497</td>\n",
       "      <td>1.102743</td>\n",
       "      <td>0.806057</td>\n",
       "      <td>49.693429</td>\n",
       "    </tr>\n",
       "    <tr>\n",
       "      <th>min</th>\n",
       "      <td>1.000000</td>\n",
       "      <td>0.000000</td>\n",
       "      <td>1.000000</td>\n",
       "      <td>0.420000</td>\n",
       "      <td>0.000000</td>\n",
       "      <td>0.000000</td>\n",
       "      <td>0.000000</td>\n",
       "    </tr>\n",
       "    <tr>\n",
       "      <th>25%</th>\n",
       "      <td>223.500000</td>\n",
       "      <td>0.000000</td>\n",
       "      <td>2.000000</td>\n",
       "      <td>20.125000</td>\n",
       "      <td>0.000000</td>\n",
       "      <td>0.000000</td>\n",
       "      <td>7.910400</td>\n",
       "    </tr>\n",
       "    <tr>\n",
       "      <th>50%</th>\n",
       "      <td>446.000000</td>\n",
       "      <td>0.000000</td>\n",
       "      <td>3.000000</td>\n",
       "      <td>28.000000</td>\n",
       "      <td>0.000000</td>\n",
       "      <td>0.000000</td>\n",
       "      <td>14.454200</td>\n",
       "    </tr>\n",
       "    <tr>\n",
       "      <th>75%</th>\n",
       "      <td>668.500000</td>\n",
       "      <td>1.000000</td>\n",
       "      <td>3.000000</td>\n",
       "      <td>38.000000</td>\n",
       "      <td>1.000000</td>\n",
       "      <td>0.000000</td>\n",
       "      <td>31.000000</td>\n",
       "    </tr>\n",
       "    <tr>\n",
       "      <th>max</th>\n",
       "      <td>891.000000</td>\n",
       "      <td>1.000000</td>\n",
       "      <td>3.000000</td>\n",
       "      <td>80.000000</td>\n",
       "      <td>8.000000</td>\n",
       "      <td>6.000000</td>\n",
       "      <td>512.329200</td>\n",
       "    </tr>\n",
       "  </tbody>\n",
       "</table>\n",
       "</div>"
      ],
      "text/plain": [
       "       PassengerId    Survived      Pclass         Age       SibSp  \\\n",
       "count   891.000000  891.000000  891.000000  714.000000  891.000000   \n",
       "mean    446.000000    0.383838    2.308642   29.699118    0.523008   \n",
       "std     257.353842    0.486592    0.836071   14.526497    1.102743   \n",
       "min       1.000000    0.000000    1.000000    0.420000    0.000000   \n",
       "25%     223.500000    0.000000    2.000000   20.125000    0.000000   \n",
       "50%     446.000000    0.000000    3.000000   28.000000    0.000000   \n",
       "75%     668.500000    1.000000    3.000000   38.000000    1.000000   \n",
       "max     891.000000    1.000000    3.000000   80.000000    8.000000   \n",
       "\n",
       "            Parch        Fare  \n",
       "count  891.000000  891.000000  \n",
       "mean     0.381594   32.204208  \n",
       "std      0.806057   49.693429  \n",
       "min      0.000000    0.000000  \n",
       "25%      0.000000    7.910400  \n",
       "50%      0.000000   14.454200  \n",
       "75%      0.000000   31.000000  \n",
       "max      6.000000  512.329200  "
      ]
     },
     "execution_count": 6,
     "metadata": {},
     "output_type": "execute_result"
    }
   ],
   "source": [
    "train_df.describe()"
   ]
  },
  {
   "cell_type": "markdown",
   "id": "d5265f5b-a484-47f7-b938-cfb18dd328d7",
   "metadata": {
    "pycharm": {
     "name": "#%% md\n"
    }
   },
   "source": [
    "### 범주형 컬럼의 분포\n",
    "- 이름은 전체에서 고유\n",
    "- 남성이 65%\n",
    "- 캐빈값은 중복이 되고 여러 명의 승객이 객실을 공유했다\n",
    "- 세가지 항구에서 승객이 탑승했고, 대부분 승객이 S항에서 승선했다\n",
    "- 티켓은 중복된 값이 22% 높다"
   ]
  },
  {
   "cell_type": "code",
   "execution_count": 7,
   "id": "9dfa408d-3b6f-4fb8-af45-f2ccfe05ad8c",
   "metadata": {
    "pycharm": {
     "name": "#%%\n"
    }
   },
   "outputs": [
    {
     "data": {
      "text/html": [
       "<div>\n",
       "<style scoped>\n",
       "    .dataframe tbody tr th:only-of-type {\n",
       "        vertical-align: middle;\n",
       "    }\n",
       "\n",
       "    .dataframe tbody tr th {\n",
       "        vertical-align: top;\n",
       "    }\n",
       "\n",
       "    .dataframe thead th {\n",
       "        text-align: right;\n",
       "    }\n",
       "</style>\n",
       "<table border=\"1\" class=\"dataframe\">\n",
       "  <thead>\n",
       "    <tr style=\"text-align: right;\">\n",
       "      <th></th>\n",
       "      <th>Name</th>\n",
       "      <th>Sex</th>\n",
       "      <th>Ticket</th>\n",
       "      <th>Cabin</th>\n",
       "      <th>Embarked</th>\n",
       "    </tr>\n",
       "  </thead>\n",
       "  <tbody>\n",
       "    <tr>\n",
       "      <th>count</th>\n",
       "      <td>891</td>\n",
       "      <td>891</td>\n",
       "      <td>891</td>\n",
       "      <td>204</td>\n",
       "      <td>889</td>\n",
       "    </tr>\n",
       "    <tr>\n",
       "      <th>unique</th>\n",
       "      <td>891</td>\n",
       "      <td>2</td>\n",
       "      <td>681</td>\n",
       "      <td>147</td>\n",
       "      <td>3</td>\n",
       "    </tr>\n",
       "    <tr>\n",
       "      <th>top</th>\n",
       "      <td>Braund, Mr. Owen Harris</td>\n",
       "      <td>male</td>\n",
       "      <td>347082</td>\n",
       "      <td>B96 B98</td>\n",
       "      <td>S</td>\n",
       "    </tr>\n",
       "    <tr>\n",
       "      <th>freq</th>\n",
       "      <td>1</td>\n",
       "      <td>577</td>\n",
       "      <td>7</td>\n",
       "      <td>4</td>\n",
       "      <td>644</td>\n",
       "    </tr>\n",
       "  </tbody>\n",
       "</table>\n",
       "</div>"
      ],
      "text/plain": [
       "                           Name   Sex  Ticket    Cabin Embarked\n",
       "count                       891   891     891      204      889\n",
       "unique                      891     2     681      147        3\n",
       "top     Braund, Mr. Owen Harris  male  347082  B96 B98        S\n",
       "freq                          1   577       7        4      644"
      ]
     },
     "execution_count": 7,
     "metadata": {},
     "output_type": "execute_result"
    }
   ],
   "source": [
    "train_df.describe(include=\"object\")"
   ]
  },
  {
   "cell_type": "markdown",
   "id": "f62efe22-e4ba-479c-8e35-7086f6cda0e3",
   "metadata": {
    "pycharm": {
     "name": "#%% md\n"
    }
   },
   "source": [
    "### 데이터 분석을 기반으로 가정\n",
    "#### 상관\n",
    " 상관 관계 찾기\n",
    "#### 완료(완성)\n",
    " 1. Age는 상관관계가 높기 때문에 결측치를 처리해서 완성\n",
    " 2. Embarked 결측치를 처리해서 완성\n",
    "#### 수정\n",
    " 1. Ticket 제외 될 수 있다\n",
    " 2. Cabin 제외 될 수 있다\n",
    " 3. PId 제외 될 수 있다\n",
    " 4. Name 제외 될 수 있다\n",
    "#### 생성\n",
    " 1. Parch, SipSp 총 가족수로 변환\n",
    " 2. Name 칼럼에서 Title 새 칼럼으로 추출 할 수 있다\n",
    " 3. 나이(Age) 범위를 새롭게 칼럼으로 만들 수 있다\n",
    " 4. 학습에 도움이 될 경우 요금(Fare) 범주형으로 만들수 있다\n",
    "#### 분류\n",
    " 1. 여성이 생존했을 가능성이 높다\n",
    " 2. 어린이가 생존했을 가능성이 높다\n",
    " 3. 상류층 승객이 더 생존했을 가능성이 높다"
   ]
  },
  {
   "cell_type": "markdown",
   "id": "f0b15845-a493-44dc-83e7-1ca2c36ddc6d",
   "metadata": {
    "pycharm": {
     "name": "#%% md\n"
    }
   },
   "source": [
    "### 피봇 피쳐로 분석\n",
    " 상관 관계를 신속하게 분석, 빈 값이 없는 피쳐에 대해 작업, 명목형(Sex), 순서형(Pclass), 이산형(SibSp,Parch)\n",
    " \n",
    " - **Pclass** 유의미한 상관관계가 있다. 피쳐를 우리 모델에 포함\n",
    " - **Sex** 여성의 생존율이 거의 74%\n",
    " - **SibSp, Parch** 상관관계가 별로 없다. 가족수라는 새로운 칼럼으로 도출해보자."
   ]
  },
  {
   "cell_type": "code",
   "execution_count": 8,
   "id": "d7f0a7b4-4e0a-4c5a-a3f3-0b859b4ebd10",
   "metadata": {
    "pycharm": {
     "name": "#%%\n"
    }
   },
   "outputs": [
    {
     "data": {
      "text/html": [
       "<div>\n",
       "<style scoped>\n",
       "    .dataframe tbody tr th:only-of-type {\n",
       "        vertical-align: middle;\n",
       "    }\n",
       "\n",
       "    .dataframe tbody tr th {\n",
       "        vertical-align: top;\n",
       "    }\n",
       "\n",
       "    .dataframe thead th {\n",
       "        text-align: right;\n",
       "    }\n",
       "</style>\n",
       "<table border=\"1\" class=\"dataframe\">\n",
       "  <thead>\n",
       "    <tr style=\"text-align: right;\">\n",
       "      <th></th>\n",
       "      <th>Survived</th>\n",
       "    </tr>\n",
       "    <tr>\n",
       "      <th>Pclass</th>\n",
       "      <th></th>\n",
       "    </tr>\n",
       "  </thead>\n",
       "  <tbody>\n",
       "    <tr>\n",
       "      <th>1</th>\n",
       "      <td>0.629630</td>\n",
       "    </tr>\n",
       "    <tr>\n",
       "      <th>2</th>\n",
       "      <td>0.472826</td>\n",
       "    </tr>\n",
       "    <tr>\n",
       "      <th>3</th>\n",
       "      <td>0.242363</td>\n",
       "    </tr>\n",
       "  </tbody>\n",
       "</table>\n",
       "</div>"
      ],
      "text/plain": [
       "        Survived\n",
       "Pclass          \n",
       "1       0.629630\n",
       "2       0.472826\n",
       "3       0.242363"
      ]
     },
     "execution_count": 8,
     "metadata": {},
     "output_type": "execute_result"
    }
   ],
   "source": [
    "train_df[[\"Pclass\",\"Survived\"]].groupby([\"Pclass\"]).mean()"
   ]
  },
  {
   "cell_type": "code",
   "execution_count": 9,
   "id": "5e319ce2-e2c4-43d2-836d-952eb4c87b47",
   "metadata": {
    "pycharm": {
     "name": "#%%\n"
    }
   },
   "outputs": [
    {
     "data": {
      "text/html": [
       "<div>\n",
       "<style scoped>\n",
       "    .dataframe tbody tr th:only-of-type {\n",
       "        vertical-align: middle;\n",
       "    }\n",
       "\n",
       "    .dataframe tbody tr th {\n",
       "        vertical-align: top;\n",
       "    }\n",
       "\n",
       "    .dataframe thead th {\n",
       "        text-align: right;\n",
       "    }\n",
       "</style>\n",
       "<table border=\"1\" class=\"dataframe\">\n",
       "  <thead>\n",
       "    <tr style=\"text-align: right;\">\n",
       "      <th></th>\n",
       "      <th>Survived</th>\n",
       "    </tr>\n",
       "    <tr>\n",
       "      <th>Sex</th>\n",
       "      <th></th>\n",
       "    </tr>\n",
       "  </thead>\n",
       "  <tbody>\n",
       "    <tr>\n",
       "      <th>female</th>\n",
       "      <td>0.742038</td>\n",
       "    </tr>\n",
       "    <tr>\n",
       "      <th>male</th>\n",
       "      <td>0.188908</td>\n",
       "    </tr>\n",
       "  </tbody>\n",
       "</table>\n",
       "</div>"
      ],
      "text/plain": [
       "        Survived\n",
       "Sex             \n",
       "female  0.742038\n",
       "male    0.188908"
      ]
     },
     "execution_count": 9,
     "metadata": {},
     "output_type": "execute_result"
    }
   ],
   "source": [
    "train_df[[\"Sex\",\"Survived\"]].groupby([\"Sex\"]).mean()\\\n",
    ".sort_values(by=\"Survived\",ascending=False)"
   ]
  },
  {
   "cell_type": "code",
   "execution_count": 10,
   "id": "09fdef0e-947f-4339-ace5-d2cafcc6ba99",
   "metadata": {
    "pycharm": {
     "name": "#%%\n"
    }
   },
   "outputs": [
    {
     "data": {
      "text/html": [
       "<div>\n",
       "<style scoped>\n",
       "    .dataframe tbody tr th:only-of-type {\n",
       "        vertical-align: middle;\n",
       "    }\n",
       "\n",
       "    .dataframe tbody tr th {\n",
       "        vertical-align: top;\n",
       "    }\n",
       "\n",
       "    .dataframe thead th {\n",
       "        text-align: right;\n",
       "    }\n",
       "</style>\n",
       "<table border=\"1\" class=\"dataframe\">\n",
       "  <thead>\n",
       "    <tr style=\"text-align: right;\">\n",
       "      <th></th>\n",
       "      <th>Survived</th>\n",
       "    </tr>\n",
       "    <tr>\n",
       "      <th>SibSp</th>\n",
       "      <th></th>\n",
       "    </tr>\n",
       "  </thead>\n",
       "  <tbody>\n",
       "    <tr>\n",
       "      <th>1</th>\n",
       "      <td>0.535885</td>\n",
       "    </tr>\n",
       "    <tr>\n",
       "      <th>2</th>\n",
       "      <td>0.464286</td>\n",
       "    </tr>\n",
       "    <tr>\n",
       "      <th>0</th>\n",
       "      <td>0.345395</td>\n",
       "    </tr>\n",
       "    <tr>\n",
       "      <th>3</th>\n",
       "      <td>0.250000</td>\n",
       "    </tr>\n",
       "    <tr>\n",
       "      <th>4</th>\n",
       "      <td>0.166667</td>\n",
       "    </tr>\n",
       "    <tr>\n",
       "      <th>5</th>\n",
       "      <td>0.000000</td>\n",
       "    </tr>\n",
       "    <tr>\n",
       "      <th>8</th>\n",
       "      <td>0.000000</td>\n",
       "    </tr>\n",
       "  </tbody>\n",
       "</table>\n",
       "</div>"
      ],
      "text/plain": [
       "       Survived\n",
       "SibSp          \n",
       "1      0.535885\n",
       "2      0.464286\n",
       "0      0.345395\n",
       "3      0.250000\n",
       "4      0.166667\n",
       "5      0.000000\n",
       "8      0.000000"
      ]
     },
     "execution_count": 10,
     "metadata": {},
     "output_type": "execute_result"
    }
   ],
   "source": [
    "train_df[[\"SibSp\",\"Survived\"]].groupby([\"SibSp\"]).mean()\\\n",
    ".sort_values(by=\"Survived\",ascending=False)"
   ]
  },
  {
   "cell_type": "code",
   "execution_count": 11,
   "id": "d934da24-4b36-4a67-b164-6122b9ae51fa",
   "metadata": {
    "pycharm": {
     "name": "#%%\n"
    }
   },
   "outputs": [
    {
     "data": {
      "text/html": [
       "<div>\n",
       "<style scoped>\n",
       "    .dataframe tbody tr th:only-of-type {\n",
       "        vertical-align: middle;\n",
       "    }\n",
       "\n",
       "    .dataframe tbody tr th {\n",
       "        vertical-align: top;\n",
       "    }\n",
       "\n",
       "    .dataframe thead th {\n",
       "        text-align: right;\n",
       "    }\n",
       "</style>\n",
       "<table border=\"1\" class=\"dataframe\">\n",
       "  <thead>\n",
       "    <tr style=\"text-align: right;\">\n",
       "      <th></th>\n",
       "      <th>Survived</th>\n",
       "    </tr>\n",
       "    <tr>\n",
       "      <th>Parch</th>\n",
       "      <th></th>\n",
       "    </tr>\n",
       "  </thead>\n",
       "  <tbody>\n",
       "    <tr>\n",
       "      <th>3</th>\n",
       "      <td>0.600000</td>\n",
       "    </tr>\n",
       "    <tr>\n",
       "      <th>1</th>\n",
       "      <td>0.550847</td>\n",
       "    </tr>\n",
       "    <tr>\n",
       "      <th>2</th>\n",
       "      <td>0.500000</td>\n",
       "    </tr>\n",
       "    <tr>\n",
       "      <th>0</th>\n",
       "      <td>0.343658</td>\n",
       "    </tr>\n",
       "    <tr>\n",
       "      <th>5</th>\n",
       "      <td>0.200000</td>\n",
       "    </tr>\n",
       "    <tr>\n",
       "      <th>4</th>\n",
       "      <td>0.000000</td>\n",
       "    </tr>\n",
       "    <tr>\n",
       "      <th>6</th>\n",
       "      <td>0.000000</td>\n",
       "    </tr>\n",
       "  </tbody>\n",
       "</table>\n",
       "</div>"
      ],
      "text/plain": [
       "       Survived\n",
       "Parch          \n",
       "3      0.600000\n",
       "1      0.550847\n",
       "2      0.500000\n",
       "0      0.343658\n",
       "5      0.200000\n",
       "4      0.000000\n",
       "6      0.000000"
      ]
     },
     "execution_count": 11,
     "metadata": {},
     "output_type": "execute_result"
    }
   ],
   "source": [
    "train_df[[\"Parch\",\"Survived\"]].groupby([\"Parch\"]).mean()\\\n",
    ".sort_values(by=\"Survived\",ascending=False)"
   ]
  },
  {
   "cell_type": "markdown",
   "id": "6b586817-269b-4e4d-8370-39a54d8e8161",
   "metadata": {
    "pycharm": {
     "name": "#%% md\n"
    }
   },
   "source": [
    "## 데이터를 시각화하여 분석\n",
    "### 수치 특성의 상관 관계\n",
    "수치 특성과 Survived 사이의 상관관계 이해\n",
    "히스토그램 col-Survived, x-수치 특성\n",
    "\n",
    "**관찰**\n",
    "- 유아(나이<=5) 생존율이 높았다\n",
    "- 80세 승객은 생존 했다\n",
    "- 15-25세가 많은 수가 살아 남자 못했다\n",
    "- 대부분 승객은 15세~35세 사이다\n",
    "\n",
    "**결정 사항**\n",
    "- 모델 훈련에서 나이를 고려 해 볼 수 있다.\n",
    "- null값을 처리해서 나이를 완성해야 된다.\n",
    "- 나이 범위 그룹으로 만들어야 된다."
   ]
  },
  {
   "cell_type": "code",
   "execution_count": 12,
   "id": "b3ce76eb-23d1-43cb-b3d6-66423d38aede",
   "metadata": {
    "pycharm": {
     "name": "#%%\n"
    }
   },
   "outputs": [
    {
     "data": {
      "text/plain": [
       "<seaborn.axisgrid.FacetGrid at 0x20accf9d8e0>"
      ]
     },
     "execution_count": 12,
     "metadata": {},
     "output_type": "execute_result"
    },
    {
     "data": {
      "image/png": "iVBORw0KGgoAAAANSUhEUgAAAk0AAAEiCAYAAADksOZKAAAAOXRFWHRTb2Z0d2FyZQBNYXRwbG90bGliIHZlcnNpb24zLjYuMiwgaHR0cHM6Ly9tYXRwbG90bGliLm9yZy8o6BhiAAAACXBIWXMAAA9hAAAPYQGoP6dpAAAjR0lEQVR4nO3df1RUdf7H8RcIDBgyCCVoQmq1UpkWmDqmrRlG5pqu1KZrpeVmtfiT3fzxdbOtzeDUKa1df7Qd1Go1zUrTMtsWlbIglZJSCy3pwK6ClQJqMaB8vn/sabYJf9yBGYYfz8c595zm/nx/jHmf19x7506AMcYIAAAAZxXo7wIAAACaA0ITAACABYQmAAAACwhNAAAAFhCaAAAALCA0AQAAWEBoAgAAsIDQBAAAYAGhCQAAwAJCExrN1q1bFRAQoPLycp8eZ/z48Ro5cqRPjwGg6aHHwNcITa3MN998owceeEDx8fGy2WyKjY1VSkqKPvjgA58fu3///jp06JDsdrvPj+Vrn376qQYOHKjQ0FDFxcXpiSee8HdJQJNAj2m4qqoqjR8/XldeeaWCgoIIaE1IkL8LQONKTU1VdXW1XnjhBXXr1k1lZWXKzs7Wd999V+99GmN06tQpBQWd/c8pJCREsbGx9T5OU1FZWakbb7xRycnJWrJkiT777DPdc889ioyM1MSJE/1dHuBX9JiGO3XqlMLCwjRlyhS99tpr/i4HP2XQahw9etRIMlu3bj3jOkVFRUaS+eSTT+pst2XLFmOMMVu2bDGSzMaNG01iYqIJDg42zz33nJFkPv/8c7f9Pf3006Zbt25u2x09etRUVFSY0NBQs3HjRrf1X3/9dRMeHm5OnDhhjDGmuLjY3HbbbcZut5v27dubW265xRQVFbnWP3nypJk+fbqx2+0mKirKPPjgg+auu+4yI0aMqP8/1DksWrTItG/f3jidTte8mTNnmu7du/vsmEBzQI/xvnHjxjXasXBuXJ5rRcLDwxUeHq5169bJ6XQ2eH+zZs1SZmamPv/8c916663q3bu3VqxY4bbOihUr9Nvf/rbOthEREfrVr36llStX1ll/5MiRatu2rWpqapSSkqJ27drp/fff1wcffKDw8HDddNNNqq6uliQ99dRTWr58uZYuXapt27bpyJEjWrt27VnrLi4udv1bnGl6/PHHz7h9bm6urrvuOoWEhLjmpaSkqLCwUEePHj3nvxvQUtFj/quhPQZNmL9TGxrXq6++atq3b29CQ0NN//79zezZs01BQYFruSefAtetW+e27/nz55uLL77Y9bqwsNDtk+FPPwUaY8zatWvdPvH9+Mnw7bffNsYY89JLL5nu3bub2tpa1z6dTqcJCwsz77zzjjHGmI4dO5onnnjCtbympsZ07tz5rJ/MampqzP79+886fffdd2fcfsiQIWbixIlu8/bs2WMkmb17955xO6A1oMc0vMf8FGeamhbONLUyqampOnjwoNavX6+bbrpJW7duVWJiopYvX+7xvnr37u32evTo0fr666+Vl5cn6b+f6BITE5WQkHDa7W+++WYFBwdr/fr1kqTXXntNERERSk5OliQVFBToyy+/VLt27VyfzqKiolRVVaWvvvpKFRUVOnTokPr27evaZ1BQUJ26fi4oKEiXXHLJWaeoqCiP/z0A0GN+XIce0zIRmlqh0NBQDRkyRA899JA+/PBDjR8/Xg8//LAkKTDwv38SxhjX+jU1Nafdz3nnnef2OjY2VoMHD3adDl+5cqXGjh17xjpCQkJ06623uq1/++23u272PH78uJKSkrRr1y63ad++fac9HW9VQ0+dx8bGqqyszG3ej69bwk2oQEPRY7g811Lx7Tno8ssv17p16yRJF1xwgSTp0KFDuvrqqyVJu3btsryvsWPHasaMGRozZowOHDig0aNHn3P9IUOGaM+ePdq8ebMee+wx17LExEStXr1aHTp0UERExGm379ixoz766CNdd911kqSTJ08qPz9fiYmJZzxmp06dzjmms30KdDgcmjNnjmpqahQcHCxJevfdd9W9e3e1b9/+rPsFWiN6TF2caWqm/H19EI3n22+/Nddff7156aWXTEFBgTlw4IB55ZVXTExMjLnnnntc6/Xr188MHDjQ7N2712zdutX06dPntPcb/HjfwE9VVlaasLAw06tXL3PDDTe4LTvddrW1tSYuLs706tXL7V4FY4w5ceKEufTSS82gQYPMe++9Zw4cOGC2bNliJk+ebEpKSowxxmRmZpqoqCizdu1a8/nnn5t7773XtGvXzqf3AJSXl5uYmBhz5513mt27d5tVq1aZtm3bmueee85nxwSaA3qM9+zZs8d88sknZvjw4WbQoEHmk08+cbsPDP5BaGpFqqqqzKxZs0xiYqKx2+2mbdu2pnv37uZPf/qT+f77713r7d271zgcDhMWFmauuuoq889//tNyQzPGmN/85jdGklm6dKnb/DNtN2PGDCPJzJ07t86+Dh06ZO666y5z/vnnG5vNZrp162buvfdeU1FRYYz57w2XU6dONRERESYyMtKkp6c3yteBCwoKzIABA4zNZjMXXnihyczM9OnxgOaAHuM9F110kZFUZ4J/BRjzkwvLAAAAOC1uBAcAALCA0AQAAGABoQkAAMACQhMAAIAFhCYAAAALCE0AAAAWNLnQZIxRZWWleBICAF+hzwCojyYXmo4dOya73a5jx475uxQALRR9BkB9NLnQBAAA0BQRmgAAACwgNAEAAFhAaAIAALCA0AQAAGABoQkAAMACQhMAAIAFhCYAAAALCE0AAAAWBPm7AHhXl1lvWV7368xhPqwEAICWhTNNAAAAFhCaAAAALCA0AQAAWEBoAgAAsIDQBAAAYAGhCQAAwAIeOdCK8XgCAACs40wTAACABYQmAAAACwhNAAAAFhCaAAAALCA0AQAAWEBoAgAAsIDQBAAAYAGhCQAAwAJCEwAAgAUehaY///nPCggIcJsSEhJcy6uqqpSWlqbo6GiFh4crNTVVZWVlXi8aAACgsXn8MypXXHGF/vWvf/1vB0H/28X06dP11ltvac2aNbLb7Zo0aZJGjRqlDz74wDvVtjBWf8aEnzABAMD/PA5NQUFBio2NrTO/oqJCWVlZWrlypQYPHixJWrZsmS677DLl5eWpX79+Da8WAADATzy+p2n//v3q1KmTunXrprFjx6q4uFiSlJ+fr5qaGiUnJ7vWTUhIUHx8vHJzc8+4P6fTqcrKSrcJALyJPgPAGzwKTX379tXy5cu1adMmLV68WEVFRRo4cKCOHTum0tJShYSEKDIy0m2bmJgYlZaWnnGfGRkZstvtrikuLq5eAwGAM6HPAPAGj0LT0KFDddttt6lnz55KSUnRxo0bVV5erldeeaXeBcyePVsVFRWuqaSkpN77AoDToc8A8AaP72n6qcjISP3iF7/Ql19+qSFDhqi6ulrl5eVuZ5vKyspOew/Uj2w2m2w2W0PKAICzos8A8IYGPafp+PHj+uqrr9SxY0clJSUpODhY2dnZruWFhYUqLi6Ww+FocKEAAAD+5NGZpj/+8Y8aPny4LrroIh08eFAPP/yw2rRpozFjxshut2vChAlKT09XVFSUIiIiNHnyZDkcDr45BwAAmj2PQtO///1vjRkzRt99950uuOACDRgwQHl5ebrgggskSfPnz1dgYKBSU1PldDqVkpKiRYsW+aRwAACAxuRRaFq1atVZl4eGhmrhwoVauHBhg4oCAABoahp0Izgah9UnhwMAAN/hB3sBAAAsIDQBAABYQGgCAACwgNAEAABgAaEJAADAAkITAACABYQmAAAACwhNAAAAFhCaAAAALCA0AQAAWEBoAgAAsIDQBAAAYAGhCQAAwAJCEwAAgAWEJgAAAAsITQAAABYQmgAAACwgNAEAAFhAaAIAALCA0AQAAGABoQkAAMACQhMAAIAFhCYAAAALGhSaMjMzFRAQoGnTprnmVVVVKS0tTdHR0QoPD1dqaqrKysoaWicAAIBf1Ts07dixQ88995x69uzpNn/69OnasGGD1qxZo5ycHB08eFCjRo1qcKEAAAD+VK/QdPz4cY0dO1bPP/+82rdv75pfUVGhrKwsPf300xo8eLCSkpK0bNkyffjhh8rLy/Na0QAAAI2tXqEpLS1Nw4YNU3Jystv8/Px81dTUuM1PSEhQfHy8cnNzG1YpAACAHwV5usGqVav08ccfa8eOHXWWlZaWKiQkRJGRkW7zY2JiVFpaetr9OZ1OOZ1O1+vKykpPSwKAs6LPAPAGj840lZSUaOrUqVqxYoVCQ0O9UkBGRobsdrtriouL88p+AeBH9BkA3uBRaMrPz9fhw4eVmJiooKAgBQUFKScnR88++6yCgoIUExOj6upqlZeXu21XVlam2NjY0+5z9uzZqqiocE0lJSX1HgwAnA59BoA3eHR57oYbbtBnn33mNu/uu+9WQkKCZs6cqbi4OAUHBys7O1upqamSpMLCQhUXF8vhcJx2nzabTTabrZ7lA8C50WcAeINHoaldu3bq0aOH27zzzjtP0dHRrvkTJkxQenq6oqKiFBERocmTJ8vhcKhfv37eqxoAAKCReXwj+LnMnz9fgYGBSk1NldPpVEpKihYtWuTtwwAAADSqAGOM8XcRP1VZWSm73a6KigpFRET4uxyf6jLrLX+XYNnXmcP8XQLgNa2pzwDwHn57DgAAwAJCEwAAgAWEJgAAAAsITQAAABYQmgAAACwgNAEAAFhAaAIAALCA0AQAAGCB158IDgBo3jx98C4Pv0VrwZkmAAAACwhNAAAAFnB5DgDQqHz5u5tcKoQvcaYJAADAAkITAACABYQmAAAAC7inCV7nyf0K3H8AAGguONMEAABgAaEJAADAAkITAACABYQmAAAACwhNAAAAFhCaAAAALCA0AQAAWEBoAgAAsMCj0LR48WL17NlTERERioiIkMPh0Ntvv+1aXlVVpbS0NEVHRys8PFypqakqKyvzetEAAACNzaPQ1LlzZ2VmZio/P187d+7U4MGDNWLECO3Zs0eSNH36dG3YsEFr1qxRTk6ODh48qFGjRvmkcAAAgMbk0c+oDB8+3O31vHnztHjxYuXl5alz587KysrSypUrNXjwYEnSsmXLdNlllykvL0/9+vXzXtUAAACNrN73NJ06dUqrVq3SiRMn5HA4lJ+fr5qaGiUnJ7vWSUhIUHx8vHJzc71SLAAAgL94/IO9n332mRwOh6qqqhQeHq61a9fq8ssv165duxQSEqLIyEi39WNiYlRaWnrG/TmdTjmdTtfryspKT0sCgLOizwDwBo9DU/fu3bVr1y5VVFTo1Vdf1bhx45STk1PvAjIyMvTII4/Ue3s0ji6z3vJ3CUC90Wd8i/6A1sLjy3MhISG65JJLlJSUpIyMDPXq1UvPPPOMYmNjVV1drfLycrf1y8rKFBsbe8b9zZ49WxUVFa6ppKTE40EAwNnQZwB4g8dnmn6utrZWTqdTSUlJCg4OVnZ2tlJTUyVJhYWFKi4ulsPhOOP2NptNNputoWUAwBnRZwB4g0ehafbs2Ro6dKji4+N17NgxrVy5Ulu3btU777wju92uCRMmKD09XVFRUYqIiNDkyZPlcDj45hwAAGj2PApNhw8f1l133aVDhw7JbrerZ8+eeueddzRkyBBJ0vz58xUYGKjU1FQ5nU6lpKRo0aJFPikcAACgMXkUmrKyss66PDQ0VAsXLtTChQsbVBQAAEBTw2/PAQAAWNDgG8GBhvDkq8pfZw7zYSUAAJwdZ5oAAAAsIDQBAABYwOU5ADgHT5943dQuJfPEbsA7ONMEAABgAaEJAADAAkITAACABYQmAAAACwhNAAAAFhCaAAAALCA0AQAAWEBoAgAAsIDQBAAAYAGhCQAAwAJCEwAAgAWEJgAAAAsITQAAABYQmgAAACwI8ncBgC90mfWW5XW/zhzmw0oAAC0FZ5oAAAAsIDQBAABYQGgCAACwgNAEAABgAaEJAADAAo9CU0ZGhq655hq1a9dOHTp00MiRI1VYWOi2TlVVldLS0hQdHa3w8HClpqaqrKzMq0UDAAA0No9CU05OjtLS0pSXl6d3331XNTU1uvHGG3XixAnXOtOnT9eGDRu0Zs0a5eTk6ODBgxo1apTXCwcAAGhMHj2nadOmTW6vly9frg4dOig/P1/XXXedKioqlJWVpZUrV2rw4MGSpGXLlumyyy5TXl6e+vXr573KAQAAGlGDHm5ZUVEhSYqKipIk5efnq6amRsnJya51EhISFB8fr9zc3NOGJqfTKafT6XpdWVnZkJIAoA76DABvqPeN4LW1tZo2bZquvfZa9ejRQ5JUWlqqkJAQRUZGuq0bExOj0tLS0+4nIyNDdrvdNcXFxdW3JAA4LfoMAG+od2hKS0vT7t27tWrVqgYVMHv2bFVUVLimkpKSBu0PAH6OPgPAG+p1eW7SpEl688039d5776lz586u+bGxsaqurlZ5ebnb2aaysjLFxsaedl82m002m60+ZQCAJfQZAN7g0ZkmY4wmTZqktWvXavPmzeratavb8qSkJAUHBys7O9s1r7CwUMXFxXI4HN6pGAAAwA88OtOUlpamlStX6o033lC7du1c9ynZ7XaFhYXJbrdrwoQJSk9PV1RUlCIiIjR58mQ5HA6+OQcAAJo1j0LT4sWLJUmDBg1ym79s2TKNHz9ekjR//nwFBgYqNTVVTqdTKSkpWrRokVeKBQAA8BePQpMx5pzrhIaGauHChVq4cGG9iwIAAGhq+O05AAAACwhNAAAAFhCaAAAALCA0AQAAWNCg354DGlOXWW/5uwQATZynfeLrzGE+qgQtEWeaAAAALCA0AQAAWEBoAgAAsIDQBAAAYAGhCQAAwAJCEwAAgAU8cgCtnidfUebryWgKePwG4B+caQIAALCA0AQAAGABl+cAAPARnlDesnCmCQAAwAJCEwAAgAWEJgAAAAta1D1NfHUcAAD4CmeaAAAALCA0AQAAWNCiLs8BAOAJnq4OT3CmCQAAwAJCEwAAgAUeh6b33ntPw4cPV6dOnRQQEKB169a5LTfGaO7cuerYsaPCwsKUnJys/fv3e6teAAAAv/D4nqYTJ06oV69euueeezRq1Kg6y5944gk9++yzeuGFF9S1a1c99NBDSklJ0d69exUaGuqVohsbjzIAAAAeh6ahQ4dq6NChp11mjNGCBQv0pz/9SSNGjJAkvfjii4qJidG6des0evTohlULAADgJ169p6moqEilpaVKTk52zbPb7erbt69yc3NPu43T6VRlZaXbBADeRJ8B4A1eDU2lpaWSpJiYGLf5MTExrmU/l5GRIbvd7pri4uK8WRIA0GcAeIXfvz03e/ZsVVRUuKaSkhJ/lwSghaHPAPAGrz7cMjY2VpJUVlamjh07uuaXlZXpqquuOu02NptNNpvNm2UAgBv6DABv8OqZpq5duyo2NlbZ2dmueZWVlfroo4/kcDi8eSgAAIBG5fGZpuPHj+vLL790vS4qKtKuXbsUFRWl+Ph4TZs2TY899pguvfRS1yMHOnXqpJEjR3qzbgBosjz9aQ4eVQI0Dx6Hpp07d+r66693vU5PT5ckjRs3TsuXL9eMGTN04sQJTZw4UeXl5RowYIA2bdrUbJ/RBAAAINUjNA0aNEjGmDMuDwgI0KOPPqpHH320QYUBAAA0JX7/9hwAAEBz4NVvzwH4L356BwBaHs40AQAAWEBoAgAAsIDLc4AHPP0qubf3yaU8oGXjcRVNG2eaAAAALCA0AQAAWEBoAgAAsIB7moBmhPufAMB/ONMEAABgAaEJAADAglZ7ec4XXx335X4BAPg5HlHQuDjTBAAAYAGhCQAAwAJCEwAAgAWt9p4mAP/Dowz8i3sh0Vi4B6phONMEAABgAaEJAADAAkITAACABYQmAAAACwhNAAAAFhCaAAAALOCRA0ALxdfYAcC7ONMEAABggc9C08KFC9WlSxeFhoaqb9++2r59u68OBQAA4HM+uTy3evVqpaena8mSJerbt68WLFiglJQUFRYWqkOHDr44JAAAaMGawtPMfXKm6emnn9a9996ru+++W5dffrmWLFmitm3baunSpb44HAAAgM95PTRVV1crPz9fycnJ/ztIYKCSk5OVm5vr7cMBAAA0Cq9fnvv222916tQpxcTEuM2PiYnRF198UWd9p9Mpp9Ppel1RUSFJqqys9PjYtc7vPd4GgGfq8970lnbt2ikgIMDj7RraZ+gtaK38+X7/OU/fh/Wp/Vw9xu+PHMjIyNAjjzxSZ35cXJwfqgFwLvYF/jt2RUWFIiIiPN6OPgPUjz/f7w1Vn9rP1WMCjDGm/iXVVV1drbZt2+rVV1/VyJEjXfPHjRun8vJyvfHGG27r//wTYG1trY4cOaLo6OhzfqKsrKxUXFycSkpK6tVIm5vWNN7WNFaJ8VrlrTNNVvsM/19attY03tY0Vsl3PcbrZ5pCQkKUlJSk7OxsV2iqra1Vdna2Jk2aVGd9m80mm83mNi8yMtKjY0ZERLSKP4IftabxtqaxSozXVxraZ/j/0rK1pvG2prFK3h+vTy7Ppaena9y4cerdu7f69OmjBQsW6MSJE7r77rt9cTgAAACf80louv322/XNN99o7ty5Ki0t1VVXXaVNmzbVuTkcAACgufDZjeCTJk067eU4b7LZbHr44YfrnHZvqVrTeFvTWCXG21Q1lzq9hfG2XK1prJLvxuv1G8EBAABaIn6wFwAAwAJCEwAAgAWEJgAAAAuabWhauHChunTpotDQUPXt21fbt2/3d0lekZGRoWuuuUbt2rVThw4dNHLkSBUWFrqtU1VVpbS0NEVHRys8PFypqakqKyvzU8Xek5mZqYCAAE2bNs01r6WN9T//+Y/uuOMORUdHKywsTFdeeaV27tzpWm6M0dy5c9WxY0eFhYUpOTlZ+/fv92PF9Xfq1Ck99NBD6tq1q8LCwnTxxRfrL3/5i356G2VTH29L7DOtucdI9Bmp6b/vrPJLjzHN0KpVq0xISIhZunSp2bNnj7n33ntNZGSkKSsr83dpDZaSkmKWLVtmdu/ebXbt2mVuvvlmEx8fb44fP+5a5/777zdxcXEmOzvb7Ny50/Tr18/079/fj1U33Pbt202XLl1Mz549zdSpU13zW9JYjxw5Yi666CIzfvx489FHH5kDBw6Yd955x3z55ZeudTIzM43dbjfr1q0zBQUF5pZbbjFdu3Y1P/zwgx8rr5958+aZ6Oho8+abb5qioiKzZs0aEx4ebp555hnXOk15vC21z7TWHmMMfeZHTfl95wl/9JhmGZr69Olj0tLSXK9PnTplOnXqZDIyMvxYlW8cPnzYSDI5OTnGGGPKy8tNcHCwWbNmjWudzz//3Egyubm5/iqzQY4dO2YuvfRS8+6775pf/vKXrmbW0sY6c+ZMM2DAgDMur62tNbGxsebJJ590zSsvLzc2m828/PLLjVGiVw0bNszcc889bvNGjRplxo4da4xp+uNtLX2mNfQYY+gzP2rq7ztP+KPHNLvLc9XV1crPz1dycrJrXmBgoJKTk5Wbm+vHynzjx19jj4qKkiTl5+erpqbGbfwJCQmKj49vtuNPS0vTsGHD3MYktbyxrl+/Xr1799Ztt92mDh066Oqrr9bzzz/vWl5UVKTS0lK38drtdvXt27dZjrd///7Kzs7Wvn37JEkFBQXatm2bhg4dKqlpj7c19ZnW0GMk+syPmvL7zlP+6DE+e7ilr3z77bc6depUnaeLx8TE6IsvvvBTVb5RW1uradOm6dprr1WPHj0kSaWlpQoJCanzu1kxMTEqLS31Q5UNs2rVKn388cfasWNHnWUtbawHDhzQ4sWLlZ6erv/7v//Tjh07NGXKFIWEhGjcuHGuMZ3ub7s5jnfWrFmqrKxUQkKC2rRpo1OnTmnevHkaO3asJDXp8baWPtMaeoxEn2mpfcYfPabZhabWJC0tTbt379a2bdv8XYpPlJSUaOrUqXr33XcVGhrq73J8rra2Vr1799bjjz8uSbr66qu1e/duLVmyROPGjfNzdd73yiuvaMWKFVq5cqWuuOIK7dq1S9OmTVOnTp1a5Hibo5beYyT6TEvuM/7oMc3u8tz555+vNm3a1PlmQ1lZmWJjY/1UlfdNmjRJb775prZs2aLOnTu75sfGxqq6ulrl5eVu6zfH8efn5+vw4cNKTExUUFCQgoKClJOTo2effVZBQUGKiYlpMWOVpI4dO+ryyy93m3fZZZepuLhYklxjail/2w8++KBmzZql0aNH68orr9Sdd96p6dOnKyMjQ1LTHm9r6DOtocdI9Bmp5fYZf/SYZheaQkJClJSUpOzsbNe82tpaZWdny+Fw+LEy7zDGaNKkSVq7dq02b96srl27ui1PSkpScHCw2/gLCwtVXFzc7MZ/ww036LPPPtOuXbtcU+/evTV27FjXf7eUsUrStddeW+er3fv27dNFF10kSeratatiY2PdxltZWamPPvqoWY73+++/V2Cge4tp06aNamtrJTXt8bbkPtOaeoxEn5Fabp/xS4+p713r/rRq1Spjs9nM8uXLzd69e83EiRNNZGSkKS0t9XdpDfbAAw8Yu91utm7dag4dOuSavv/+e9c6999/v4mPjzebN282O3fuNA6HwzgcDj9W7T0//VaLMS1rrNu3bzdBQUFm3rx5Zv/+/WbFihWmbdu25h//+IdrnczMTBMZGWneeOMN8+mnn5oRI0Y0y68CG2PMuHHjzIUXXuj6OvDrr79uzj//fDNjxgzXOk15vC21z7T2HmMMfaYpv+884Y8e0yxDkzHG/PWvfzXx8fEmJCTE9OnTx+Tl5fm7JK+QdNpp2bJlrnV++OEH8/vf/960b9/etG3b1vz61782hw4d8l/RXvTzZtbSxrphwwbTo0cPY7PZTEJCgvn73//utry2ttY89NBDJiYmxthsNnPDDTeYwsJCP1XbMJWVlWbq1KkmPj7ehIaGmm7dupk5c+YYp9PpWqepj7cl9pnW3mOMoc809fedVf7oMQHG/OTRmQAAADitZndPEwAAgD8QmgAAACwgNAEAAFhAaAIAALCA0AQAAGABoQkAAMACQhMAAIAFhCYAAAALCE0AAAAWEJrgF7m5uWrTpo2GDRvm71IAtED0GPgCP6MCv/jd736n8PBwZWVlqbCwUJ06dfJ3SQBaEHoMfIEzTWh0x48f1+rVq/XAAw9o2LBhWr58udvy9evX69JLL1VoaKiuv/56vfDCCwoICFB5eblrnW3btmngwIEKCwtTXFycpkyZohMnTjTuQAA0SfQY+AqhCY3ulVdeUUJCgrp376477rhDS5cu1Y8nPIuKinTrrbdq5MiRKigo0H333ac5c+a4bf/VV1/ppptuUmpqqj799FOtXr1a27Zt06RJk/wxHABNDD0GPmOARta/f3+zYMECY4wxNTU15vzzzzdbtmwxxhgzc+ZM06NHD7f158yZYySZo0ePGmOMmTBhgpk4caLbOu+//74JDAw0P/zwg8/rB9C00WPgK5xpQqMqLCzU9u3bNWbMGElSUFCQbr/9dmVlZbmWX3PNNW7b9OnTx+11QUGBli9frvDwcNeUkpKi2tpaFRUVNc5AADRJ9Bj4UpC/C0DrkpWVpZMnT7rdlGmMkc1m09/+9jdL+zh+/Ljuu+8+TZkypc6y+Ph4r9UKoPmhx8CXCE1oNCdPntSLL76op556SjfeeKPbspEjR+rll19W9+7dtXHjRrdlO3bscHudmJiovXv36pJLLvF5zQCaD3oMfM7f1wfReqxdu9aEhISY8vLyOstmzJhhevfubQ4cOGCCg4PNjBkzTGFhoVm9erXp3LmzkeTarqCgwISFhZm0tDTzySefmH379pl169aZtLS0xh4SgCaEHgNf454mNJqsrCwlJyfLbrfXWZaamqqdO3fq2LFjevXVV/X666+rZ8+eWrx4seubLTabTZLUs2dP5eTkaN++fRo4cKCuvvpqzZ07l+ewAK0cPQa+xsMt0eTNmzdPS5YsUUlJib9LAdAC0WNgFfc0oclZtGiRrrnmGkVHR+uDDz7Qk08+yfNRAHgNPQb1RWhCk7N//3499thjOnLkiOLj4/WHP/xBs2fP9ndZAFoIegzqi8tzAAAAFnAjOAAAgAWEJgAAAAsITQAAABYQmgAAACwgNAEAAFhAaAIAALCA0AQAAGABoQkAAMACQhMAAIAF/w92iRs8s+uR5AAAAABJRU5ErkJggg==",
      "text/plain": [
       "<Figure size 600x300 with 2 Axes>"
      ]
     },
     "metadata": {},
     "output_type": "display_data"
    }
   ],
   "source": [
    "g=sns.FacetGrid(train_df,col=\"Survived\")\n",
    "g.map(plt.hist, \"Age\",bins=20)"
   ]
  },
  {
   "cell_type": "markdown",
   "id": "f9eb08ab-28ff-4729-9920-ec2a63485ceb",
   "metadata": {
    "pycharm": {
     "name": "#%% md\n"
    }
   },
   "source": [
    "### 상관관계 확인: 명목형과 순서형의 피쳐들\n",
    "Pclass 시각화\n",
    "\n",
    "**관찰**\n",
    "- Pclass=3 대부분의 승객, 대부분 살아 남지 못했다\n",
    "- Pc=3,Pc=2,Pc=1 유아 승객이 생존 비율이 높았다\n",
    "- Pc=1 승객 대부분은 생존\n",
    "- Pclass는 승객 연령 분포가 다양하다\n",
    "\n",
    "**결정 사항**\n",
    "- 모델 학습을 위해 Pclass 고려한다"
   ]
  },
  {
   "cell_type": "code",
   "execution_count": 13,
   "id": "0581e00b-1be5-4e7f-8b8c-6181c1c4eddb",
   "metadata": {
    "pycharm": {
     "name": "#%%\n"
    }
   },
   "outputs": [
    {
     "data": {
      "text/plain": [
       "<seaborn.axisgrid.FacetGrid at 0x20accf9dee0>"
      ]
     },
     "execution_count": 13,
     "metadata": {},
     "output_type": "execute_result"
    },
    {
     "data": {
      "image/png": "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",
      "text/plain": [
       "<Figure size 600x900 with 6 Axes>"
      ]
     },
     "metadata": {},
     "output_type": "display_data"
    }
   ],
   "source": [
    "g=sns.FacetGrid(train_df,col=\"Survived\", row=\"Pclass\")\n",
    "g.map(plt.hist,\"Age\",bins=20)"
   ]
  },
  {
   "cell_type": "markdown",
   "id": "3714e351-43b9-4272-b59d-6c6282243286",
   "metadata": {
    "pycharm": {
     "name": "#%% md\n"
    }
   },
   "source": [
    "## 범주형 피쳐 상관관계\n",
    "승선항, 성별, 좌석등급에 대해 시각화\n",
    "\n",
    "**관찰**\n",
    "- 여성 승객이 남성 승객보다 생존율이 높다\n",
    "- C 승선항은 남성이 더 생좀함. Pclass와 Embarked의 상관관계 일 수 있다.Pclass와 Survived와의 상관관계가 깊다.\n",
    "\n",
    "**결정 사항**\n",
    "- 모델 학습에서 성별 피쳐를 추가\n",
    "- 모델 학습에서 승선항도 완성을 시켜서 추가"
   ]
  },
  {
   "cell_type": "code",
   "execution_count": 14,
   "id": "ce2490fe-e3f9-4c6a-af35-34b7f6025f78",
   "metadata": {
    "pycharm": {
     "name": "#%%\n"
    }
   },
   "outputs": [
    {
     "name": "stderr",
     "output_type": "stream",
     "text": [
      "c:\\Program Files\\Python39\\lib\\site-packages\\seaborn\\axisgrid.py:712: UserWarning: Using the pointplot function without specifying `order` is likely to produce an incorrect plot.\n",
      "  warnings.warn(warning)\n",
      "c:\\Program Files\\Python39\\lib\\site-packages\\seaborn\\axisgrid.py:717: UserWarning: Using the pointplot function without specifying `hue_order` is likely to produce an incorrect plot.\n",
      "  warnings.warn(warning)\n"
     ]
    },
    {
     "data": {
      "text/plain": [
       "<seaborn.axisgrid.FacetGrid at 0x20acd064fa0>"
      ]
     },
     "execution_count": 14,
     "metadata": {},
     "output_type": "execute_result"
    },
    {
     "data": {
      "image/png": "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",
      "text/plain": [
       "<Figure size 398x900 with 3 Axes>"
      ]
     },
     "metadata": {},
     "output_type": "display_data"
    }
   ],
   "source": [
    "g=sns.FacetGrid(train_df,row=\"Embarked\")\n",
    "g.map(sns.pointplot,\"Pclass\",\"Survived\",\"Sex\")\n",
    "g.add_legend()"
   ]
  },
  {
   "cell_type": "markdown",
   "id": "a464f1ed-cec8-4688-84c4-1bbc31a4302a",
   "metadata": {
    "pycharm": {
     "name": "#%% md\n"
    }
   },
   "source": [
    "### 범주형 및 숫자형 피쳐의 상관 관계\n",
    "승선항, 성별, 요금, 생존 상관 관계를 고려\n",
    "\n",
    "**관찰**\n",
    "- 요금을 더 많이 낸 승객이 많이 생존 했다\n",
    "- 승선 항구도 생존율과 상관 관계가 있다\n",
    "\n",
    "**결정**\n",
    "- 요금 범위를 만들어서 피쳐로 활용해 볼 수 있다\n",
    "- 승선 항구도 피쳐로 활용 한다"
   ]
  },
  {
   "cell_type": "code",
   "execution_count": 15,
   "id": "d856d0dc-31a5-4cee-8713-346ce59db116",
   "metadata": {
    "pycharm": {
     "name": "#%%\n"
    }
   },
   "outputs": [
    {
     "name": "stderr",
     "output_type": "stream",
     "text": [
      "c:\\Program Files\\Python39\\lib\\site-packages\\seaborn\\axisgrid.py:712: UserWarning: Using the barplot function without specifying `order` is likely to produce an incorrect plot.\n",
      "  warnings.warn(warning)\n"
     ]
    },
    {
     "data": {
      "text/plain": [
       "<seaborn.axisgrid.FacetGrid at 0x20acf6ebbb0>"
      ]
     },
     "execution_count": 15,
     "metadata": {},
     "output_type": "execute_result"
    },
    {
     "data": {
      "image/png": "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",
      "text/plain": [
       "<Figure size 600x900 with 6 Axes>"
      ]
     },
     "metadata": {},
     "output_type": "display_data"
    }
   ],
   "source": [
    "g=sns.FacetGrid(train_df,row=\"Embarked\", col=\"Survived\")\n",
    "g.map(sns.barplot,\"Sex\",\"Fare\")"
   ]
  },
  {
   "cell_type": "markdown",
   "id": "817b1076-8669-49c3-bfa6-238a6fd84834",
   "metadata": {
    "pycharm": {
     "name": "#%% md\n"
    }
   },
   "source": [
    "- 몇가지 가정과 결정을 수집\n",
    "- 결정한 것을 수정, 생성 및 완료\n",
    "\n",
    "### 피쳐를 삭제\n",
    "\n",
    "(과대 적합-상관 관계가 없는 칼럼이나 표준편차에 벗어 나는 값들이 너무 많이 존재 하는 상태)\n",
    "\n",
    "객실과 티켓 피쳐 삭제\n"
   ]
  },
  {
   "cell_type": "code",
   "execution_count": 16,
   "id": "d516f7ee-0c03-4774-9bb3-d325ba9e3f98",
   "metadata": {
    "pycharm": {
     "name": "#%%\n"
    }
   },
   "outputs": [
    {
     "data": {
      "text/html": [
       "<div>\n",
       "<style scoped>\n",
       "    .dataframe tbody tr th:only-of-type {\n",
       "        vertical-align: middle;\n",
       "    }\n",
       "\n",
       "    .dataframe tbody tr th {\n",
       "        vertical-align: top;\n",
       "    }\n",
       "\n",
       "    .dataframe thead th {\n",
       "        text-align: right;\n",
       "    }\n",
       "</style>\n",
       "<table border=\"1\" class=\"dataframe\">\n",
       "  <thead>\n",
       "    <tr style=\"text-align: right;\">\n",
       "      <th></th>\n",
       "      <th>PassengerId</th>\n",
       "      <th>Survived</th>\n",
       "      <th>Pclass</th>\n",
       "      <th>Name</th>\n",
       "      <th>Sex</th>\n",
       "      <th>Age</th>\n",
       "      <th>SibSp</th>\n",
       "      <th>Parch</th>\n",
       "      <th>Ticket</th>\n",
       "      <th>Fare</th>\n",
       "      <th>Cabin</th>\n",
       "      <th>Embarked</th>\n",
       "    </tr>\n",
       "  </thead>\n",
       "  <tbody>\n",
       "    <tr>\n",
       "      <th>226</th>\n",
       "      <td>227</td>\n",
       "      <td>1</td>\n",
       "      <td>2</td>\n",
       "      <td>Mellors, Mr. William John</td>\n",
       "      <td>male</td>\n",
       "      <td>19.0</td>\n",
       "      <td>0</td>\n",
       "      <td>0</td>\n",
       "      <td>SW/PP 751</td>\n",
       "      <td>10.500</td>\n",
       "      <td>NaN</td>\n",
       "      <td>S</td>\n",
       "    </tr>\n",
       "    <tr>\n",
       "      <th>196</th>\n",
       "      <td>197</td>\n",
       "      <td>0</td>\n",
       "      <td>3</td>\n",
       "      <td>Mernagh, Mr. Robert</td>\n",
       "      <td>male</td>\n",
       "      <td>NaN</td>\n",
       "      <td>0</td>\n",
       "      <td>0</td>\n",
       "      <td>368703</td>\n",
       "      <td>7.750</td>\n",
       "      <td>NaN</td>\n",
       "      <td>Q</td>\n",
       "    </tr>\n",
       "    <tr>\n",
       "      <th>443</th>\n",
       "      <td>444</td>\n",
       "      <td>1</td>\n",
       "      <td>2</td>\n",
       "      <td>Reynaldo, Ms. Encarnacion</td>\n",
       "      <td>female</td>\n",
       "      <td>28.0</td>\n",
       "      <td>0</td>\n",
       "      <td>0</td>\n",
       "      <td>230434</td>\n",
       "      <td>13.000</td>\n",
       "      <td>NaN</td>\n",
       "      <td>S</td>\n",
       "    </tr>\n",
       "    <tr>\n",
       "      <th>525</th>\n",
       "      <td>526</td>\n",
       "      <td>0</td>\n",
       "      <td>3</td>\n",
       "      <td>Farrell, Mr. James</td>\n",
       "      <td>male</td>\n",
       "      <td>40.5</td>\n",
       "      <td>0</td>\n",
       "      <td>0</td>\n",
       "      <td>367232</td>\n",
       "      <td>7.750</td>\n",
       "      <td>NaN</td>\n",
       "      <td>Q</td>\n",
       "    </tr>\n",
       "    <tr>\n",
       "      <th>113</th>\n",
       "      <td>114</td>\n",
       "      <td>0</td>\n",
       "      <td>3</td>\n",
       "      <td>Jussila, Miss. Katriina</td>\n",
       "      <td>female</td>\n",
       "      <td>20.0</td>\n",
       "      <td>1</td>\n",
       "      <td>0</td>\n",
       "      <td>4136</td>\n",
       "      <td>9.825</td>\n",
       "      <td>NaN</td>\n",
       "      <td>S</td>\n",
       "    </tr>\n",
       "  </tbody>\n",
       "</table>\n",
       "</div>"
      ],
      "text/plain": [
       "     PassengerId  Survived  Pclass                       Name     Sex   Age  \\\n",
       "226          227         1       2  Mellors, Mr. William John    male  19.0   \n",
       "196          197         0       3        Mernagh, Mr. Robert    male   NaN   \n",
       "443          444         1       2  Reynaldo, Ms. Encarnacion  female  28.0   \n",
       "525          526         0       3         Farrell, Mr. James    male  40.5   \n",
       "113          114         0       3    Jussila, Miss. Katriina  female  20.0   \n",
       "\n",
       "     SibSp  Parch     Ticket    Fare Cabin Embarked  \n",
       "226      0      0  SW/PP 751  10.500   NaN        S  \n",
       "196      0      0     368703   7.750   NaN        Q  \n",
       "443      0      0     230434  13.000   NaN        S  \n",
       "525      0      0     367232   7.750   NaN        Q  \n",
       "113      1      0       4136   9.825   NaN        S  "
      ]
     },
     "execution_count": 16,
     "metadata": {},
     "output_type": "execute_result"
    }
   ],
   "source": [
    "train_df.sample(5)"
   ]
  },
  {
   "cell_type": "code",
   "execution_count": 17,
   "id": "0d096da3-bddf-4302-adb4-f7ffd07a3bea",
   "metadata": {
    "pycharm": {
     "name": "#%%\n"
    }
   },
   "outputs": [
    {
     "name": "stdout",
     "output_type": "stream",
     "text": [
      "Before (891, 12) (418, 11)\n",
      "After (891, 10) (418, 9)\n"
     ]
    }
   ],
   "source": [
    "print(\"Before\", train_df.shape, test_df.shape)\n",
    "\n",
    "# pop, drop->axis\n",
    "train_df=train_df.drop([\"Ticket\",\"Cabin\"],axis=1)\n",
    "test_df=test_df.drop([\"Ticket\",\"Cabin\"],axis=1)\n",
    "\n",
    "combine=[train_df,test_df]\n",
    "\n",
    "print(\"After\",train_df.shape, test_df.shape)"
   ]
  },
  {
   "cell_type": "markdown",
   "id": "8b84cd64-3ca3-48e2-b3e3-38e11e3f9d74",
   "metadata": {
    "pycharm": {
     "name": "#%% md\n"
    }
   },
   "source": [
    "### 기존 피쳐에서 추출하여 새 피쳐 작성\n",
    "1. Name 피쳐(칼럼)에서 타이틀을 추출\n",
    "2. PId 삭제"
   ]
  },
  {
   "cell_type": "code",
   "execution_count": 18,
   "id": "322390c0-6b81-4cc6-8d03-31d6fe0179b5",
   "metadata": {
    "pycharm": {
     "name": "#%%\n"
    }
   },
   "outputs": [
    {
     "data": {
      "text/html": [
       "<div>\n",
       "<style scoped>\n",
       "    .dataframe tbody tr th:only-of-type {\n",
       "        vertical-align: middle;\n",
       "    }\n",
       "\n",
       "    .dataframe tbody tr th {\n",
       "        vertical-align: top;\n",
       "    }\n",
       "\n",
       "    .dataframe thead th {\n",
       "        text-align: right;\n",
       "    }\n",
       "</style>\n",
       "<table border=\"1\" class=\"dataframe\">\n",
       "  <thead>\n",
       "    <tr style=\"text-align: right;\">\n",
       "      <th>Sex</th>\n",
       "      <th>female</th>\n",
       "      <th>male</th>\n",
       "    </tr>\n",
       "    <tr>\n",
       "      <th>Title</th>\n",
       "      <th></th>\n",
       "      <th></th>\n",
       "    </tr>\n",
       "  </thead>\n",
       "  <tbody>\n",
       "    <tr>\n",
       "      <th>Capt</th>\n",
       "      <td>0</td>\n",
       "      <td>1</td>\n",
       "    </tr>\n",
       "    <tr>\n",
       "      <th>Col</th>\n",
       "      <td>0</td>\n",
       "      <td>2</td>\n",
       "    </tr>\n",
       "    <tr>\n",
       "      <th>Countess</th>\n",
       "      <td>1</td>\n",
       "      <td>0</td>\n",
       "    </tr>\n",
       "    <tr>\n",
       "      <th>Don</th>\n",
       "      <td>0</td>\n",
       "      <td>1</td>\n",
       "    </tr>\n",
       "    <tr>\n",
       "      <th>Dr</th>\n",
       "      <td>1</td>\n",
       "      <td>6</td>\n",
       "    </tr>\n",
       "    <tr>\n",
       "      <th>Jonkheer</th>\n",
       "      <td>0</td>\n",
       "      <td>1</td>\n",
       "    </tr>\n",
       "    <tr>\n",
       "      <th>Lady</th>\n",
       "      <td>1</td>\n",
       "      <td>0</td>\n",
       "    </tr>\n",
       "    <tr>\n",
       "      <th>Major</th>\n",
       "      <td>0</td>\n",
       "      <td>2</td>\n",
       "    </tr>\n",
       "    <tr>\n",
       "      <th>Master</th>\n",
       "      <td>0</td>\n",
       "      <td>40</td>\n",
       "    </tr>\n",
       "    <tr>\n",
       "      <th>Miss</th>\n",
       "      <td>182</td>\n",
       "      <td>0</td>\n",
       "    </tr>\n",
       "    <tr>\n",
       "      <th>Mlle</th>\n",
       "      <td>2</td>\n",
       "      <td>0</td>\n",
       "    </tr>\n",
       "    <tr>\n",
       "      <th>Mme</th>\n",
       "      <td>1</td>\n",
       "      <td>0</td>\n",
       "    </tr>\n",
       "    <tr>\n",
       "      <th>Mr</th>\n",
       "      <td>0</td>\n",
       "      <td>517</td>\n",
       "    </tr>\n",
       "    <tr>\n",
       "      <th>Mrs</th>\n",
       "      <td>125</td>\n",
       "      <td>0</td>\n",
       "    </tr>\n",
       "    <tr>\n",
       "      <th>Ms</th>\n",
       "      <td>1</td>\n",
       "      <td>0</td>\n",
       "    </tr>\n",
       "    <tr>\n",
       "      <th>Rev</th>\n",
       "      <td>0</td>\n",
       "      <td>6</td>\n",
       "    </tr>\n",
       "    <tr>\n",
       "      <th>Sir</th>\n",
       "      <td>0</td>\n",
       "      <td>1</td>\n",
       "    </tr>\n",
       "  </tbody>\n",
       "</table>\n",
       "</div>"
      ],
      "text/plain": [
       "Sex       female  male\n",
       "Title                 \n",
       "Capt           0     1\n",
       "Col            0     2\n",
       "Countess       1     0\n",
       "Don            0     1\n",
       "Dr             1     6\n",
       "Jonkheer       0     1\n",
       "Lady           1     0\n",
       "Major          0     2\n",
       "Master         0    40\n",
       "Miss         182     0\n",
       "Mlle           2     0\n",
       "Mme            1     0\n",
       "Mr             0   517\n",
       "Mrs          125     0\n",
       "Ms             1     0\n",
       "Rev            0     6\n",
       "Sir            0     1"
      ]
     },
     "execution_count": 18,
     "metadata": {},
     "output_type": "execute_result"
    }
   ],
   "source": [
    "for dataset in combine:\n",
    "    dataset[\"Title\"]=dataset.Name.str.extract(\" ([A-Za-z]+)\\.\",expand=False)\n",
    "\n",
    "pd.crosstab(train_df[\"Title\"],train_df[\"Sex\"])"
   ]
  },
  {
   "cell_type": "code",
   "execution_count": 19,
   "id": "c42cab70-ef5b-4f44-8dae-dcf4bd7a4456",
   "metadata": {
    "pycharm": {
     "name": "#%%\n"
    }
   },
   "outputs": [
    {
     "data": {
      "text/html": [
       "<div>\n",
       "<style scoped>\n",
       "    .dataframe tbody tr th:only-of-type {\n",
       "        vertical-align: middle;\n",
       "    }\n",
       "\n",
       "    .dataframe tbody tr th {\n",
       "        vertical-align: top;\n",
       "    }\n",
       "\n",
       "    .dataframe thead th {\n",
       "        text-align: right;\n",
       "    }\n",
       "</style>\n",
       "<table border=\"1\" class=\"dataframe\">\n",
       "  <thead>\n",
       "    <tr style=\"text-align: right;\">\n",
       "      <th></th>\n",
       "      <th>Title</th>\n",
       "      <th>Survived</th>\n",
       "    </tr>\n",
       "  </thead>\n",
       "  <tbody>\n",
       "    <tr>\n",
       "      <th>0</th>\n",
       "      <td>Master</td>\n",
       "      <td>0.575000</td>\n",
       "    </tr>\n",
       "    <tr>\n",
       "      <th>1</th>\n",
       "      <td>Miss</td>\n",
       "      <td>0.702703</td>\n",
       "    </tr>\n",
       "    <tr>\n",
       "      <th>2</th>\n",
       "      <td>Mr</td>\n",
       "      <td>0.156673</td>\n",
       "    </tr>\n",
       "    <tr>\n",
       "      <th>3</th>\n",
       "      <td>Mrs</td>\n",
       "      <td>0.793651</td>\n",
       "    </tr>\n",
       "    <tr>\n",
       "      <th>4</th>\n",
       "      <td>Rare</td>\n",
       "      <td>0.347826</td>\n",
       "    </tr>\n",
       "  </tbody>\n",
       "</table>\n",
       "</div>"
      ],
      "text/plain": [
       "    Title  Survived\n",
       "0  Master  0.575000\n",
       "1    Miss  0.702703\n",
       "2      Mr  0.156673\n",
       "3     Mrs  0.793651\n",
       "4    Rare  0.347826"
      ]
     },
     "execution_count": 19,
     "metadata": {},
     "output_type": "execute_result"
    }
   ],
   "source": [
    "# 일반적인 타이틀로 수정\n",
    "# 너무 적은 타이틀은 \"희귀한\" 변경\n",
    "for dataset in combine:\n",
    "    dataset[\"Title\"]=dataset[\"Title\"].replace([\"Lady\",\n",
    "        \"Countess\",\"Capt\",\"Col\",\"Don\",\"Dr\",\"Major\",\n",
    "        \"Rev\",\"Sir\",\"Jonkheer\",\"Dona\"],\"Rare\")\n",
    "    dataset[\"Title\"]=dataset[\"Title\"].replace(\"Mlle\",\"Miss\")\n",
    "    dataset[\"Title\"]=dataset[\"Title\"].replace(\"Ms\",\"Miss\")\n",
    "    dataset[\"Title\"]=dataset[\"Title\"].replace(\"Mme\",\"Mrs\")\n",
    "\n",
    "train_df[[\"Title\",\"Survived\"]].groupby([\"Title\"],\n",
    "    as_index=False).mean()"
   ]
  },
  {
   "cell_type": "code",
   "execution_count": 20,
   "id": "79f14b25-f641-4fe5-99bf-1f9ccb8c143d",
   "metadata": {
    "pycharm": {
     "name": "#%%\n"
    }
   },
   "outputs": [
    {
     "data": {
      "text/html": [
       "<div>\n",
       "<style scoped>\n",
       "    .dataframe tbody tr th:only-of-type {\n",
       "        vertical-align: middle;\n",
       "    }\n",
       "\n",
       "    .dataframe tbody tr th {\n",
       "        vertical-align: top;\n",
       "    }\n",
       "\n",
       "    .dataframe thead th {\n",
       "        text-align: right;\n",
       "    }\n",
       "</style>\n",
       "<table border=\"1\" class=\"dataframe\">\n",
       "  <thead>\n",
       "    <tr style=\"text-align: right;\">\n",
       "      <th></th>\n",
       "      <th>PassengerId</th>\n",
       "      <th>Survived</th>\n",
       "      <th>Pclass</th>\n",
       "      <th>Name</th>\n",
       "      <th>Sex</th>\n",
       "      <th>Age</th>\n",
       "      <th>SibSp</th>\n",
       "      <th>Parch</th>\n",
       "      <th>Fare</th>\n",
       "      <th>Embarked</th>\n",
       "      <th>Title</th>\n",
       "    </tr>\n",
       "  </thead>\n",
       "  <tbody>\n",
       "    <tr>\n",
       "      <th>631</th>\n",
       "      <td>632</td>\n",
       "      <td>0</td>\n",
       "      <td>3</td>\n",
       "      <td>Lundahl, Mr. Johan Svensson</td>\n",
       "      <td>male</td>\n",
       "      <td>51.0</td>\n",
       "      <td>0</td>\n",
       "      <td>0</td>\n",
       "      <td>7.0542</td>\n",
       "      <td>S</td>\n",
       "      <td>1.0</td>\n",
       "    </tr>\n",
       "    <tr>\n",
       "      <th>240</th>\n",
       "      <td>241</td>\n",
       "      <td>0</td>\n",
       "      <td>3</td>\n",
       "      <td>Zabour, Miss. Thamine</td>\n",
       "      <td>female</td>\n",
       "      <td>NaN</td>\n",
       "      <td>1</td>\n",
       "      <td>0</td>\n",
       "      <td>14.4542</td>\n",
       "      <td>C</td>\n",
       "      <td>2.0</td>\n",
       "    </tr>\n",
       "    <tr>\n",
       "      <th>720</th>\n",
       "      <td>721</td>\n",
       "      <td>1</td>\n",
       "      <td>2</td>\n",
       "      <td>Harper, Miss. Annie Jessie \"Nina\"</td>\n",
       "      <td>female</td>\n",
       "      <td>6.0</td>\n",
       "      <td>0</td>\n",
       "      <td>1</td>\n",
       "      <td>33.0000</td>\n",
       "      <td>S</td>\n",
       "      <td>2.0</td>\n",
       "    </tr>\n",
       "    <tr>\n",
       "      <th>696</th>\n",
       "      <td>697</td>\n",
       "      <td>0</td>\n",
       "      <td>3</td>\n",
       "      <td>Kelly, Mr. James</td>\n",
       "      <td>male</td>\n",
       "      <td>44.0</td>\n",
       "      <td>0</td>\n",
       "      <td>0</td>\n",
       "      <td>8.0500</td>\n",
       "      <td>S</td>\n",
       "      <td>1.0</td>\n",
       "    </tr>\n",
       "    <tr>\n",
       "      <th>604</th>\n",
       "      <td>605</td>\n",
       "      <td>1</td>\n",
       "      <td>1</td>\n",
       "      <td>Homer, Mr. Harry (\"Mr E Haven\")</td>\n",
       "      <td>male</td>\n",
       "      <td>35.0</td>\n",
       "      <td>0</td>\n",
       "      <td>0</td>\n",
       "      <td>26.5500</td>\n",
       "      <td>C</td>\n",
       "      <td>1.0</td>\n",
       "    </tr>\n",
       "  </tbody>\n",
       "</table>\n",
       "</div>"
      ],
      "text/plain": [
       "     PassengerId  Survived  Pclass                               Name     Sex  \\\n",
       "631          632         0       3        Lundahl, Mr. Johan Svensson    male   \n",
       "240          241         0       3              Zabour, Miss. Thamine  female   \n",
       "720          721         1       2  Harper, Miss. Annie Jessie \"Nina\"  female   \n",
       "696          697         0       3                   Kelly, Mr. James    male   \n",
       "604          605         1       1    Homer, Mr. Harry (\"Mr E Haven\")    male   \n",
       "\n",
       "      Age  SibSp  Parch     Fare Embarked  Title  \n",
       "631  51.0      0      0   7.0542        S    1.0  \n",
       "240   NaN      1      0  14.4542        C    2.0  \n",
       "720   6.0      0      1  33.0000        S    2.0  \n",
       "696  44.0      0      0   8.0500        S    1.0  \n",
       "604  35.0      0      0  26.5500        C    1.0  "
      ]
     },
     "execution_count": 20,
     "metadata": {},
     "output_type": "execute_result"
    }
   ],
   "source": [
    "#범주형 문자열 타이틀을 순서형 숫자로 변환\n",
    "title_mapping={\"Mr\":1,\"Miss\":2,\"Master\":4,\"Rare\":5}\n",
    "for dataset in combine:\n",
    "    dataset[\"Title\"]=dataset[\"Title\"].map(title_mapping)\n",
    "    dataset[\"Title\"]=dataset[\"Title\"].fillna(0)\n",
    "train_df.sample(5)"
   ]
  },
  {
   "cell_type": "code",
   "execution_count": 21,
   "id": "89ea966a-77ad-41a8-bb34-b7cc523e1723",
   "metadata": {
    "pycharm": {
     "name": "#%%\n"
    }
   },
   "outputs": [
    {
     "data": {
      "text/plain": [
       "((891, 9), (418, 9))"
      ]
     },
     "execution_count": 21,
     "metadata": {},
     "output_type": "execute_result"
    }
   ],
   "source": [
    "# 이름 피쳐 삭제\n",
    "# 승객아이디 삭제\n",
    "train_df=train_df.drop([\"Name\",\"PassengerId\"],axis=1)\n",
    "test_df=test_df.drop([\"Name\"],axis=1)\n",
    "combine=[train_df,test_df]\n",
    "train_df.shape, test_df.shape\n",
    "# Run > Run All Cells"
   ]
  },
  {
   "cell_type": "code",
   "execution_count": 22,
   "id": "fa2ad1c5-fc46-4cb4-a7a4-77ef0ba3027b",
   "metadata": {
    "pycharm": {
     "name": "#%%\n"
    }
   },
   "outputs": [
    {
     "data": {
      "text/html": [
       "<div>\n",
       "<style scoped>\n",
       "    .dataframe tbody tr th:only-of-type {\n",
       "        vertical-align: middle;\n",
       "    }\n",
       "\n",
       "    .dataframe tbody tr th {\n",
       "        vertical-align: top;\n",
       "    }\n",
       "\n",
       "    .dataframe thead th {\n",
       "        text-align: right;\n",
       "    }\n",
       "</style>\n",
       "<table border=\"1\" class=\"dataframe\">\n",
       "  <thead>\n",
       "    <tr style=\"text-align: right;\">\n",
       "      <th></th>\n",
       "      <th>Survived</th>\n",
       "      <th>Pclass</th>\n",
       "      <th>Sex</th>\n",
       "      <th>Age</th>\n",
       "      <th>SibSp</th>\n",
       "      <th>Parch</th>\n",
       "      <th>Fare</th>\n",
       "      <th>Embarked</th>\n",
       "      <th>Title</th>\n",
       "    </tr>\n",
       "  </thead>\n",
       "  <tbody>\n",
       "    <tr>\n",
       "      <th>733</th>\n",
       "      <td>0</td>\n",
       "      <td>2</td>\n",
       "      <td>male</td>\n",
       "      <td>23.0</td>\n",
       "      <td>0</td>\n",
       "      <td>0</td>\n",
       "      <td>13.0000</td>\n",
       "      <td>S</td>\n",
       "      <td>1.0</td>\n",
       "    </tr>\n",
       "    <tr>\n",
       "      <th>400</th>\n",
       "      <td>1</td>\n",
       "      <td>3</td>\n",
       "      <td>male</td>\n",
       "      <td>39.0</td>\n",
       "      <td>0</td>\n",
       "      <td>0</td>\n",
       "      <td>7.9250</td>\n",
       "      <td>S</td>\n",
       "      <td>1.0</td>\n",
       "    </tr>\n",
       "    <tr>\n",
       "      <th>164</th>\n",
       "      <td>0</td>\n",
       "      <td>3</td>\n",
       "      <td>male</td>\n",
       "      <td>1.0</td>\n",
       "      <td>4</td>\n",
       "      <td>1</td>\n",
       "      <td>39.6875</td>\n",
       "      <td>S</td>\n",
       "      <td>4.0</td>\n",
       "    </tr>\n",
       "    <tr>\n",
       "      <th>415</th>\n",
       "      <td>0</td>\n",
       "      <td>3</td>\n",
       "      <td>female</td>\n",
       "      <td>NaN</td>\n",
       "      <td>0</td>\n",
       "      <td>0</td>\n",
       "      <td>8.0500</td>\n",
       "      <td>S</td>\n",
       "      <td>0.0</td>\n",
       "    </tr>\n",
       "    <tr>\n",
       "      <th>286</th>\n",
       "      <td>1</td>\n",
       "      <td>3</td>\n",
       "      <td>male</td>\n",
       "      <td>30.0</td>\n",
       "      <td>0</td>\n",
       "      <td>0</td>\n",
       "      <td>9.5000</td>\n",
       "      <td>S</td>\n",
       "      <td>1.0</td>\n",
       "    </tr>\n",
       "  </tbody>\n",
       "</table>\n",
       "</div>"
      ],
      "text/plain": [
       "     Survived  Pclass     Sex   Age  SibSp  Parch     Fare Embarked  Title\n",
       "733         0       2    male  23.0      0      0  13.0000        S    1.0\n",
       "400         1       3    male  39.0      0      0   7.9250        S    1.0\n",
       "164         0       3    male   1.0      4      1  39.6875        S    4.0\n",
       "415         0       3  female   NaN      0      0   8.0500        S    0.0\n",
       "286         1       3    male  30.0      0      0   9.5000        S    1.0"
      ]
     },
     "execution_count": 22,
     "metadata": {},
     "output_type": "execute_result"
    }
   ],
   "source": [
    "train_df.sample(5)"
   ]
  },
  {
   "cell_type": "markdown",
   "id": "3e49ef66-ae4e-4a02-8d07-7dc4da3977ad",
   "metadata": {
    "pycharm": {
     "name": "#%% md\n"
    }
   },
   "source": [
    "### 범주형 문자 피쳐 변환\n",
    "문자열을 포함하는 피쳐를 숫자로 변환\n",
    "성별 여성=1, 남성=0 변환"
   ]
  },
  {
   "cell_type": "code",
   "execution_count": 23,
   "id": "7c3f9091-c0dd-4907-8585-4241268655c2",
   "metadata": {
    "pycharm": {
     "name": "#%%\n"
    }
   },
   "outputs": [
    {
     "data": {
      "text/html": [
       "<div>\n",
       "<style scoped>\n",
       "    .dataframe tbody tr th:only-of-type {\n",
       "        vertical-align: middle;\n",
       "    }\n",
       "\n",
       "    .dataframe tbody tr th {\n",
       "        vertical-align: top;\n",
       "    }\n",
       "\n",
       "    .dataframe thead th {\n",
       "        text-align: right;\n",
       "    }\n",
       "</style>\n",
       "<table border=\"1\" class=\"dataframe\">\n",
       "  <thead>\n",
       "    <tr style=\"text-align: right;\">\n",
       "      <th></th>\n",
       "      <th>Survived</th>\n",
       "      <th>Pclass</th>\n",
       "      <th>Sex</th>\n",
       "      <th>Age</th>\n",
       "      <th>SibSp</th>\n",
       "      <th>Parch</th>\n",
       "      <th>Fare</th>\n",
       "      <th>Embarked</th>\n",
       "      <th>Title</th>\n",
       "    </tr>\n",
       "  </thead>\n",
       "  <tbody>\n",
       "    <tr>\n",
       "      <th>541</th>\n",
       "      <td>0</td>\n",
       "      <td>3</td>\n",
       "      <td>1</td>\n",
       "      <td>9.0</td>\n",
       "      <td>4</td>\n",
       "      <td>2</td>\n",
       "      <td>31.2750</td>\n",
       "      <td>S</td>\n",
       "      <td>2.0</td>\n",
       "    </tr>\n",
       "    <tr>\n",
       "      <th>699</th>\n",
       "      <td>0</td>\n",
       "      <td>3</td>\n",
       "      <td>0</td>\n",
       "      <td>42.0</td>\n",
       "      <td>0</td>\n",
       "      <td>0</td>\n",
       "      <td>7.6500</td>\n",
       "      <td>S</td>\n",
       "      <td>1.0</td>\n",
       "    </tr>\n",
       "    <tr>\n",
       "      <th>10</th>\n",
       "      <td>1</td>\n",
       "      <td>3</td>\n",
       "      <td>1</td>\n",
       "      <td>4.0</td>\n",
       "      <td>1</td>\n",
       "      <td>1</td>\n",
       "      <td>16.7000</td>\n",
       "      <td>S</td>\n",
       "      <td>2.0</td>\n",
       "    </tr>\n",
       "    <tr>\n",
       "      <th>358</th>\n",
       "      <td>1</td>\n",
       "      <td>3</td>\n",
       "      <td>1</td>\n",
       "      <td>NaN</td>\n",
       "      <td>0</td>\n",
       "      <td>0</td>\n",
       "      <td>7.8792</td>\n",
       "      <td>Q</td>\n",
       "      <td>2.0</td>\n",
       "    </tr>\n",
       "    <tr>\n",
       "      <th>335</th>\n",
       "      <td>0</td>\n",
       "      <td>3</td>\n",
       "      <td>0</td>\n",
       "      <td>NaN</td>\n",
       "      <td>0</td>\n",
       "      <td>0</td>\n",
       "      <td>7.8958</td>\n",
       "      <td>S</td>\n",
       "      <td>1.0</td>\n",
       "    </tr>\n",
       "  </tbody>\n",
       "</table>\n",
       "</div>"
      ],
      "text/plain": [
       "     Survived  Pclass  Sex   Age  SibSp  Parch     Fare Embarked  Title\n",
       "541         0       3    1   9.0      4      2  31.2750        S    2.0\n",
       "699         0       3    0  42.0      0      0   7.6500        S    1.0\n",
       "10          1       3    1   4.0      1      1  16.7000        S    2.0\n",
       "358         1       3    1   NaN      0      0   7.8792        Q    2.0\n",
       "335         0       3    0   NaN      0      0   7.8958        S    1.0"
      ]
     },
     "execution_count": 23,
     "metadata": {},
     "output_type": "execute_result"
    }
   ],
   "source": [
    "for dataset in combine:\n",
    "    dataset[\"Sex\"]=dataset[\"Sex\"].map({\"female\":1,\"male\":0}).astype(int)\n",
    "train_df.sample(5)"
   ]
  },
  {
   "cell_type": "code",
   "execution_count": 24,
   "id": "71173d0f-2326-453d-900d-de11730032e2",
   "metadata": {
    "pycharm": {
     "name": "#%%\n"
    }
   },
   "outputs": [
    {
     "name": "stdout",
     "output_type": "stream",
     "text": [
      "<class 'pandas.core.frame.DataFrame'>\n",
      "RangeIndex: 891 entries, 0 to 890\n",
      "Data columns (total 9 columns):\n",
      " #   Column    Non-Null Count  Dtype  \n",
      "---  ------    --------------  -----  \n",
      " 0   Survived  891 non-null    int64  \n",
      " 1   Pclass    891 non-null    int64  \n",
      " 2   Sex       891 non-null    int32  \n",
      " 3   Age       714 non-null    float64\n",
      " 4   SibSp     891 non-null    int64  \n",
      " 5   Parch     891 non-null    int64  \n",
      " 6   Fare      891 non-null    float64\n",
      " 7   Embarked  889 non-null    object \n",
      " 8   Title     891 non-null    float64\n",
      "dtypes: float64(3), int32(1), int64(4), object(1)\n",
      "memory usage: 59.3+ KB\n"
     ]
    }
   ],
   "source": [
    "train_df.info()"
   ]
  },
  {
   "cell_type": "markdown",
   "id": "d47aa09d-2390-4dfc-8ba2-a7ab77d020a8",
   "metadata": {
    "pycharm": {
     "name": "#%% md\n"
    }
   },
   "source": [
    "### 결측값 처리해서 완료\n",
    "1. 너무 적을 때 삭제\n",
    "2. 평균이나 최빈도수로 삽입\n",
    "3. 평균과 표준편차 사이의 난수를 생성\n",
    "4. 다른 피쳐들과의 상관관계를 찾아서 삽입\n",
    "5. 위에 방법들을 조합해서 사용"
   ]
  },
  {
   "cell_type": "code",
   "execution_count": null,
   "id": "ed33f596-b006-412f-83f4-4eea736b98f9",
   "metadata": {
    "pycharm": {
     "name": "#%%\n"
    }
   },
   "outputs": [
    {
     "name": "stdout",
     "output_type": "stream",
     "text": [
      "Survived      0\n",
      "Pclass        0\n",
      "Sex           0\n",
      "Age         177\n",
      "SibSp         0\n",
      "Parch         0\n",
      "Fare          0\n",
      "Embarked      2\n",
      "Title         0\n",
      "dtype: int64\n",
      "PassengerId     0\n",
      "Pclass          0\n",
      "Sex             0\n",
      "Age            86\n",
      "SibSp           0\n",
      "Parch           0\n",
      "Fare            1\n",
      "Embarked        0\n",
      "Title           0\n",
      "dtype: int64\n"
     ]
    }
   ],
   "source": [
    "#결측치 확인\n",
    "for dataset in combine:\n",
    "    print(dataset.isna().sum())"
   ]
  },
  {
   "cell_type": "code",
   "execution_count": null,
   "id": "c6a0f9e8-d816-4ff5-9307-cacb22a63a2e",
   "metadata": {
    "pycharm": {
     "name": "#%%\n"
    }
   },
   "outputs": [],
   "source": [
    "# 나이 PclassXGender\n",
    "g=sns.FacetGrid(train_df, row=\"Pclass\",col=\"Sex\")\n",
    "g.map(plt.hist,\"Age\")"
   ]
  },
  {
   "cell_type": "code",
   "execution_count": 27,
   "id": "9b46b7dc-6cb7-4bff-ba1b-a9b0d3013b6e",
   "metadata": {
    "pycharm": {
     "name": "#%%\n"
    }
   },
   "outputs": [
    {
     "data": {
      "text/plain": [
       "array([[0., 0., 0.],\n",
       "       [0., 0., 0.]])"
      ]
     },
     "execution_count": 27,
     "metadata": {},
     "output_type": "execute_result"
    }
   ],
   "source": [
    "#Pclass, Gender 3*2 리스트\n",
    "# 1-0or1\n",
    "# [[0,0,0,],[0,0,0]]\n",
    "guess_ages=np.zeros((2,3))\n",
    "guess_ages"
   ]
  },
  {
   "cell_type": "code",
   "execution_count": null,
   "id": "5e7a9537-c947-4ed5-9af7-1418ac26333c",
   "metadata": {
    "pycharm": {
     "name": "#%%\n"
    }
   },
   "outputs": [],
   "source": [
    "for dataset in combine:\n",
    "    for i in range(0,2):\n",
    "        for j in range(0,3):\n",
    "            guess_df=dataset[(dataset[\"Sex\"]==i) & (dataset[\"Pclass\"]==j+1)][\"Age\"].dropna()\n",
    "            age_guess=guess_df.mean()\n",
    "            guess_ages[i,j]=age_guess\n",
    "    for i in range(0,2):\n",
    "        for j in range(0,3):\n",
    "            dataset.loc[(dataset.Age.isnull()) & (dataset.Sex==i)&(dataset.Pclass==j+1),\"Age\"]=guess_ages[i,j]\n",
    "    dataset[\"Age\"]=dataset[\"Age\"].astype(int)"
   ]
  },
  {
   "cell_type": "code",
   "execution_count": 31,
   "id": "04b45e32",
   "metadata": {},
   "outputs": [
    {
     "data": {
      "text/plain": [
       "array([[41.22131148, 30.64814815, 26.35158501],\n",
       "       [41.32      , 24.33333333, 23.04166667]])"
      ]
     },
     "execution_count": 31,
     "metadata": {},
     "output_type": "execute_result"
    }
   ],
   "source": [
    "guess_ages"
   ]
  },
  {
   "cell_type": "code",
   "execution_count": 32,
   "id": "72ede6de",
   "metadata": {},
   "outputs": [
    {
     "data": {
      "text/plain": [
       "0      22\n",
       "1      38\n",
       "2      26\n",
       "3      35\n",
       "4      35\n",
       "       ..\n",
       "886    27\n",
       "887    19\n",
       "888    21\n",
       "889    26\n",
       "890    32\n",
       "Name: Age, Length: 891, dtype: int64"
      ]
     },
     "execution_count": 32,
     "metadata": {},
     "output_type": "execute_result"
    }
   ],
   "source": [
    "dataset['Age']"
   ]
  },
  {
   "cell_type": "code",
   "execution_count": 33,
   "id": "b75d8022-55e0-4ae8-8712-174fad546930",
   "metadata": {
    "pycharm": {
     "name": "#%%\n"
    }
   },
   "outputs": [
    {
     "data": {
      "text/plain": [
       "Survived    0\n",
       "Pclass      0\n",
       "Sex         0\n",
       "Age         0\n",
       "SibSp       0\n",
       "Parch       0\n",
       "Fare        0\n",
       "Embarked    2\n",
       "Title       0\n",
       "dtype: int64"
      ]
     },
     "execution_count": 33,
     "metadata": {},
     "output_type": "execute_result"
    }
   ],
   "source": [
    "train_df.isna().sum()"
   ]
  },
  {
   "cell_type": "code",
   "execution_count": 34,
   "id": "2debfd18-7ef2-4067-aa7c-9074c373d8ad",
   "metadata": {
    "pycharm": {
     "name": "#%%\n"
    }
   },
   "outputs": [
    {
     "data": {
      "text/html": [
       "<div>\n",
       "<style scoped>\n",
       "    .dataframe tbody tr th:only-of-type {\n",
       "        vertical-align: middle;\n",
       "    }\n",
       "\n",
       "    .dataframe tbody tr th {\n",
       "        vertical-align: top;\n",
       "    }\n",
       "\n",
       "    .dataframe thead th {\n",
       "        text-align: right;\n",
       "    }\n",
       "</style>\n",
       "<table border=\"1\" class=\"dataframe\">\n",
       "  <thead>\n",
       "    <tr style=\"text-align: right;\">\n",
       "      <th></th>\n",
       "      <th>AgeBand</th>\n",
       "      <th>Survived</th>\n",
       "    </tr>\n",
       "  </thead>\n",
       "  <tbody>\n",
       "    <tr>\n",
       "      <th>0</th>\n",
       "      <td>(-0.08, 16.0]</td>\n",
       "      <td>0.550000</td>\n",
       "    </tr>\n",
       "    <tr>\n",
       "      <th>1</th>\n",
       "      <td>(16.0, 32.0]</td>\n",
       "      <td>0.337374</td>\n",
       "    </tr>\n",
       "    <tr>\n",
       "      <th>2</th>\n",
       "      <td>(32.0, 48.0]</td>\n",
       "      <td>0.412037</td>\n",
       "    </tr>\n",
       "    <tr>\n",
       "      <th>3</th>\n",
       "      <td>(48.0, 64.0]</td>\n",
       "      <td>0.434783</td>\n",
       "    </tr>\n",
       "    <tr>\n",
       "      <th>4</th>\n",
       "      <td>(64.0, 80.0]</td>\n",
       "      <td>0.090909</td>\n",
       "    </tr>\n",
       "  </tbody>\n",
       "</table>\n",
       "</div>"
      ],
      "text/plain": [
       "         AgeBand  Survived\n",
       "0  (-0.08, 16.0]  0.550000\n",
       "1   (16.0, 32.0]  0.337374\n",
       "2   (32.0, 48.0]  0.412037\n",
       "3   (48.0, 64.0]  0.434783\n",
       "4   (64.0, 80.0]  0.090909"
      ]
     },
     "execution_count": 34,
     "metadata": {},
     "output_type": "execute_result"
    }
   ],
   "source": [
    "# Age를 범위 밴드형으로 만들고 생존 상관 관계를 확인\n",
    "# 예) 0~5세, 6~10세\n",
    "# cut 데이터를 동일한 길이로 나눠줌\n",
    "train_df[\"AgeBand\"]=pd.cut(train_df[\"Age\"],5)\n",
    "train_df[[\"AgeBand\",\"Survived\"]].groupby([\"AgeBand\"],\n",
    "    as_index=False).mean().sort_values(by=\"AgeBand\")"
   ]
  },
  {
   "cell_type": "code",
   "execution_count": 35,
   "id": "5e2d3fc9-8cf6-4d0e-a181-82ff9efc7868",
   "metadata": {
    "pycharm": {
     "name": "#%%\n"
    }
   },
   "outputs": [
    {
     "data": {
      "text/html": [
       "<div>\n",
       "<style scoped>\n",
       "    .dataframe tbody tr th:only-of-type {\n",
       "        vertical-align: middle;\n",
       "    }\n",
       "\n",
       "    .dataframe tbody tr th {\n",
       "        vertical-align: top;\n",
       "    }\n",
       "\n",
       "    .dataframe thead th {\n",
       "        text-align: right;\n",
       "    }\n",
       "</style>\n",
       "<table border=\"1\" class=\"dataframe\">\n",
       "  <thead>\n",
       "    <tr style=\"text-align: right;\">\n",
       "      <th></th>\n",
       "      <th>Survived</th>\n",
       "      <th>Pclass</th>\n",
       "      <th>Sex</th>\n",
       "      <th>Age</th>\n",
       "      <th>SibSp</th>\n",
       "      <th>Parch</th>\n",
       "      <th>Fare</th>\n",
       "      <th>Embarked</th>\n",
       "      <th>Title</th>\n",
       "      <th>AgeBand</th>\n",
       "    </tr>\n",
       "  </thead>\n",
       "  <tbody>\n",
       "    <tr>\n",
       "      <th>67</th>\n",
       "      <td>0</td>\n",
       "      <td>3</td>\n",
       "      <td>0</td>\n",
       "      <td>19</td>\n",
       "      <td>0</td>\n",
       "      <td>0</td>\n",
       "      <td>8.1583</td>\n",
       "      <td>S</td>\n",
       "      <td>1.0</td>\n",
       "      <td>(16.0, 32.0]</td>\n",
       "    </tr>\n",
       "    <tr>\n",
       "      <th>573</th>\n",
       "      <td>1</td>\n",
       "      <td>3</td>\n",
       "      <td>1</td>\n",
       "      <td>21</td>\n",
       "      <td>0</td>\n",
       "      <td>0</td>\n",
       "      <td>7.7500</td>\n",
       "      <td>Q</td>\n",
       "      <td>2.0</td>\n",
       "      <td>(16.0, 32.0]</td>\n",
       "    </tr>\n",
       "    <tr>\n",
       "      <th>831</th>\n",
       "      <td>1</td>\n",
       "      <td>2</td>\n",
       "      <td>0</td>\n",
       "      <td>0</td>\n",
       "      <td>1</td>\n",
       "      <td>1</td>\n",
       "      <td>18.7500</td>\n",
       "      <td>S</td>\n",
       "      <td>4.0</td>\n",
       "      <td>(-0.08, 16.0]</td>\n",
       "    </tr>\n",
       "    <tr>\n",
       "      <th>489</th>\n",
       "      <td>1</td>\n",
       "      <td>3</td>\n",
       "      <td>0</td>\n",
       "      <td>9</td>\n",
       "      <td>1</td>\n",
       "      <td>1</td>\n",
       "      <td>15.9000</td>\n",
       "      <td>S</td>\n",
       "      <td>4.0</td>\n",
       "      <td>(-0.08, 16.0]</td>\n",
       "    </tr>\n",
       "    <tr>\n",
       "      <th>882</th>\n",
       "      <td>0</td>\n",
       "      <td>3</td>\n",
       "      <td>1</td>\n",
       "      <td>22</td>\n",
       "      <td>0</td>\n",
       "      <td>0</td>\n",
       "      <td>10.5167</td>\n",
       "      <td>S</td>\n",
       "      <td>2.0</td>\n",
       "      <td>(16.0, 32.0]</td>\n",
       "    </tr>\n",
       "  </tbody>\n",
       "</table>\n",
       "</div>"
      ],
      "text/plain": [
       "     Survived  Pclass  Sex  Age  SibSp  Parch     Fare Embarked  Title  \\\n",
       "67          0       3    0   19      0      0   8.1583        S    1.0   \n",
       "573         1       3    1   21      0      0   7.7500        Q    2.0   \n",
       "831         1       2    0    0      1      1  18.7500        S    4.0   \n",
       "489         1       3    0    9      1      1  15.9000        S    4.0   \n",
       "882         0       3    1   22      0      0  10.5167        S    2.0   \n",
       "\n",
       "           AgeBand  \n",
       "67    (16.0, 32.0]  \n",
       "573   (16.0, 32.0]  \n",
       "831  (-0.08, 16.0]  \n",
       "489  (-0.08, 16.0]  \n",
       "882   (16.0, 32.0]  "
      ]
     },
     "execution_count": 35,
     "metadata": {},
     "output_type": "execute_result"
    }
   ],
   "source": [
    "train_df.sample(5)"
   ]
  },
  {
   "cell_type": "code",
   "execution_count": 36,
   "id": "d6f2f7d1-25ba-4a01-94b7-8d4cf41f3504",
   "metadata": {
    "pycharm": {
     "name": "#%%\n"
    }
   },
   "outputs": [
    {
     "data": {
      "text/html": [
       "<div>\n",
       "<style scoped>\n",
       "    .dataframe tbody tr th:only-of-type {\n",
       "        vertical-align: middle;\n",
       "    }\n",
       "\n",
       "    .dataframe tbody tr th {\n",
       "        vertical-align: top;\n",
       "    }\n",
       "\n",
       "    .dataframe thead th {\n",
       "        text-align: right;\n",
       "    }\n",
       "</style>\n",
       "<table border=\"1\" class=\"dataframe\">\n",
       "  <thead>\n",
       "    <tr style=\"text-align: right;\">\n",
       "      <th></th>\n",
       "      <th>Survived</th>\n",
       "      <th>Pclass</th>\n",
       "      <th>Sex</th>\n",
       "      <th>Age</th>\n",
       "      <th>SibSp</th>\n",
       "      <th>Parch</th>\n",
       "      <th>Fare</th>\n",
       "      <th>Embarked</th>\n",
       "      <th>Title</th>\n",
       "      <th>AgeBand</th>\n",
       "    </tr>\n",
       "  </thead>\n",
       "  <tbody>\n",
       "    <tr>\n",
       "      <th>0</th>\n",
       "      <td>0</td>\n",
       "      <td>3</td>\n",
       "      <td>0</td>\n",
       "      <td>1</td>\n",
       "      <td>1</td>\n",
       "      <td>0</td>\n",
       "      <td>7.2500</td>\n",
       "      <td>S</td>\n",
       "      <td>1.0</td>\n",
       "      <td>(16.0, 32.0]</td>\n",
       "    </tr>\n",
       "    <tr>\n",
       "      <th>1</th>\n",
       "      <td>1</td>\n",
       "      <td>1</td>\n",
       "      <td>1</td>\n",
       "      <td>2</td>\n",
       "      <td>1</td>\n",
       "      <td>0</td>\n",
       "      <td>71.2833</td>\n",
       "      <td>C</td>\n",
       "      <td>0.0</td>\n",
       "      <td>(32.0, 48.0]</td>\n",
       "    </tr>\n",
       "    <tr>\n",
       "      <th>2</th>\n",
       "      <td>1</td>\n",
       "      <td>3</td>\n",
       "      <td>1</td>\n",
       "      <td>1</td>\n",
       "      <td>0</td>\n",
       "      <td>0</td>\n",
       "      <td>7.9250</td>\n",
       "      <td>S</td>\n",
       "      <td>2.0</td>\n",
       "      <td>(16.0, 32.0]</td>\n",
       "    </tr>\n",
       "    <tr>\n",
       "      <th>3</th>\n",
       "      <td>1</td>\n",
       "      <td>1</td>\n",
       "      <td>1</td>\n",
       "      <td>2</td>\n",
       "      <td>1</td>\n",
       "      <td>0</td>\n",
       "      <td>53.1000</td>\n",
       "      <td>S</td>\n",
       "      <td>0.0</td>\n",
       "      <td>(32.0, 48.0]</td>\n",
       "    </tr>\n",
       "    <tr>\n",
       "      <th>4</th>\n",
       "      <td>0</td>\n",
       "      <td>3</td>\n",
       "      <td>0</td>\n",
       "      <td>2</td>\n",
       "      <td>0</td>\n",
       "      <td>0</td>\n",
       "      <td>8.0500</td>\n",
       "      <td>S</td>\n",
       "      <td>1.0</td>\n",
       "      <td>(32.0, 48.0]</td>\n",
       "    </tr>\n",
       "  </tbody>\n",
       "</table>\n",
       "</div>"
      ],
      "text/plain": [
       "   Survived  Pclass  Sex  Age  SibSp  Parch     Fare Embarked  Title  \\\n",
       "0         0       3    0    1      1      0   7.2500        S    1.0   \n",
       "1         1       1    1    2      1      0  71.2833        C    0.0   \n",
       "2         1       3    1    1      0      0   7.9250        S    2.0   \n",
       "3         1       1    1    2      1      0  53.1000        S    0.0   \n",
       "4         0       3    0    2      0      0   8.0500        S    1.0   \n",
       "\n",
       "        AgeBand  \n",
       "0  (16.0, 32.0]  \n",
       "1  (32.0, 48.0]  \n",
       "2  (16.0, 32.0]  \n",
       "3  (32.0, 48.0]  \n",
       "4  (32.0, 48.0]  "
      ]
     },
     "execution_count": 36,
     "metadata": {},
     "output_type": "execute_result"
    }
   ],
   "source": [
    "# Age를 서수로 대체\n",
    "for dataset in combine:\n",
    "    dataset.loc[dataset[\"Age\"]<=16,\"Age\"]=0\n",
    "    dataset.loc[(dataset[\"Age\"]>16)&(dataset[\"Age\"]<=32),\"Age\"]=1\n",
    "    dataset.loc[(dataset[\"Age\"]>32)&(dataset[\"Age\"]<=48),\"Age\"]=2\n",
    "    dataset.loc[(dataset[\"Age\"]>48)&(dataset[\"Age\"]<=64),\"Age\"]=3\n",
    "    dataset.loc[(dataset[\"Age\"]>64),\"Age\"]=4\n",
    "train_df.head()"
   ]
  },
  {
   "cell_type": "code",
   "execution_count": 37,
   "id": "6fcbb6d5-fd05-4a5e-8b11-d30d7caa0da4",
   "metadata": {
    "pycharm": {
     "name": "#%%\n"
    }
   },
   "outputs": [
    {
     "data": {
      "text/html": [
       "<div>\n",
       "<style scoped>\n",
       "    .dataframe tbody tr th:only-of-type {\n",
       "        vertical-align: middle;\n",
       "    }\n",
       "\n",
       "    .dataframe tbody tr th {\n",
       "        vertical-align: top;\n",
       "    }\n",
       "\n",
       "    .dataframe thead th {\n",
       "        text-align: right;\n",
       "    }\n",
       "</style>\n",
       "<table border=\"1\" class=\"dataframe\">\n",
       "  <thead>\n",
       "    <tr style=\"text-align: right;\">\n",
       "      <th></th>\n",
       "      <th>Survived</th>\n",
       "      <th>Pclass</th>\n",
       "      <th>Sex</th>\n",
       "      <th>Age</th>\n",
       "      <th>SibSp</th>\n",
       "      <th>Parch</th>\n",
       "      <th>Fare</th>\n",
       "      <th>Embarked</th>\n",
       "      <th>Title</th>\n",
       "    </tr>\n",
       "  </thead>\n",
       "  <tbody>\n",
       "    <tr>\n",
       "      <th>886</th>\n",
       "      <td>0</td>\n",
       "      <td>2</td>\n",
       "      <td>0</td>\n",
       "      <td>1</td>\n",
       "      <td>0</td>\n",
       "      <td>0</td>\n",
       "      <td>13.00</td>\n",
       "      <td>S</td>\n",
       "      <td>5.0</td>\n",
       "    </tr>\n",
       "    <tr>\n",
       "      <th>887</th>\n",
       "      <td>1</td>\n",
       "      <td>1</td>\n",
       "      <td>1</td>\n",
       "      <td>1</td>\n",
       "      <td>0</td>\n",
       "      <td>0</td>\n",
       "      <td>30.00</td>\n",
       "      <td>S</td>\n",
       "      <td>2.0</td>\n",
       "    </tr>\n",
       "    <tr>\n",
       "      <th>888</th>\n",
       "      <td>0</td>\n",
       "      <td>3</td>\n",
       "      <td>1</td>\n",
       "      <td>1</td>\n",
       "      <td>1</td>\n",
       "      <td>2</td>\n",
       "      <td>23.45</td>\n",
       "      <td>S</td>\n",
       "      <td>2.0</td>\n",
       "    </tr>\n",
       "    <tr>\n",
       "      <th>889</th>\n",
       "      <td>1</td>\n",
       "      <td>1</td>\n",
       "      <td>0</td>\n",
       "      <td>1</td>\n",
       "      <td>0</td>\n",
       "      <td>0</td>\n",
       "      <td>30.00</td>\n",
       "      <td>C</td>\n",
       "      <td>1.0</td>\n",
       "    </tr>\n",
       "    <tr>\n",
       "      <th>890</th>\n",
       "      <td>0</td>\n",
       "      <td>3</td>\n",
       "      <td>0</td>\n",
       "      <td>1</td>\n",
       "      <td>0</td>\n",
       "      <td>0</td>\n",
       "      <td>7.75</td>\n",
       "      <td>Q</td>\n",
       "      <td>1.0</td>\n",
       "    </tr>\n",
       "  </tbody>\n",
       "</table>\n",
       "</div>"
      ],
      "text/plain": [
       "     Survived  Pclass  Sex  Age  SibSp  Parch   Fare Embarked  Title\n",
       "886         0       2    0    1      0      0  13.00        S    5.0\n",
       "887         1       1    1    1      0      0  30.00        S    2.0\n",
       "888         0       3    1    1      1      2  23.45        S    2.0\n",
       "889         1       1    0    1      0      0  30.00        C    1.0\n",
       "890         0       3    0    1      0      0   7.75        Q    1.0"
      ]
     },
     "execution_count": 37,
     "metadata": {},
     "output_type": "execute_result"
    }
   ],
   "source": [
    "# AgeBand는 삭제\n",
    "train_df=train_df.drop([\"AgeBand\"],axis=1)\n",
    "combine=[train_df,test_df]\n",
    "train_df.tail()"
   ]
  },
  {
   "cell_type": "markdown",
   "id": "ac90ca2b-0839-4be2-a86b-1367dac35cbf",
   "metadata": {
    "pycharm": {
     "name": "#%% md\n"
    }
   },
   "source": [
    "### 기존 피쳐를 결합한 새 피쳐 작성\n",
    "Parch와 SibSp를 결합한 FamilySize라는 새로운 피쳐를 생성\n",
    "이를 통해서 기존 피쳐는 삭제 가능"
   ]
  },
  {
   "cell_type": "code",
   "execution_count": 38,
   "id": "c7ef3019-0a7b-4555-ab5a-6bd7a155a956",
   "metadata": {
    "pycharm": {
     "name": "#%%\n"
    }
   },
   "outputs": [
    {
     "data": {
      "text/html": [
       "<div>\n",
       "<style scoped>\n",
       "    .dataframe tbody tr th:only-of-type {\n",
       "        vertical-align: middle;\n",
       "    }\n",
       "\n",
       "    .dataframe tbody tr th {\n",
       "        vertical-align: top;\n",
       "    }\n",
       "\n",
       "    .dataframe thead th {\n",
       "        text-align: right;\n",
       "    }\n",
       "</style>\n",
       "<table border=\"1\" class=\"dataframe\">\n",
       "  <thead>\n",
       "    <tr style=\"text-align: right;\">\n",
       "      <th></th>\n",
       "      <th>FamilySize</th>\n",
       "      <th>Survived</th>\n",
       "    </tr>\n",
       "  </thead>\n",
       "  <tbody>\n",
       "    <tr>\n",
       "      <th>3</th>\n",
       "      <td>4</td>\n",
       "      <td>0.724138</td>\n",
       "    </tr>\n",
       "    <tr>\n",
       "      <th>2</th>\n",
       "      <td>3</td>\n",
       "      <td>0.578431</td>\n",
       "    </tr>\n",
       "    <tr>\n",
       "      <th>1</th>\n",
       "      <td>2</td>\n",
       "      <td>0.552795</td>\n",
       "    </tr>\n",
       "    <tr>\n",
       "      <th>6</th>\n",
       "      <td>7</td>\n",
       "      <td>0.333333</td>\n",
       "    </tr>\n",
       "    <tr>\n",
       "      <th>0</th>\n",
       "      <td>1</td>\n",
       "      <td>0.303538</td>\n",
       "    </tr>\n",
       "    <tr>\n",
       "      <th>4</th>\n",
       "      <td>5</td>\n",
       "      <td>0.200000</td>\n",
       "    </tr>\n",
       "    <tr>\n",
       "      <th>5</th>\n",
       "      <td>6</td>\n",
       "      <td>0.136364</td>\n",
       "    </tr>\n",
       "    <tr>\n",
       "      <th>7</th>\n",
       "      <td>8</td>\n",
       "      <td>0.000000</td>\n",
       "    </tr>\n",
       "    <tr>\n",
       "      <th>8</th>\n",
       "      <td>11</td>\n",
       "      <td>0.000000</td>\n",
       "    </tr>\n",
       "  </tbody>\n",
       "</table>\n",
       "</div>"
      ],
      "text/plain": [
       "   FamilySize  Survived\n",
       "3           4  0.724138\n",
       "2           3  0.578431\n",
       "1           2  0.552795\n",
       "6           7  0.333333\n",
       "0           1  0.303538\n",
       "4           5  0.200000\n",
       "5           6  0.136364\n",
       "7           8  0.000000\n",
       "8          11  0.000000"
      ]
     },
     "execution_count": 38,
     "metadata": {},
     "output_type": "execute_result"
    }
   ],
   "source": [
    "for dataset in combine:\n",
    "    dataset[\"FamilySize\"]=dataset[\"Parch\"]+dataset[\"SibSp\"]+1\n",
    "train_df[[\"FamilySize\",\"Survived\"]].groupby(\n",
    "    [\"FamilySize\"],as_index=False).mean()\\\n",
    "    .sort_values(by=\"Survived\",ascending=False)"
   ]
  },
  {
   "cell_type": "code",
   "execution_count": 39,
   "id": "3b0c52ba-0462-4870-aa32-760e1353faa2",
   "metadata": {
    "pycharm": {
     "name": "#%%\n"
    }
   },
   "outputs": [
    {
     "data": {
      "text/html": [
       "<div>\n",
       "<style scoped>\n",
       "    .dataframe tbody tr th:only-of-type {\n",
       "        vertical-align: middle;\n",
       "    }\n",
       "\n",
       "    .dataframe tbody tr th {\n",
       "        vertical-align: top;\n",
       "    }\n",
       "\n",
       "    .dataframe thead th {\n",
       "        text-align: right;\n",
       "    }\n",
       "</style>\n",
       "<table border=\"1\" class=\"dataframe\">\n",
       "  <thead>\n",
       "    <tr style=\"text-align: right;\">\n",
       "      <th></th>\n",
       "      <th>Survived</th>\n",
       "    </tr>\n",
       "    <tr>\n",
       "      <th>IsAlone</th>\n",
       "      <th></th>\n",
       "    </tr>\n",
       "  </thead>\n",
       "  <tbody>\n",
       "    <tr>\n",
       "      <th>0</th>\n",
       "      <td>0.505650</td>\n",
       "    </tr>\n",
       "    <tr>\n",
       "      <th>1</th>\n",
       "      <td>0.303538</td>\n",
       "    </tr>\n",
       "  </tbody>\n",
       "</table>\n",
       "</div>"
      ],
      "text/plain": [
       "         Survived\n",
       "IsAlone          \n",
       "0        0.505650\n",
       "1        0.303538"
      ]
     },
     "execution_count": 39,
     "metadata": {},
     "output_type": "execute_result"
    }
   ],
   "source": [
    "# 가족과 함께 탑승, 홀로 탑승\n",
    "# IsAlone이라는 피쳐를 생성\n",
    "for dataset in combine:\n",
    "    dataset[\"IsAlone\"]=0\n",
    "    dataset.loc[dataset[\"FamilySize\"]==1,\"IsAlone\"]=1\n",
    "train_df[[\"IsAlone\",\"Survived\"]].groupby([\"IsAlone\"]).mean()"
   ]
  },
  {
   "cell_type": "code",
   "execution_count": 40,
   "id": "cc679fa6-0186-44e8-997c-7802e5a4e935",
   "metadata": {
    "pycharm": {
     "name": "#%%\n"
    }
   },
   "outputs": [
    {
     "data": {
      "text/html": [
       "<div>\n",
       "<style scoped>\n",
       "    .dataframe tbody tr th:only-of-type {\n",
       "        vertical-align: middle;\n",
       "    }\n",
       "\n",
       "    .dataframe tbody tr th {\n",
       "        vertical-align: top;\n",
       "    }\n",
       "\n",
       "    .dataframe thead th {\n",
       "        text-align: right;\n",
       "    }\n",
       "</style>\n",
       "<table border=\"1\" class=\"dataframe\">\n",
       "  <thead>\n",
       "    <tr style=\"text-align: right;\">\n",
       "      <th></th>\n",
       "      <th>Survived</th>\n",
       "      <th>Pclass</th>\n",
       "      <th>Sex</th>\n",
       "      <th>Age</th>\n",
       "      <th>Fare</th>\n",
       "      <th>Embarked</th>\n",
       "      <th>Title</th>\n",
       "      <th>IsAlone</th>\n",
       "    </tr>\n",
       "  </thead>\n",
       "  <tbody>\n",
       "    <tr>\n",
       "      <th>0</th>\n",
       "      <td>0</td>\n",
       "      <td>3</td>\n",
       "      <td>0</td>\n",
       "      <td>1</td>\n",
       "      <td>7.2500</td>\n",
       "      <td>S</td>\n",
       "      <td>1.0</td>\n",
       "      <td>0</td>\n",
       "    </tr>\n",
       "    <tr>\n",
       "      <th>1</th>\n",
       "      <td>1</td>\n",
       "      <td>1</td>\n",
       "      <td>1</td>\n",
       "      <td>2</td>\n",
       "      <td>71.2833</td>\n",
       "      <td>C</td>\n",
       "      <td>0.0</td>\n",
       "      <td>0</td>\n",
       "    </tr>\n",
       "    <tr>\n",
       "      <th>2</th>\n",
       "      <td>1</td>\n",
       "      <td>3</td>\n",
       "      <td>1</td>\n",
       "      <td>1</td>\n",
       "      <td>7.9250</td>\n",
       "      <td>S</td>\n",
       "      <td>2.0</td>\n",
       "      <td>1</td>\n",
       "    </tr>\n",
       "    <tr>\n",
       "      <th>3</th>\n",
       "      <td>1</td>\n",
       "      <td>1</td>\n",
       "      <td>1</td>\n",
       "      <td>2</td>\n",
       "      <td>53.1000</td>\n",
       "      <td>S</td>\n",
       "      <td>0.0</td>\n",
       "      <td>0</td>\n",
       "    </tr>\n",
       "    <tr>\n",
       "      <th>4</th>\n",
       "      <td>0</td>\n",
       "      <td>3</td>\n",
       "      <td>0</td>\n",
       "      <td>2</td>\n",
       "      <td>8.0500</td>\n",
       "      <td>S</td>\n",
       "      <td>1.0</td>\n",
       "      <td>1</td>\n",
       "    </tr>\n",
       "  </tbody>\n",
       "</table>\n",
       "</div>"
      ],
      "text/plain": [
       "   Survived  Pclass  Sex  Age     Fare Embarked  Title  IsAlone\n",
       "0         0       3    0    1   7.2500        S    1.0        0\n",
       "1         1       1    1    2  71.2833        C    0.0        0\n",
       "2         1       3    1    1   7.9250        S    2.0        1\n",
       "3         1       1    1    2  53.1000        S    0.0        0\n",
       "4         0       3    0    2   8.0500        S    1.0        1"
      ]
     },
     "execution_count": 40,
     "metadata": {},
     "output_type": "execute_result"
    }
   ],
   "source": [
    "# Parch, SibSp, FamilySize 삭제\n",
    "train_df=train_df.drop([\"Parch\",\"SibSp\",\"FamilySize\"],axis=1)\n",
    "test_df=test_df.drop([\"Parch\",\"SibSp\",\"FamilySize\"],axis=1)\n",
    "combine=[train_df,test_df]\n",
    "\n",
    "train_df.head()"
   ]
  },
  {
   "cell_type": "code",
   "execution_count": 41,
   "id": "a575552d-f0b1-4d50-aa4c-3f3e4180b31e",
   "metadata": {
    "pycharm": {
     "name": "#%%\n"
    }
   },
   "outputs": [
    {
     "data": {
      "text/html": [
       "<div>\n",
       "<style scoped>\n",
       "    .dataframe tbody tr th:only-of-type {\n",
       "        vertical-align: middle;\n",
       "    }\n",
       "\n",
       "    .dataframe tbody tr th {\n",
       "        vertical-align: top;\n",
       "    }\n",
       "\n",
       "    .dataframe thead th {\n",
       "        text-align: right;\n",
       "    }\n",
       "</style>\n",
       "<table border=\"1\" class=\"dataframe\">\n",
       "  <thead>\n",
       "    <tr style=\"text-align: right;\">\n",
       "      <th></th>\n",
       "      <th>Survived</th>\n",
       "      <th>Pclass</th>\n",
       "      <th>Sex</th>\n",
       "      <th>Age</th>\n",
       "      <th>Fare</th>\n",
       "      <th>Embarked</th>\n",
       "      <th>Title</th>\n",
       "      <th>IsAlone</th>\n",
       "      <th>Age*Class</th>\n",
       "    </tr>\n",
       "  </thead>\n",
       "  <tbody>\n",
       "    <tr>\n",
       "      <th>0</th>\n",
       "      <td>0</td>\n",
       "      <td>3</td>\n",
       "      <td>0</td>\n",
       "      <td>1</td>\n",
       "      <td>7.2500</td>\n",
       "      <td>S</td>\n",
       "      <td>1.0</td>\n",
       "      <td>0</td>\n",
       "      <td>3</td>\n",
       "    </tr>\n",
       "    <tr>\n",
       "      <th>1</th>\n",
       "      <td>1</td>\n",
       "      <td>1</td>\n",
       "      <td>1</td>\n",
       "      <td>2</td>\n",
       "      <td>71.2833</td>\n",
       "      <td>C</td>\n",
       "      <td>0.0</td>\n",
       "      <td>0</td>\n",
       "      <td>2</td>\n",
       "    </tr>\n",
       "    <tr>\n",
       "      <th>2</th>\n",
       "      <td>1</td>\n",
       "      <td>3</td>\n",
       "      <td>1</td>\n",
       "      <td>1</td>\n",
       "      <td>7.9250</td>\n",
       "      <td>S</td>\n",
       "      <td>2.0</td>\n",
       "      <td>1</td>\n",
       "      <td>3</td>\n",
       "    </tr>\n",
       "    <tr>\n",
       "      <th>3</th>\n",
       "      <td>1</td>\n",
       "      <td>1</td>\n",
       "      <td>1</td>\n",
       "      <td>2</td>\n",
       "      <td>53.1000</td>\n",
       "      <td>S</td>\n",
       "      <td>0.0</td>\n",
       "      <td>0</td>\n",
       "      <td>2</td>\n",
       "    </tr>\n",
       "    <tr>\n",
       "      <th>4</th>\n",
       "      <td>0</td>\n",
       "      <td>3</td>\n",
       "      <td>0</td>\n",
       "      <td>2</td>\n",
       "      <td>8.0500</td>\n",
       "      <td>S</td>\n",
       "      <td>1.0</td>\n",
       "      <td>1</td>\n",
       "      <td>6</td>\n",
       "    </tr>\n",
       "    <tr>\n",
       "      <th>5</th>\n",
       "      <td>0</td>\n",
       "      <td>3</td>\n",
       "      <td>0</td>\n",
       "      <td>1</td>\n",
       "      <td>8.4583</td>\n",
       "      <td>Q</td>\n",
       "      <td>1.0</td>\n",
       "      <td>1</td>\n",
       "      <td>3</td>\n",
       "    </tr>\n",
       "    <tr>\n",
       "      <th>6</th>\n",
       "      <td>0</td>\n",
       "      <td>1</td>\n",
       "      <td>0</td>\n",
       "      <td>3</td>\n",
       "      <td>51.8625</td>\n",
       "      <td>S</td>\n",
       "      <td>1.0</td>\n",
       "      <td>1</td>\n",
       "      <td>3</td>\n",
       "    </tr>\n",
       "    <tr>\n",
       "      <th>7</th>\n",
       "      <td>0</td>\n",
       "      <td>3</td>\n",
       "      <td>0</td>\n",
       "      <td>0</td>\n",
       "      <td>21.0750</td>\n",
       "      <td>S</td>\n",
       "      <td>4.0</td>\n",
       "      <td>0</td>\n",
       "      <td>0</td>\n",
       "    </tr>\n",
       "    <tr>\n",
       "      <th>8</th>\n",
       "      <td>1</td>\n",
       "      <td>3</td>\n",
       "      <td>1</td>\n",
       "      <td>1</td>\n",
       "      <td>11.1333</td>\n",
       "      <td>S</td>\n",
       "      <td>0.0</td>\n",
       "      <td>0</td>\n",
       "      <td>3</td>\n",
       "    </tr>\n",
       "    <tr>\n",
       "      <th>9</th>\n",
       "      <td>1</td>\n",
       "      <td>2</td>\n",
       "      <td>1</td>\n",
       "      <td>0</td>\n",
       "      <td>30.0708</td>\n",
       "      <td>C</td>\n",
       "      <td>0.0</td>\n",
       "      <td>0</td>\n",
       "      <td>0</td>\n",
       "    </tr>\n",
       "  </tbody>\n",
       "</table>\n",
       "</div>"
      ],
      "text/plain": [
       "   Survived  Pclass  Sex  Age     Fare Embarked  Title  IsAlone  Age*Class\n",
       "0         0       3    0    1   7.2500        S    1.0        0          3\n",
       "1         1       1    1    2  71.2833        C    0.0        0          2\n",
       "2         1       3    1    1   7.9250        S    2.0        1          3\n",
       "3         1       1    1    2  53.1000        S    0.0        0          2\n",
       "4         0       3    0    2   8.0500        S    1.0        1          6\n",
       "5         0       3    0    1   8.4583        Q    1.0        1          3\n",
       "6         0       1    0    3  51.8625        S    1.0        1          3\n",
       "7         0       3    0    0  21.0750        S    4.0        0          0\n",
       "8         1       3    1    1  11.1333        S    0.0        0          3\n",
       "9         1       2    1    0  30.0708        C    0.0        0          0"
      ]
     },
     "execution_count": 41,
     "metadata": {},
     "output_type": "execute_result"
    }
   ],
   "source": [
    "# Pclass*Age 새로운 피쳐를 생성\n",
    "for dataset in combine:\n",
    "    dataset[\"Age*Class\"]=dataset[\"Age\"]*dataset[\"Pclass\"]\n",
    "train_df.head(10)"
   ]
  },
  {
   "cell_type": "markdown",
   "id": "5ca4391f-abba-4946-9366-28720a62f7db",
   "metadata": {
    "pycharm": {
     "name": "#%% md\n"
    }
   },
   "source": [
    "### 범주형 피쳐 완성\n",
    "승선항 결측치 처리\n",
    "가장 흔한 값으로 채운다"
   ]
  },
  {
   "cell_type": "code",
   "execution_count": 42,
   "id": "30410cb5-2055-445e-8eeb-35f73e4e702b",
   "metadata": {
    "pycharm": {
     "name": "#%%\n"
    }
   },
   "outputs": [
    {
     "data": {
      "text/plain": [
       "'S'"
      ]
     },
     "execution_count": 42,
     "metadata": {},
     "output_type": "execute_result"
    }
   ],
   "source": [
    "#최빈값 mode()\n",
    "freq_port=train_df.Embarked.dropna().mode()[0]\n",
    "freq_port"
   ]
  },
  {
   "cell_type": "code",
   "execution_count": 43,
   "id": "09243936-d914-468f-8448-4561bdb89b4b",
   "metadata": {
    "pycharm": {
     "name": "#%%\n"
    }
   },
   "outputs": [
    {
     "data": {
      "text/html": [
       "<div>\n",
       "<style scoped>\n",
       "    .dataframe tbody tr th:only-of-type {\n",
       "        vertical-align: middle;\n",
       "    }\n",
       "\n",
       "    .dataframe tbody tr th {\n",
       "        vertical-align: top;\n",
       "    }\n",
       "\n",
       "    .dataframe thead th {\n",
       "        text-align: right;\n",
       "    }\n",
       "</style>\n",
       "<table border=\"1\" class=\"dataframe\">\n",
       "  <thead>\n",
       "    <tr style=\"text-align: right;\">\n",
       "      <th></th>\n",
       "      <th>Survived</th>\n",
       "    </tr>\n",
       "    <tr>\n",
       "      <th>Embarked</th>\n",
       "      <th></th>\n",
       "    </tr>\n",
       "  </thead>\n",
       "  <tbody>\n",
       "    <tr>\n",
       "      <th>C</th>\n",
       "      <td>0.553571</td>\n",
       "    </tr>\n",
       "    <tr>\n",
       "      <th>Q</th>\n",
       "      <td>0.389610</td>\n",
       "    </tr>\n",
       "    <tr>\n",
       "      <th>S</th>\n",
       "      <td>0.339009</td>\n",
       "    </tr>\n",
       "  </tbody>\n",
       "</table>\n",
       "</div>"
      ],
      "text/plain": [
       "          Survived\n",
       "Embarked          \n",
       "C         0.553571\n",
       "Q         0.389610\n",
       "S         0.339009"
      ]
     },
     "execution_count": 43,
     "metadata": {},
     "output_type": "execute_result"
    }
   ],
   "source": [
    "for dataset in combine:\n",
    "    dataset[\"Embarked\"]=dataset[\"Embarked\"].fillna(freq_port)\n",
    "train_df[[\"Embarked\",\"Survived\"]].groupby([\"Embarked\"])\\\n",
    "    .mean().sort_values(by=\"Survived\",ascending=False)"
   ]
  },
  {
   "cell_type": "markdown",
   "id": "b0162cfe-85c0-43ea-8bc7-3c2a3210c5f8",
   "metadata": {
    "pycharm": {
     "name": "#%% md\n"
    }
   },
   "source": [
    "### 변환: 카테고리형 피쳐를 숫자형으로\n",
    "승선항을 숫자형으로 변환"
   ]
  },
  {
   "cell_type": "code",
   "execution_count": 44,
   "id": "29b2c823-16db-4355-99e1-927c76a25a63",
   "metadata": {
    "pycharm": {
     "name": "#%%\n"
    }
   },
   "outputs": [
    {
     "name": "stdout",
     "output_type": "stream",
     "text": [
      "<class 'pandas.core.frame.DataFrame'>\n",
      "RangeIndex: 891 entries, 0 to 890\n",
      "Data columns (total 9 columns):\n",
      " #   Column     Non-Null Count  Dtype  \n",
      "---  ------     --------------  -----  \n",
      " 0   Survived   891 non-null    int64  \n",
      " 1   Pclass     891 non-null    int64  \n",
      " 2   Sex        891 non-null    int64  \n",
      " 3   Age        891 non-null    int64  \n",
      " 4   Fare       891 non-null    float64\n",
      " 5   Embarked   891 non-null    object \n",
      " 6   Title      891 non-null    float64\n",
      " 7   IsAlone    891 non-null    int64  \n",
      " 8   Age*Class  891 non-null    int64  \n",
      "dtypes: float64(2), int64(6), object(1)\n",
      "memory usage: 62.8+ KB\n",
      "<class 'pandas.core.frame.DataFrame'>\n",
      "RangeIndex: 418 entries, 0 to 417\n",
      "Data columns (total 9 columns):\n",
      " #   Column       Non-Null Count  Dtype  \n",
      "---  ------       --------------  -----  \n",
      " 0   PassengerId  418 non-null    int64  \n",
      " 1   Pclass       418 non-null    int64  \n",
      " 2   Sex          418 non-null    int64  \n",
      " 3   Age          418 non-null    int64  \n",
      " 4   Fare         417 non-null    float64\n",
      " 5   Embarked     418 non-null    object \n",
      " 6   Title        418 non-null    float64\n",
      " 7   IsAlone      418 non-null    int64  \n",
      " 8   Age*Class    418 non-null    int64  \n",
      "dtypes: float64(2), int64(6), object(1)\n",
      "memory usage: 29.5+ KB\n"
     ]
    },
    {
     "data": {
      "text/plain": [
       "(None, None)"
      ]
     },
     "execution_count": 44,
     "metadata": {},
     "output_type": "execute_result"
    }
   ],
   "source": [
    "train_df.info(),test_df.info()"
   ]
  },
  {
   "cell_type": "code",
   "execution_count": 45,
   "id": "e3d8591b-cc08-405a-ae14-a72272357f06",
   "metadata": {
    "pycharm": {
     "name": "#%%\n"
    }
   },
   "outputs": [
    {
     "data": {
      "text/html": [
       "<div>\n",
       "<style scoped>\n",
       "    .dataframe tbody tr th:only-of-type {\n",
       "        vertical-align: middle;\n",
       "    }\n",
       "\n",
       "    .dataframe tbody tr th {\n",
       "        vertical-align: top;\n",
       "    }\n",
       "\n",
       "    .dataframe thead th {\n",
       "        text-align: right;\n",
       "    }\n",
       "</style>\n",
       "<table border=\"1\" class=\"dataframe\">\n",
       "  <thead>\n",
       "    <tr style=\"text-align: right;\">\n",
       "      <th></th>\n",
       "      <th>Survived</th>\n",
       "      <th>Pclass</th>\n",
       "      <th>Sex</th>\n",
       "      <th>Age</th>\n",
       "      <th>Fare</th>\n",
       "      <th>Embarked</th>\n",
       "      <th>Title</th>\n",
       "      <th>IsAlone</th>\n",
       "      <th>Age*Class</th>\n",
       "    </tr>\n",
       "  </thead>\n",
       "  <tbody>\n",
       "    <tr>\n",
       "      <th>0</th>\n",
       "      <td>0</td>\n",
       "      <td>3</td>\n",
       "      <td>0</td>\n",
       "      <td>1</td>\n",
       "      <td>7.2500</td>\n",
       "      <td>0</td>\n",
       "      <td>1.0</td>\n",
       "      <td>0</td>\n",
       "      <td>3</td>\n",
       "    </tr>\n",
       "    <tr>\n",
       "      <th>1</th>\n",
       "      <td>1</td>\n",
       "      <td>1</td>\n",
       "      <td>1</td>\n",
       "      <td>2</td>\n",
       "      <td>71.2833</td>\n",
       "      <td>2</td>\n",
       "      <td>0.0</td>\n",
       "      <td>0</td>\n",
       "      <td>2</td>\n",
       "    </tr>\n",
       "    <tr>\n",
       "      <th>2</th>\n",
       "      <td>1</td>\n",
       "      <td>3</td>\n",
       "      <td>1</td>\n",
       "      <td>1</td>\n",
       "      <td>7.9250</td>\n",
       "      <td>0</td>\n",
       "      <td>2.0</td>\n",
       "      <td>1</td>\n",
       "      <td>3</td>\n",
       "    </tr>\n",
       "    <tr>\n",
       "      <th>3</th>\n",
       "      <td>1</td>\n",
       "      <td>1</td>\n",
       "      <td>1</td>\n",
       "      <td>2</td>\n",
       "      <td>53.1000</td>\n",
       "      <td>0</td>\n",
       "      <td>0.0</td>\n",
       "      <td>0</td>\n",
       "      <td>2</td>\n",
       "    </tr>\n",
       "    <tr>\n",
       "      <th>4</th>\n",
       "      <td>0</td>\n",
       "      <td>3</td>\n",
       "      <td>0</td>\n",
       "      <td>2</td>\n",
       "      <td>8.0500</td>\n",
       "      <td>0</td>\n",
       "      <td>1.0</td>\n",
       "      <td>1</td>\n",
       "      <td>6</td>\n",
       "    </tr>\n",
       "  </tbody>\n",
       "</table>\n",
       "</div>"
      ],
      "text/plain": [
       "   Survived  Pclass  Sex  Age     Fare  Embarked  Title  IsAlone  Age*Class\n",
       "0         0       3    0    1   7.2500         0    1.0        0          3\n",
       "1         1       1    1    2  71.2833         2    0.0        0          2\n",
       "2         1       3    1    1   7.9250         0    2.0        1          3\n",
       "3         1       1    1    2  53.1000         0    0.0        0          2\n",
       "4         0       3    0    2   8.0500         0    1.0        1          6"
      ]
     },
     "execution_count": 45,
     "metadata": {},
     "output_type": "execute_result"
    }
   ],
   "source": [
    "for dataset in combine:\n",
    "    dataset[\"Embarked\"]=dataset[\"Embarked\"]\\\n",
    "        .map({\"S\":0,\"Q\":1,\"C\":2}).astype(int)\n",
    "train_df.head()"
   ]
  },
  {
   "cell_type": "code",
   "execution_count": 46,
   "id": "65712b19-c957-44f0-aef3-c9d86b1cad08",
   "metadata": {
    "pycharm": {
     "name": "#%%\n"
    }
   },
   "outputs": [
    {
     "data": {
      "text/plain": [
       "PassengerId    0\n",
       "Pclass         0\n",
       "Sex            0\n",
       "Age            0\n",
       "Fare           1\n",
       "Embarked       0\n",
       "Title          0\n",
       "IsAlone        0\n",
       "Age*Class      0\n",
       "dtype: int64"
      ]
     },
     "execution_count": 46,
     "metadata": {},
     "output_type": "execute_result"
    }
   ],
   "source": [
    "# 요금에서 결측치\n",
    "test_df.isna().sum()"
   ]
  },
  {
   "cell_type": "code",
   "execution_count": 48,
   "id": "d6d21aa7-48a0-417a-86ae-5920bad0230e",
   "metadata": {
    "pycharm": {
     "name": "#%%\n"
    }
   },
   "outputs": [
    {
     "data": {
      "text/plain": [
       "PassengerId    0\n",
       "Pclass         0\n",
       "Sex            0\n",
       "Age            0\n",
       "Fare           0\n",
       "Embarked       0\n",
       "Title          0\n",
       "IsAlone        0\n",
       "Age*Class      0\n",
       "dtype: int64"
      ]
     },
     "execution_count": 48,
     "metadata": {},
     "output_type": "execute_result"
    }
   ],
   "source": [
    "# 요금의 표준편차 중앙값으로 삽입\n",
    "test_df[\"Fare\"].fillna(test_df[\"Fare\"].dropna().median(),inplace=True)\n",
    "test_df.isna().sum()"
   ]
  },
  {
   "cell_type": "code",
   "execution_count": null,
   "id": "d12474e6-e14b-401e-a13b-f208f2c3884f",
   "metadata": {
    "pycharm": {
     "name": "#%%\n"
    }
   },
   "outputs": [],
   "source": [
    "# FareBand 피쳐 생성\n",
    "# cut - 길이를 기준으로 등분\n",
    "# qcut - 양을 기준으로 등분\n",
    "train_df[\"FareBand\"]=pd.qcut(train_df[\"Fare\"],4)\n",
    "train_df[[\"FareBand\",\"Survived\"]].groupby([\"FareBand\"])\\\n",
    "         .mean().sort_values(by=\"FareBand\", ascending=True)"
   ]
  },
  {
   "cell_type": "code",
   "execution_count": null,
   "id": "fd8a749f-e2b8-41ef-9fed-b1d5d561084f",
   "metadata": {
    "pycharm": {
     "name": "#%%\n"
    }
   },
   "outputs": [],
   "source": [
    "# 요금 밴드를 기준으로 요금 피쳐를 서수값으로 대체\n",
    "for dataset in combine:\n",
    "    dataset.loc[dataset[\"Fare\"]<=7.91,\"Fare\"]=0\n",
    "    dataset.loc[(dataset[\"Fare\"]>7.91)\\\n",
    "                &(dataset[\"Fare\"]<=14.454),\"Fare\"]=1\n",
    "    dataset.loc[(dataset[\"Fare\"]>14.454)\\\n",
    "                &(dataset[\"Fare\"]<=31.0),\"Fare\"]=2\n",
    "    dataset.loc[(dataset[\"Fare\"]>31.0)\\\n",
    "                &(dataset[\"Fare\"]<=512.329),\"Fare\"]=3\n",
    "\n",
    "train_df=train_df.drop([\"FareBand\"],axis=1)\n",
    "combine=[train_df,test_df]\n",
    "\n",
    "train_df.sample(10)"
   ]
  },
  {
   "cell_type": "code",
   "execution_count": null,
   "id": "ec0c837e-cf9e-488e-810a-6238caa31a07",
   "metadata": {
    "pycharm": {
     "name": "#%%\n"
    }
   },
   "outputs": [],
   "source": [
    "# test_df 확인\n",
    "test_df.sample(10)"
   ]
  },
  {
   "cell_type": "markdown",
   "id": "206a5d12-d36d-43cb-9527-c0628d067d47",
   "metadata": {
    "pycharm": {
     "name": "#%% md\n"
    }
   },
   "source": [
    "### 모델링, 예측 및 결과\n",
    "- 텐서플로우, 파이토치: 팁러닝 프레임워크\n",
    "- 케라스: 텐서플로우 2.0의 고성능 API\n",
    "- 사이킷런: 머신러닝용 프레임워크"
   ]
  },
  {
   "cell_type": "code",
   "execution_count": null,
   "id": "f197e954-d1cc-4de0-9887-20d6a833940a",
   "metadata": {
    "pycharm": {
     "name": "#%%\n"
    }
   },
   "outputs": [],
   "source": [
    "X_train=train_df.drop(\"Survived\",axis=1)\n",
    "Y_train=train_df[\"Survived\"]\n",
    "X_test=test_df.drop(\"PassengerId\", axis=1).copy()\n",
    "X_train.shape, Y_train.shape, X_test.shape"
   ]
  },
  {
   "cell_type": "code",
   "execution_count": null,
   "id": "076d7409-f565-47d0-8c7e-9ea7fa1a7769",
   "metadata": {
    "pycharm": {
     "name": "#%%\n"
    }
   },
   "outputs": [],
   "source": [
    "# 로지스틱 레그레이션\n",
    "# 렐루, 시그모이드\n",
    "from sklearn.linear_model import LogisticRegression\n",
    "\n",
    "logreg=LogisticRegression()\n",
    "logreg.fit(X_train,Y_train)\n",
    "Y_pred=logreg.predict(X_test)\n",
    "acc_log=round(logreg.score(X_train,Y_train)*100,2)\n",
    "acc_log"
   ]
  },
  {
   "cell_type": "code",
   "execution_count": null,
   "id": "4353e026-0b84-4baf-a21f-51f2dd44b43e",
   "metadata": {
    "pycharm": {
     "name": "#%%\n"
    }
   },
   "outputs": [],
   "source": [
    "#서포트 벡터 머신\n",
    "#분류 알고리즘\n",
    "#이진 데이터를 분류할 때 가장 좋은 성능\n",
    "from sklearn.svm import SVC, LinearSVC\n",
    "svc=SVC()\n",
    "svc.fit(X_train,Y_train)\n",
    "Y_pred=svc.predict(X_test)\n",
    "acc_svc=round(svc.score(X_train,Y_train)*100,2)\n",
    "acc_svc"
   ]
  },
  {
   "cell_type": "code",
   "execution_count": null,
   "id": "ce58a3c8-3a05-4055-87b5-59f694443e47",
   "metadata": {
    "pycharm": {
     "name": "#%%\n"
    }
   },
   "outputs": [],
   "source": [
    "# k-NN 분류와 회귀\n",
    "from sklearn.neighbors import KNeighborsClassifier\n",
    "knn=KNeighborsClassifier()\n",
    "knn.fit(X_train,Y_train)\n",
    "Y_pred=knn.predict(X_test)\n",
    "acc_knn=round(knn.score(X_train,Y_train)*100,2)\n",
    "acc_knn"
   ]
  },
  {
   "cell_type": "code",
   "execution_count": null,
   "id": "a8e574b4-43fb-4956-b439-255418ccf266",
   "metadata": {
    "pycharm": {
     "name": "#%%\n"
    }
   },
   "outputs": [],
   "source": [
    "# 나이브 베이지안\n",
    "from sklearn.naive_bayes import GaussianNB\n",
    "gaussian=GaussianNB()\n",
    "gaussian.fit(X_train,Y_train)\n",
    "Y_pred=gaussian.predict(X_test)\n",
    "acc_gaussian=round(gaussian.score(X_train,Y_train)*100,2)\n",
    "acc_gaussian"
   ]
  },
  {
   "cell_type": "code",
   "execution_count": null,
   "id": "88180a91-ec84-46a3-9713-6bdff55f2223",
   "metadata": {
    "pycharm": {
     "name": "#%%\n"
    }
   },
   "outputs": [],
   "source": [
    "#퍼셉트론\n",
    "from sklearn.linear_model import Perceptron\n",
    "perceptron=Perceptron()\n",
    "perceptron.fit(X_train,Y_train)\n",
    "Y_pred=perceptron.predict(X_test)\n",
    "acc_perceptron=round(perceptron.score(X_train,Y_train)*100,2)\n",
    "acc_perceptron"
   ]
  },
  {
   "cell_type": "code",
   "execution_count": null,
   "id": "09dc738b-39a7-4cb7-9524-e204dacc70c7",
   "metadata": {
    "pycharm": {
     "name": "#%%\n"
    }
   },
   "outputs": [],
   "source": [
    "# LinearSVC\n",
    "linear_svc=LinearSVC()\n",
    "linear_svc.fit(X_train,Y_train)\n",
    "Y_pred=linear_svc.predict(X_test)\n",
    "acc_linear_svc=round(linear_svc.score(X_train,Y_train)*100,2)\n",
    "acc_linear_svc"
   ]
  },
  {
   "cell_type": "code",
   "execution_count": null,
   "id": "530249cc-04c7-4426-8828-c9b907a713c2",
   "metadata": {
    "pycharm": {
     "name": "#%%\n"
    }
   },
   "outputs": [],
   "source": [
    "# 확률적 경사 하강법(Stochastic Gradient Descent)\n",
    "from sklearn.linear_model import SGDClassifier\n",
    "sgd=SGDClassifier()\n",
    "sgd.fit(X_train,Y_train)\n",
    "Y_pred=sgd.predict(X_test)\n",
    "acc_sgd=round(sgd.score(X_train,Y_train)*100,2)\n",
    "acc_sgd"
   ]
  },
  {
   "cell_type": "code",
   "execution_count": null,
   "id": "0d38d45e-56ed-4602-9a30-d1f472538a9e",
   "metadata": {
    "pycharm": {
     "name": "#%%\n"
    }
   },
   "outputs": [],
   "source": [
    "# 결정 트리(Decision Tree)\n",
    "from sklearn.tree import DecisionTreeClassifier\n",
    "decision_tree=DecisionTreeClassifier()\n",
    "decision_tree.fit(X_train,Y_train)\n",
    "Y_pred=decision_tree.predict(X_test)\n",
    "acc_decision_tree=\\\n",
    "    round(decision_tree.score(X_train,Y_train)*100,2)\n",
    "acc_decision_tree"
   ]
  },
  {
   "cell_type": "code",
   "execution_count": null,
   "id": "f964582e-07d4-4dd3-b3cb-495e61b34e03",
   "metadata": {
    "pycharm": {
     "name": "#%%\n"
    }
   },
   "outputs": [],
   "source": [
    "# 랜덤 포레스트(Random Forest)\n",
    "from sklearn.ensemble import RandomForestClassifier\n",
    "random_forest=RandomForestClassifier(n_estimators=100)\n",
    "random_forest.fit(X_train,Y_train)\n",
    "Y_pred=random_forest.predict(X_test)\n",
    "acc_random_forest=\\\n",
    "    round(random_forest.score(X_train,Y_train)*100,2)\n",
    "acc_random_forest"
   ]
  },
  {
   "cell_type": "code",
   "execution_count": null,
   "id": "842715df-7ced-444a-b94d-c165e3b21d63",
   "metadata": {
    "pycharm": {
     "name": "#%%\n"
    }
   },
   "outputs": [],
   "source": [
    "#모델에 대한 평가 순위를 매겨서 도출\n",
    "models=pd.DataFrame({\n",
    "    \"Model\":[\"SVM\",\"KNN\",\"Logistic Regression\",\n",
    "             \"Random Forest\",\"Naive Bayes\",\"Perceptron\",\n",
    "             \"SGD\",\"L-SVC\",\"Decision Tree\"\n",
    "            ],\n",
    "    \"Score\":[\n",
    "                acc_svc,acc_knn,acc_log,acc_random_forest,\n",
    "                acc_gaussian, acc_perceptron, acc_sgd,\n",
    "                acc_linear_svc,acc_decision_tree\n",
    "            ]\n",
    "    })\n",
    "models.sort_values(by=\"Score\", ascending=False)"
   ]
  },
  {
   "cell_type": "markdown",
   "id": "e4617c66-81e5-4c24-87be-422e43f2f4b6",
   "metadata": {
    "pycharm": {
     "name": "#%% md\n"
    }
   },
   "source": [
    "### 모델 결정\n",
    " - 결정 트리는 교육 세트에 과적합하는 단점\n",
    " - 랜덤 포레스트 모델을 사용하기로 함"
   ]
  },
  {
   "cell_type": "code",
   "execution_count": null,
   "id": "5be035ee-6b45-4c1f-8166-2f40ce9eaf45",
   "metadata": {
    "pycharm": {
     "name": "#%%\n"
    }
   },
   "outputs": [],
   "source": [
    "submission=pd.DataFrame({\n",
    "    \"PassengerId\":test_df[\"PassengerId\"],\n",
    "    \"Survived\":Y_pred\n",
    "})\n",
    "submission.head()"
   ]
  },
  {
   "cell_type": "code",
   "execution_count": null,
   "id": "d5f8a244-e2c1-498a-907c-045cacd514c0",
   "metadata": {
    "pycharm": {
     "name": "#%%\n"
    }
   },
   "outputs": [],
   "source": [
    "submission.to_csv(\"submission.csv\",index=False)"
   ]
  },
  {
   "cell_type": "code",
   "execution_count": null,
   "id": "e939e7b2-f50d-4632-9696-e058ff7e3a44",
   "metadata": {
    "pycharm": {
     "name": "#%%\n"
    }
   },
   "outputs": [],
   "source": []
  }
 ],
 "metadata": {
  "kernelspec": {
   "display_name": "Python 3.9.1 64-bit",
   "language": "python",
   "name": "python3"
  },
  "language_info": {
   "codemirror_mode": {
    "name": "ipython",
    "version": 3
   },
   "file_extension": ".py",
   "mimetype": "text/x-python",
   "name": "python",
   "nbconvert_exporter": "python",
   "pygments_lexer": "ipython3",
   "version": "3.9.1"
  },
  "vscode": {
   "interpreter": {
    "hash": "11938c6bc6919ae2720b4d5011047913343b08a43b18698fd82dedb0d4417594"
   }
  }
 },
 "nbformat": 4,
 "nbformat_minor": 5
}
