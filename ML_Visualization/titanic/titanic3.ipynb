{
 "cells": [
  {
   "cell_type": "code",
   "execution_count": 2,
   "metadata": {},
   "outputs": [
    {
     "name": "stdout",
     "output_type": "stream",
     "text": [
      "1.4.4\n",
      "0.12.0\n",
      "1.23.3\n"
     ]
    }
   ],
   "source": [
    "import pandas as pd\n",
    "import seaborn as sns\n",
    "import numpy as np\n",
    "import matplotlib.pyplot as plt\n",
    "%matplotlib inline\n",
    "\n",
    "print(pd.__version__)\n",
    "print(sns.__version__)\n",
    "print(np.__version__)"
   ]
  },
  {
   "cell_type": "code",
   "execution_count": 3,
   "metadata": {},
   "outputs": [
    {
     "name": "stdout",
     "output_type": "stream",
     "text": [
      "(891, 12) (418, 11)\n"
     ]
    }
   ],
   "source": [
    "trdf=pd.read_csv('./dataframes/train.csv')\n",
    "tedf=pd.read_csv('./dataframes/test.csv')\n",
    "print(trdf.shape,tedf.shape)"
   ]
  },
  {
   "cell_type": "code",
   "execution_count": 18,
   "metadata": {},
   "outputs": [
    {
     "name": "stdout",
     "output_type": "stream",
     "text": [
      "<class 'pandas.core.frame.DataFrame'>\n",
      "RangeIndex: 891 entries, 0 to 890\n",
      "Data columns (total 12 columns):\n",
      " #   Column       Non-Null Count  Dtype  \n",
      "---  ------       --------------  -----  \n",
      " 0   PassengerId  891 non-null    int64  \n",
      " 1   Survived     891 non-null    int64  \n",
      " 2   Pclass       891 non-null    int64  \n",
      " 3   Name         891 non-null    object \n",
      " 4   Sex          891 non-null    object \n",
      " 5   Age          714 non-null    float64\n",
      " 6   SibSp        891 non-null    int64  \n",
      " 7   Parch        891 non-null    int64  \n",
      " 8   Ticket       891 non-null    object \n",
      " 9   Fare         891 non-null    float64\n",
      " 10  Cabin        204 non-null    object \n",
      " 11  Embarked     889 non-null    object \n",
      "dtypes: float64(2), int64(5), object(5)\n",
      "memory usage: 83.7+ KB\n",
      "None \n",
      "\n",
      "<class 'pandas.core.frame.DataFrame'>\n",
      "RangeIndex: 418 entries, 0 to 417\n",
      "Data columns (total 11 columns):\n",
      " #   Column       Non-Null Count  Dtype  \n",
      "---  ------       --------------  -----  \n",
      " 0   PassengerId  418 non-null    int64  \n",
      " 1   Pclass       418 non-null    int64  \n",
      " 2   Name         418 non-null    object \n",
      " 3   Sex          418 non-null    object \n",
      " 4   Age          332 non-null    float64\n",
      " 5   SibSp        418 non-null    int64  \n",
      " 6   Parch        418 non-null    int64  \n",
      " 7   Ticket       418 non-null    object \n",
      " 8   Fare         417 non-null    float64\n",
      " 9   Cabin        91 non-null     object \n",
      " 10  Embarked     418 non-null    object \n",
      "dtypes: float64(2), int64(4), object(5)\n",
      "memory usage: 36.0+ KB\n",
      "None \n",
      "\n"
     ]
    }
   ],
   "source": [
    "combine = [trdf,tedf]\n",
    "for dataset in combine:\n",
    "    print(dataset.info(),'\\n')"
   ]
  },
  {
   "cell_type": "code",
   "execution_count": 17,
   "metadata": {},
   "outputs": [
    {
     "name": "stdout",
     "output_type": "stream",
     "text": [
      "     PassengerId  Survived  Pclass  \\\n",
      "673          674         1       2   \n",
      "650          651         0       3   \n",
      "670          671         1       2   \n",
      "634          635         0       3   \n",
      "522          523         0       3   \n",
      "667          668         0       3   \n",
      "826          827         0       3   \n",
      "47            48         1       3   \n",
      "450          451         0       2   \n",
      "416          417         1       2   \n",
      "\n",
      "                                                  Name     Sex   Age  SibSp  \\\n",
      "673                              Wilhelms, Mr. Charles    male  31.0      0   \n",
      "650                                  Mitkoff, Mr. Mito    male   NaN      0   \n",
      "670  Brown, Mrs. Thomas William Solomon (Elizabeth ...  female  40.0      1   \n",
      "634                                 Skoog, Miss. Mabel  female   9.0      3   \n",
      "522                                 Lahoud, Mr. Sarkis    male   NaN      0   \n",
      "667                         Rommetvedt, Mr. Knud Paust    male   NaN      0   \n",
      "826                                       Lam, Mr. Len    male   NaN      0   \n",
      "47                           O'Driscoll, Miss. Bridget  female   NaN      0   \n",
      "450                              West, Mr. Edwy Arthur    male  36.0      1   \n",
      "416    Drew, Mrs. James Vivian (Lulu Thorne Christian)  female  34.0      1   \n",
      "\n",
      "     Parch      Ticket     Fare Cabin Embarked  \n",
      "673      0      244270  13.0000   NaN        S  \n",
      "650      0      349221   7.8958   NaN        S  \n",
      "670      1       29750  39.0000   NaN        S  \n",
      "634      2      347088  27.9000   NaN        S  \n",
      "522      0        2624   7.2250   NaN        C  \n",
      "667      0      312993   7.7750   NaN        S  \n",
      "826      0        1601  56.4958   NaN        S  \n",
      "47       0       14311   7.7500   NaN        Q  \n",
      "450      2  C.A. 34651  27.7500   NaN        S  \n",
      "416      1       28220  32.5000   NaN        S   \n",
      "\n",
      "     PassengerId  Pclass                                              Name  \\\n",
      "336         1228       2                        de Brito, Mr. Jose Joaquim   \n",
      "286         1178       3            Franklin, Mr. Charles (Charles Fardon)   \n",
      "40           932       3                                  Karun, Mr. Franz   \n",
      "86           978       3                                Barry, Miss. Julia   \n",
      "225         1117       3  Moubarek, Mrs. George (Omine Amenia\" Alexander)\"   \n",
      "146         1038       1                       Hilliard, Mr. Herbert Henry   \n",
      "233         1125       3                              Linehan, Mr. Michael   \n",
      "186         1078       2              Phillips, Miss. Alice Frances Louisa   \n",
      "374         1266       1             Dodge, Mrs. Washington (Ruth Vidaver)   \n",
      "328         1220       2                     Clarke, Mr. Charles Valentine   \n",
      "\n",
      "        Sex   Age  SibSp  Parch              Ticket     Fare Cabin Embarked  \n",
      "336    male  32.0      0      0              244360  13.0000   NaN        S  \n",
      "286    male   NaN      0      0  SOTON/O.Q. 3101314   7.2500   NaN        S  \n",
      "40     male  39.0      0      1              349256  13.4167   NaN        C  \n",
      "86   female  27.0      0      0              330844   7.8792   NaN        Q  \n",
      "225  female   NaN      0      2                2661  15.2458   NaN        C  \n",
      "146    male   NaN      0      0               17463  51.8625   E46        S  \n",
      "233    male   NaN      0      0              330971   7.8792   NaN        Q  \n",
      "186  female  21.0      0      1         S.O./P.P. 2  21.0000   NaN        S  \n",
      "374  female  54.0      1      1               33638  81.8583   A34        S  \n",
      "328    male  29.0      1      0                2003  26.0000   NaN        S   \n",
      "\n"
     ]
    }
   ],
   "source": [
    "for dataset in combine:\n",
    "    print(dataset.sample(10))"
   ]
  },
  {
   "cell_type": "code",
   "execution_count": 16,
   "metadata": {},
   "outputs": [
    {
     "name": "stdout",
     "output_type": "stream",
     "text": [
      "PassengerId      0\n",
      "Survived         0\n",
      "Pclass           0\n",
      "Name             0\n",
      "Sex              0\n",
      "Age            177\n",
      "SibSp            0\n",
      "Parch            0\n",
      "Ticket           0\n",
      "Fare             0\n",
      "Cabin          687\n",
      "Embarked         2\n",
      "dtype: int64 \n",
      "\n",
      "PassengerId      0\n",
      "Pclass           0\n",
      "Name             0\n",
      "Sex              0\n",
      "Age             86\n",
      "SibSp            0\n",
      "Parch            0\n",
      "Ticket           0\n",
      "Fare             1\n",
      "Cabin          327\n",
      "Embarked         0\n",
      "dtype: int64 \n",
      "\n"
     ]
    }
   ],
   "source": [
    "for dataset in combine:\n",
    "    print(dataset.isna().sum(), '\\n')\n"
   ]
  },
  {
   "cell_type": "markdown",
   "metadata": {},
   "source": [
    "## 결측치 \n",
    "\n",
    "- 훈련데이터 Age, Cabin, Embarked \n",
    "- 예측데이터  Age, Fare, Cabin"
   ]
  },
  {
   "cell_type": "code",
   "execution_count": 49,
   "metadata": {},
   "outputs": [
    {
     "data": {
      "text/plain": [
       "<seaborn.axisgrid.FacetGrid at 0x7fc8706fdc30>"
      ]
     },
     "execution_count": 49,
     "metadata": {},
     "output_type": "execute_result"
    },
    {
     "data": {
      "image/png": "[encoded data removed]",
      "text/plain": [
       "<Figure size 600x300 with 2 Axes>"
      ]
     },
     "metadata": {},
     "output_type": "display_data"
    }
   ],
   "source": [
    "#나이에 따른 생존률 확인\n",
    "sns.FacetGrid(trdf, col=\"Survived\").map(plt.hist, 'Age',bins=10)\n"
   ]
  },
  {
   "cell_type": "code",
   "execution_count": 31,
   "metadata": {},
   "outputs": [
    {
     "data": {
      "text/plain": [
       "array([nan, 'C85', 'C123', 'E46', 'G6', 'C103', 'D56', 'A6',\n",
       "       'C23 C25 C27', 'B78', 'D33', 'B30', 'C52', 'B28', 'C83', 'F33',\n",
       "       'F G73', 'E31', 'A5', 'D10 D12', 'D26', 'C110', 'B58 B60', 'E101',\n",
       "       'F E69', 'D47', 'B86', 'F2', 'C2', 'E33', 'B19', 'A7', 'C49', 'F4',\n",
       "       'A32', 'B4', 'B80', 'A31', 'D36', 'D15', 'C93', 'C78', 'D35',\n",
       "       'C87', 'B77', 'E67', 'B94', 'C125', 'C99', 'C118', 'D7', 'A19',\n",
       "       'B49', 'D', 'C22 C26', 'C106', 'C65', 'E36', 'C54',\n",
       "       'B57 B59 B63 B66', 'C7', 'E34', 'C32', 'B18', 'C124', 'C91', 'E40',\n",
       "       'T', 'C128', 'D37', 'B35', 'E50', 'C82', 'B96 B98', 'E10', 'E44',\n",
       "       'A34', 'C104', 'C111', 'C92', 'E38', 'D21', 'E12', 'E63', 'A14',\n",
       "       'B37', 'C30', 'D20', 'B79', 'E25', 'D46', 'B73', 'C95', 'B38',\n",
       "       'B39', 'B22', 'C86', 'C70', 'A16', 'C101', 'C68', 'A10', 'E68',\n",
       "       'B41', 'A20', 'D19', 'D50', 'D9', 'A23', 'B50', 'A26', 'D48',\n",
       "       'E58', 'C126', 'B71', 'B51 B53 B55', 'D49', 'B5', 'B20', 'F G63',\n",
       "       'C62 C64', 'E24', 'C90', 'C45', 'E8', 'B101', 'D45', 'C46', 'D30',\n",
       "       'E121', 'D11', 'E77', 'F38', 'B3', 'D6', 'B82 B84', 'D17', 'A36',\n",
       "       'B102', 'B69', 'E49', 'C47', 'D28', 'E17', 'A24', 'C50', 'B42',\n",
       "       'C148'], dtype=object)"
      ]
     },
     "execution_count": 31,
     "metadata": {},
     "output_type": "execute_result"
    }
   ],
   "source": [
    "\n",
    "trdf.Cabin.unique()"
   ]
  },
  {
   "cell_type": "code",
   "execution_count": null,
   "metadata": {},
   "outputs": [],
   "source": []
  },
  {
   "cell_type": "code",
   "execution_count": null,
   "metadata": {},
   "outputs": [],
   "source": []
  },
  {
   "cell_type": "code",
   "execution_count": null,
   "metadata": {},
   "outputs": [],
   "source": [
    "combine=[trdf,tedf]"
   ]
  },
  {
   "cell_type": "code",
   "execution_count": null,
   "metadata": {},
   "outputs": [],
   "source": [
    "for dataset in combine:\n",
    "    dataset['Title'] = dataset.Name.str.extract('([A-Za-z]+)\\.',expand=False)\n",
    "    dataset['Deep'] = dataset.Cabin.str.extract('([A-Za-z])',expand=False)\n",
    "    dataset['FamilySize'] = dataset['SibSp'] + dataset['Parch'] +1"
   ]
  },
  {
   "cell_type": "code",
   "execution_count": null,
   "metadata": {},
   "outputs": [],
   "source": [
    "trdf.info()"
   ]
  },
  {
   "cell_type": "code",
   "execution_count": null,
   "metadata": {},
   "outputs": [],
   "source": [
    "trdf = trdf.drop(['PassengerId','Name','SibSp','Parch','Cabin','Ticket'],axis=1)"
   ]
  },
  {
   "cell_type": "code",
   "execution_count": null,
   "metadata": {},
   "outputs": [],
   "source": [
    "tedf.info()"
   ]
  },
  {
   "cell_type": "code",
   "execution_count": null,
   "metadata": {},
   "outputs": [],
   "source": [
    "tedf = tedf.drop(['Name','SibSp','Parch','Cabin','Ticket'],axis=1)"
   ]
  },
  {
   "cell_type": "code",
   "execution_count": null,
   "metadata": {},
   "outputs": [],
   "source": [
    "combine=[trdf,tedf]"
   ]
  },
  {
   "cell_type": "code",
   "execution_count": null,
   "metadata": {},
   "outputs": [],
   "source": [
    "for dataset in combine:\n",
    "    dataset['Title'] = dataset['Title'].replace(['Capt','Col','Don','Dr','Jonkheer','Major','Rev','Sir'],'Mr')\n",
    "    dataset['Title'] = dataset['Title'].replace(['Countess','Lady','Dona'],'Mrs')\n",
    "    dataset['Title'] = dataset['Title'].replace(['Ms','Mlle','Mme'],'Miss')"
   ]
  },
  {
   "cell_type": "code",
   "execution_count": null,
   "metadata": {},
   "outputs": [],
   "source": [
    "trdf['Embarked'] = trdf['Embarked'].fillna('S')\n",
    "tedf['Fare'] = tedf['Fare'].fillna(8)"
   ]
  },
  {
   "cell_type": "code",
   "execution_count": null,
   "metadata": {},
   "outputs": [],
   "source": [
    "for dataset in combine:\n",
    "    dataset['Title'] = dataset['Title'].map({'Master':0,'Mr':1,'Mrs':2,'Miss':3}).astype(int)\n",
    "    dataset['Sex'] = dataset['Sex'].map({'male':0,'female':1}).astype(int)\n",
    "    dataset['Embarked'] = dataset['Embarked'].map({'S':0,'Q':1,'C':2}).astype(int)"
   ]
  },
  {
   "cell_type": "markdown",
   "metadata": {},
   "source": [
    "## 여기까지 일반 셋팅"
   ]
  },
  {
   "cell_type": "code",
   "execution_count": null,
   "metadata": {},
   "outputs": [],
   "source": [
    "for dataset in combine:\n",
    "    print(dataset.isna().sum())\n"
   ]
  },
  {
   "cell_type": "code",
   "execution_count": null,
   "metadata": {},
   "outputs": [],
   "source": [
    "g=sns.FacetGrid(trdf,row='Sex',col='Pclass')\n",
    "g.map(plt.hist,'Age')"
   ]
  },
  {
   "cell_type": "code",
   "execution_count": null,
   "metadata": {},
   "outputs": [],
   "source": [
    "trdf[(trdf['Pclass']==3) & (trdf['Sex']==0)].Age.mean()"
   ]
  },
  {
   "cell_type": "code",
   "execution_count": null,
   "metadata": {},
   "outputs": [],
   "source": [
    "trdf[(trdf['Age'].isnull())&(trdf['Pclass']==2)]"
   ]
  },
  {
   "cell_type": "code",
   "execution_count": null,
   "metadata": {},
   "outputs": [],
   "source": [
    "#Pclass, Gender 3*2 리스트\n",
    "# 1-0or1\n",
    "# [[0,0,0,],[0,0,0]]\n",
    "guess_ages=np.zeros((2,3))\n",
    "guess_ages"
   ]
  },
  {
   "cell_type": "code",
   "execution_count": null,
   "metadata": {},
   "outputs": [],
   "source": [
    "for dataset in combine:\n",
    "    for i in range(0,2):\n",
    "        for j in range(0,3):\n",
    "            guess_df=dataset[(dataset[\"Sex\"]==i) & (dataset[\"Pclass\"]==j+1)][\"Age\"].dropna()\n",
    "            age_guess=guess_df.mean()\n",
    "            guess_ages[i,j]=age_guess\n",
    "    for i in range(0,2):\n",
    "        for j in range(0,3):\n",
    "            dataset.loc[(dataset.Age.isnull()) & (dataset.Sex==i)&(dataset.Pclass==j+1),\\\n",
    "                \"Age\"]=guess_ages[i,j]\n",
    "    dataset[\"Age\"]=dataset[\"Age\"].astype(int)"
   ]
  },
  {
   "cell_type": "code",
   "execution_count": null,
   "metadata": {},
   "outputs": [],
   "source": [
    "trdf['AgeBand']=pd.cut(trdf['Age'],10)\n",
    "trdf[['AgeBand','Survived']].groupby(['AgeBand'],as_index=False).mean().sort_values(by='AgeBand')"
   ]
  },
  {
   "cell_type": "code",
   "execution_count": null,
   "metadata": {},
   "outputs": [],
   "source": [
    "combine=[trdf,tedf]"
   ]
  },
  {
   "cell_type": "code",
   "execution_count": null,
   "metadata": {},
   "outputs": [],
   "source": [
    "for dataset in combine:\n",
    "    dataset.loc[dataset[\"Age\"]<=8,\"Age\"]=0\n",
    "    dataset.loc[(dataset[\"Age\"]>8)&(dataset[\"Age\"]<=16),\"Age\"]=1\n",
    "    dataset.loc[(dataset[\"Age\"]>16)&(dataset[\"Age\"]<=24),\"Age\"]=2\n",
    "    dataset.loc[(dataset[\"Age\"]>24)&(dataset[\"Age\"]<=32),\"Age\"]=3\n",
    "    dataset.loc[(dataset[\"Age\"]>32)&(dataset[\"Age\"]<=40),\"Age\"]=4\n",
    "    dataset.loc[(dataset[\"Age\"]>40)&(dataset[\"Age\"]<=48),\"Age\"]=5\n",
    "    dataset.loc[(dataset[\"Age\"]>48)&(dataset[\"Age\"]<=56),\"Age\"]=6\n",
    "    dataset.loc[(dataset[\"Age\"]>56)&(dataset[\"Age\"]<=64),\"Age\"]=7\n",
    "    dataset.loc[(dataset[\"Age\"]>64)&(dataset[\"Age\"]<=72),\"Age\"]=8\n",
    "    dataset.loc[(dataset[\"Age\"]>72)&(dataset[\"Age\"]<=80),\"Age\"]=9\n",
    "    dataset.loc[(dataset[\"Age\"]>80),\"Age\"]=10\n",
    "    \n",
    "trdf.head()"
   ]
  },
  {
   "cell_type": "code",
   "execution_count": null,
   "metadata": {},
   "outputs": [],
   "source": [
    "trdf=trdf.drop(['AgeBand'],axis=1)"
   ]
  },
  {
   "cell_type": "code",
   "execution_count": null,
   "metadata": {},
   "outputs": [],
   "source": [
    "trdf.head()"
   ]
  },
  {
   "cell_type": "code",
   "execution_count": null,
   "metadata": {},
   "outputs": [],
   "source": [
    "tedf.head()"
   ]
  },
  {
   "cell_type": "code",
   "execution_count": null,
   "metadata": {},
   "outputs": [],
   "source": [
    "trdf['FareBand']=pd.qcut(trdf['Fare'],4)\n",
    "trdf[['FareBand','Survived']].groupby(['FareBand'],as_index=False).mean().sort_values(by='FareBand')\n"
   ]
  },
  {
   "cell_type": "code",
   "execution_count": null,
   "metadata": {},
   "outputs": [],
   "source": [
    "for dataset in combine:\n",
    "    dataset.loc[dataset[\"Fare\"]<=7.91,\"Fare\"]=0\n",
    "    dataset.loc[(dataset[\"Fare\"]>7.91) & (dataset[\"Fare\"]<=14.454),\"Fare\"]=1\n",
    "    dataset.loc[(dataset[\"Fare\"]>14.454) & (dataset[\"Fare\"]<=31.0),\"Fare\"]=2\n",
    "    dataset.loc[(dataset[\"Fare\"]>31.0) & (dataset[\"Fare\"]<=512.329),\"Fare\"]=3\n"
   ]
  },
  {
   "cell_type": "code",
   "execution_count": null,
   "metadata": {},
   "outputs": [],
   "source": [
    "trdf.head()"
   ]
  },
  {
   "cell_type": "code",
   "execution_count": null,
   "metadata": {},
   "outputs": [],
   "source": [
    "trdf=trdf.drop([\"FareBand\"],axis=1)\n",
    "combine=[trdf,tedf]"
   ]
  },
  {
   "cell_type": "code",
   "execution_count": null,
   "metadata": {},
   "outputs": [],
   "source": [
    "tedf.head()"
   ]
  },
  {
   "cell_type": "code",
   "execution_count": null,
   "metadata": {},
   "outputs": [],
   "source": [
    "X_trdf=trdf.drop('Survived',axis=1)\n",
    "Y_trdf=trdf['Survived']\n",
    "X_tedf=tedf.drop('PassengerId', axis=1).copy()\n",
    "X_trdf.shape, Y_trdf.shape, X_tedf.shape"
   ]
  },
  {
   "cell_type": "markdown",
   "metadata": {},
   "source": [
    "## 로지스틱 레그레이션\n",
    "## 렐루, 시그모이드"
   ]
  },
  {
   "cell_type": "code",
   "execution_count": null,
   "metadata": {},
   "outputs": [],
   "source": [
    "from sklearn.linear_model import LogisticRegression\n",
    "\n",
    "logreg=LogisticRegression()\n",
    "logreg.fit(X_trdf,Y_trdf)\n",
    "Y_pred=logreg.predict(X_tedf)\n",
    "acc_log=round(logreg.score(X_trdf,Y_trdf)*100,2)\n",
    "acc_log"
   ]
  },
  {
   "cell_type": "markdown",
   "metadata": {},
   "source": [
    "### 서포트 벡터 머신\n",
    "\n",
    "- 분류 알고리즘\n",
    "- 이진데이터 분류시 최적 성능"
   ]
  },
  {
   "cell_type": "code",
   "execution_count": null,
   "metadata": {},
   "outputs": [],
   "source": [
    "from sklearn.svm import SVC, LinearSVC\n",
    "svc=SVC()\n",
    "svc.fit(X_trdf,Y_trdf)\n",
    "Y_pred=svc.predict(X_tedf)\n",
    "acc_svc=round(svc.score(X_trdf,Y_trdf)*100,2)\n",
    "acc_svc"
   ]
  },
  {
   "cell_type": "markdown",
   "metadata": {},
   "source": [
    "### k-NN 분류와 회귀"
   ]
  },
  {
   "cell_type": "code",
   "execution_count": null,
   "metadata": {},
   "outputs": [],
   "source": [
    "from sklearn.neighbors import KNeighborsClassifier\n",
    "knn=KNeighborsClassifier()\n",
    "knn.fit(X_trdf,Y_trdf)\n",
    "Y_pred=knn.predict(X_tedf)\n",
    "acc_knn=round(knn.score(X_trdf,Y_trdf)*100,2)\n",
    "acc_knn"
   ]
  },
  {
   "cell_type": "markdown",
   "metadata": {},
   "source": [
    "## 나이브 베이지안"
   ]
  },
  {
   "cell_type": "code",
   "execution_count": null,
   "metadata": {},
   "outputs": [],
   "source": [
    "from sklearn.naive_bayes import GaussianNB \n",
    "gaussian=GaussianNB()\n",
    "gaussian.fit(X_trdf,Y_trdf)\n",
    "Y_pred=gaussian.predict(X_tedf)\n",
    "acc_gaussian=round(gaussian.score(X_trdf,Y_trdf)*100,2)\n",
    "acc_gaussian"
   ]
  },
  {
   "cell_type": "markdown",
   "metadata": {},
   "source": [
    "## 퍼셉트론"
   ]
  },
  {
   "cell_type": "code",
   "execution_count": null,
   "metadata": {},
   "outputs": [],
   "source": [
    "from sklearn.linear_model import Perceptron\n",
    "perceptron=Perceptron()\n",
    "perceptron.fit(X_trdf,Y_trdf)\n",
    "Y_pred=perceptron.predict(X_tedf)\n",
    "acc_perceptron=round(perceptron.score(X_trdf,Y_trdf)*100,2)\n",
    "acc_perceptron"
   ]
  },
  {
   "cell_type": "markdown",
   "metadata": {},
   "source": [
    "## LinearSVC"
   ]
  },
  {
   "cell_type": "code",
   "execution_count": null,
   "metadata": {},
   "outputs": [],
   "source": [
    "linear_svc=LinearSVC()\n",
    "linear_svc.fit(X_trdf,Y_trdf)\n",
    "Y_pred=linear_svc.predict(X_tedf)\n",
    "acc_linear_svc=round(linear_svc.score(X_trdf,Y_trdf)*100,2)\n",
    "acc_linear_svc"
   ]
  },
  {
   "cell_type": "markdown",
   "metadata": {},
   "source": [
    "## 확률적 경사 하강법(Stochastic Gradient Descent)"
   ]
  },
  {
   "cell_type": "code",
   "execution_count": null,
   "metadata": {},
   "outputs": [],
   "source": [
    "from sklearn.linear_model import SGDClassifier\n",
    "sgd=SGDClassifier()\n",
    "sgd.fit(X_trdf,Y_trdf)\n",
    "Y_pred=sgd.predict(X_tedf)\n",
    "acc_sgd=round(sgd.score(X_trdf,Y_trdf)*100,2)\n",
    "acc_sgd"
   ]
  },
  {
   "cell_type": "markdown",
   "metadata": {},
   "source": [
    "## 결정트리(Decision Tree)"
   ]
  },
  {
   "cell_type": "code",
   "execution_count": null,
   "metadata": {},
   "outputs": [],
   "source": [
    "from sklearn.tree import DecisionTreeClassifier \n",
    "decision_tree=DecisionTreeClassifier()\n",
    "decision_tree.fit(X_trdf,Y_trdf)\n",
    "Y_pred=decision_tree.predict(X_tedf)\n",
    "acc_decision_tree=round(decision_tree.score(X_trdf,Y_trdf)*100,2)\n",
    "acc_decision_tree"
   ]
  },
  {
   "cell_type": "markdown",
   "metadata": {},
   "source": [
    "## 랜덤 포레스트(Random Forest)"
   ]
  },
  {
   "cell_type": "code",
   "execution_count": null,
   "metadata": {},
   "outputs": [],
   "source": [
    "from sklearn.ensemble import RandomForestClassifier\n",
    "random_forest=RandomForestClassifier(n_estimators=100)\n",
    "random_forest.fit(X_trdf,Y_trdf)\n",
    "Y_pred=random_forest.predict(X_tedf)\n",
    "acc_random_forest=round(random_forest.score(X_trdf,Y_trdf)*100,2)\n",
    "acc_random_forest"
   ]
  },
  {
   "cell_type": "markdown",
   "metadata": {},
   "source": [
    "## 모델 평가 순위"
   ]
  },
  {
   "cell_type": "code",
   "execution_count": null,
   "metadata": {},
   "outputs": [],
   "source": [
    "models=pd.DataFrame({\n",
    "    'Model':['SVM',\n",
    "             'KNN',\n",
    "             'Logistic Regression',\n",
    "             'Random Forest',\n",
    "             'Naive Bayes',\n",
    "             'Perceptron',\n",
    "             'SGD',\n",
    "             'L-SVC',\n",
    "             'Decision Tree'],\n",
    "    'Score':[\n",
    "        acc_svc,\n",
    "        acc_knn,\n",
    "        acc_log,\n",
    "        acc_random_forest,\n",
    "        acc_gaussian,\n",
    "        acc_perceptron,\n",
    "        acc_sgd,\n",
    "        acc_linear_svc,\n",
    "        acc_decision_tree\n",
    "    ]\n",
    "})\n",
    "models.sort_values(by='Score', ascending=False)"
   ]
  },
  {
   "cell_type": "code",
   "execution_count": null,
   "metadata": {},
   "outputs": [],
   "source": [
    "submission=pd.DataFrame({\n",
    "    'PassengerId':tedf['PassengerId'],\n",
    "    'Survived':Y_pred\n",
    "})"
   ]
  },
  {
   "cell_type": "code",
   "execution_count": null,
   "metadata": {},
   "outputs": [],
   "source": [
    "submission.head()"
   ]
  },
  {
   "cell_type": "code",
   "execution_count": null,
   "metadata": {},
   "outputs": [],
   "source": [
    "submission.to_csv('submission.csv',index=False)"
   ]
  },
  {
   "cell_type": "code",
   "execution_count": null,
   "metadata": {},
   "outputs": [],
   "source": []
  },
  {
   "cell_type": "code",
   "execution_count": null,
   "metadata": {},
   "outputs": [],
   "source": []
  }
 ],
 "metadata": {
  "kernelspec": {
   "display_name": "Python 3.10.6 64-bit",
   "language": "python",
   "name": "python3"
  },
  "language_info": {
   "codemirror_mode": {
    "name": "ipython",
    "version": 3
   },
   "file_extension": ".py",
   "mimetype": "text/x-python",
   "name": "python",
   "nbconvert_exporter": "python",
   "pygments_lexer": "ipython3",
   "version": "3.10.6"
  },
  "orig_nbformat": 4,
  "vscode": {
   "interpreter": {
    "hash": "916dbcbb3f70747c44a77c7bcd40155683ae19c65e1c03b4aa3499c5328201f1"
   }
  }
 },
 "nbformat": 4,
 "nbformat_minor": 2
}
