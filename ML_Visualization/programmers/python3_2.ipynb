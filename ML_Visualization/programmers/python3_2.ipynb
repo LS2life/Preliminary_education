{
 "cells": [
  {
   "cell_type": "markdown",
   "metadata": {},
   "source": [
    "### 문자열 있으면 1 없으면 2 반환"
   ]
  },
  {
   "cell_type": "code",
   "execution_count": 1,
   "metadata": {},
   "outputs": [
    {
     "data": {
      "text/plain": [
       "1"
      ]
     },
     "execution_count": 1,
     "metadata": {},
     "output_type": "execute_result"
    }
   ],
   "source": [
    "def solution (str1,str2):\n",
    "    if str2 in str1:\n",
    "        return 1\n",
    "    else:\n",
    "        return 2\n",
    "\n",
    "a=\"ab6CDE443fgh22iJKlmn1o\"\n",
    "b=\"6CD\"\n",
    "a1=\"ppprrrogrammers\"\n",
    "b1=\"pppp\"\n",
    "\n",
    "solution (a,b)"
   ]
  },
  {
   "cell_type": "markdown",
   "metadata": {},
   "source": [
    "### 짝수 홀수 몇개?"
   ]
  },
  {
   "cell_type": "code",
   "execution_count": 9,
   "metadata": {},
   "outputs": [
    {
     "ename": "TypeError",
     "evalue": "list indices must be integers or slices, not tuple",
     "output_type": "error",
     "traceback": [
      "\u001b[0;31m---------------------------------------------------------------------------\u001b[0m",
      "\u001b[0;31mTypeError\u001b[0m                                 Traceback (most recent call last)",
      "Cell \u001b[0;32mIn [9], line 13\u001b[0m\n\u001b[1;32m     10\u001b[0m num_list\u001b[39m=\u001b[39m[\u001b[39m1\u001b[39m,\u001b[39m2\u001b[39m,\u001b[39m3\u001b[39m,\u001b[39m4\u001b[39m,\u001b[39m5\u001b[39m,]\n\u001b[1;32m     11\u001b[0m n2\u001b[39m=\u001b[39m[\u001b[39m1\u001b[39m,\u001b[39m3\u001b[39m,\u001b[39m5\u001b[39m,\u001b[39m7\u001b[39m]\n\u001b[0;32m---> 13\u001b[0m solution(num_list)\n",
      "Cell \u001b[0;32mIn [9], line 8\u001b[0m, in \u001b[0;36msolution\u001b[0;34m(num_list)\u001b[0m\n\u001b[1;32m      6\u001b[0m \t\u001b[39melif\u001b[39;00m i\u001b[39m%\u001b[39m\u001b[39m2\u001b[39m \u001b[39m!=\u001b[39m \u001b[39m1\u001b[39m:\n\u001b[1;32m      7\u001b[0m \t\tb\u001b[39m=\u001b[39mi\u001b[39m+\u001b[39m\u001b[39m1\u001b[39m\n\u001b[0;32m----> 8\u001b[0m \u001b[39mreturn\u001b[39;00m answer[a,b]\n",
      "\u001b[0;31mTypeError\u001b[0m: list indices must be integers or slices, not tuple"
     ]
    }
   ],
   "source": [
    "def solution(num_list):\n",
    "\tanswer = []\n",
    "\tfor i in num_list:\n",
    "\t\tif i%2==1:\n",
    "\t\t\ta=i+1\n",
    "\t\t\treturn a\n",
    "\t\telif i%2 != 1:\n",
    "\t\t\tb=i+1\n",
    "\t\t\treturn b\n",
    "\treturn answer[a,b]\n",
    "\n",
    "num_list=[1,2,3,4,5,]\n",
    "n2=[1,3,5,7]\n",
    "\n",
    "solution(num_list)"
   ]
  }
 ],
 "metadata": {
  "kernelspec": {
   "display_name": "Python 3.10.6 64-bit",
   "language": "python",
   "name": "python3"
  },
  "language_info": {
   "codemirror_mode": {
    "name": "ipython",
    "version": 3
   },
   "file_extension": ".py",
   "mimetype": "text/x-python",
   "name": "python",
   "nbconvert_exporter": "python",
   "pygments_lexer": "ipython3",
   "version": "3.10.6"
  },
  "orig_nbformat": 4,
  "vscode": {
   "interpreter": {
    "hash": "916dbcbb3f70747c44a77c7bcd40155683ae19c65e1c03b4aa3499c5328201f1"
   }
  }
 },
 "nbformat": 4,
 "nbformat_minor": 2
}
