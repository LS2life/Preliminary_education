{
 "cells": [
  {
   "cell_type": "markdown",
   "metadata": {},
   "source": [
    "### 각도별 대응값 return"
   ]
  },
  {
   "cell_type": "code",
   "execution_count": 7,
   "metadata": {
    "collapsed": false
   },
   "outputs": [
    {
     "data": {
      "text/plain": [
       "4"
      ]
     },
     "execution_count": 7,
     "metadata": {},
     "output_type": "execute_result"
    }
   ],
   "source": [
    "def solution(ang):\n",
    "    if 0<ang<90: return 1\n",
    "    elif ang==90: return 2\n",
    "    elif 90<ang<180: return 3\n",
    "    elif ang==180: return 4\n",
    "    \n",
    "    \n",
    "\n",
    "solution(180)"
   ]
  },
  {
   "cell_type": "markdown",
   "metadata": {},
   "source": [
    "### 입력값 보다 작은 짝수 모두 더하기"
   ]
  },
  {
   "cell_type": "code",
   "execution_count": 8,
   "metadata": {},
   "outputs": [
    {
     "data": {
      "text/plain": [
       "30"
      ]
     },
     "execution_count": 8,
     "metadata": {},
     "output_type": "execute_result"
    }
   ],
   "source": [
    "def solution(i):\n",
    "\tanswer=0\n",
    "\tfor i in range(1,i+1):\n",
    "\t\tif i%2==1:\n",
    "\t\t\tcontinue\n",
    "\t\tanswer += i\n",
    "\treturn answer\n",
    "\n",
    "solution(10)"
   ]
  },
  {
   "cell_type": "markdown",
   "metadata": {},
   "source": [
    "### 배열 평균값"
   ]
  },
  {
   "cell_type": "code",
   "execution_count": 9,
   "metadata": {},
   "outputs": [
    {
     "data": {
      "text/plain": [
       "21"
      ]
     },
     "execution_count": 9,
     "metadata": {},
     "output_type": "execute_result"
    }
   ],
   "source": [
    "a=[1,2,3,4,5,6]\n",
    "b=[5,6,7,8,9,10]\n",
    "def solution(ns):\n",
    "\treturn  sum(ns)\n",
    "\n",
    "solution(a)"
   ]
  },
  {
   "cell_type": "markdown",
   "metadata": {},
   "source": [
    "### b보다 키큰 사람 몇명?"
   ]
  },
  {
   "cell_type": "code",
   "execution_count": 15,
   "metadata": {},
   "outputs": [
    {
     "data": {
      "text/plain": [
       "5"
      ]
     },
     "execution_count": 15,
     "metadata": {},
     "output_type": "execute_result"
    }
   ],
   "source": [
    "def sol(a,b):\n",
    "\tanswer=0\n",
    "\tfor i in a:\n",
    "\t\tif i>b:\n",
    "\t\t\tanswer+=1\n",
    "\treturn answer\n",
    "\n",
    "a=[149, 180, 192, 170, 168, 172]\n",
    "b=167\n",
    "sol(a,b)\n"
   ]
  },
  {
   "cell_type": "markdown",
   "metadata": {},
   "source": [
    "### 중복숫자 갯수"
   ]
  },
  {
   "cell_type": "code",
   "execution_count": 23,
   "metadata": {},
   "outputs": [
    {
     "ename": "UnboundLocalError",
     "evalue": "local variable 'answer' referenced before assignment",
     "output_type": "error",
     "traceback": [
      "\u001b[0;31m---------------------------------------------------------------------------\u001b[0m",
      "\u001b[0;31mUnboundLocalError\u001b[0m                         Traceback (most recent call last)",
      "Cell \u001b[0;32mIn [23], line 9\u001b[0m\n\u001b[1;32m      7\u001b[0m array\u001b[39m=\u001b[39m[\u001b[39m1\u001b[39m, \u001b[39m1\u001b[39m, \u001b[39m1\u001b[39m, \u001b[39m1\u001b[39m, \u001b[39m2\u001b[39m, \u001b[39m3\u001b[39m, \u001b[39m4\u001b[39m, \u001b[39m5\u001b[39m]\n\u001b[1;32m      8\u001b[0m n\u001b[39m=\u001b[39m\u001b[39m1\u001b[39m\n\u001b[0;32m----> 9\u001b[0m solution(array,n)\n",
      "Cell \u001b[0;32mIn [23], line 4\u001b[0m, in \u001b[0;36msolution\u001b[0;34m(array, n)\u001b[0m\n\u001b[1;32m      2\u001b[0m \u001b[39mfor\u001b[39;00m i \u001b[39min\u001b[39;00m array: \n\u001b[1;32m      3\u001b[0m \t\u001b[39mif\u001b[39;00m i\u001b[39m==\u001b[39mn:\n\u001b[0;32m----> 4\u001b[0m \t\tanswer\u001b[39m+\u001b[39m\u001b[39m=\u001b[39m\u001b[39m1\u001b[39m\n\u001b[1;32m      5\u001b[0m \u001b[39mreturn\u001b[39;00m answer\n",
      "\u001b[0;31mUnboundLocalError\u001b[0m: local variable 'answer' referenced before assignment"
     ]
    }
   ],
   "source": [
    "def solution (array,n):\n",
    "\tanswer=0\n",
    "\tfor i in array: \n",
    "\t\tif i==n:\n",
    "\t\t\tanswer+=1\n",
    "\treturn answer \n",
    "\n",
    "array=[1, 1, 1, 1, 2, 3, 4, 5]\n",
    "n=1\n",
    "solution(array,n)\n",
    "\t"
   ]
  }
 ],
 "metadata": {
  "kernelspec": {
   "display_name": "Python 3.10.6 64-bit",
   "language": "python",
   "name": "python3"
  },
  "language_info": {
   "codemirror_mode": {
    "name": "ipython",
    "version": 3
   },
   "file_extension": ".py",
   "mimetype": "text/x-python",
   "name": "python",
   "nbconvert_exporter": "python",
   "pygments_lexer": "ipython3",
   "version": "3.10.6"
  },
  "orig_nbformat": 4,
  "vscode": {
   "interpreter": {
    "hash": "916dbcbb3f70747c44a77c7bcd40155683ae19c65e1c03b4aa3499c5328201f1"
   }
  }
 },
 "nbformat": 4,
 "nbformat_minor": 2
}
